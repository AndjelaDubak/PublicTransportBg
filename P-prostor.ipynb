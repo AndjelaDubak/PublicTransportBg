{
 "cells": [
  {
   "cell_type": "raw",
   "id": "01806574",
   "metadata": {},
   "source": [
    "P-prostor - cvorovi su stajalista, a grane postoje i između stajališta koja nisu susedna, ali su povezana\n",
    "direktno nekom linijom"
   ]
  },
  {
   "cell_type": "code",
   "execution_count": 1,
   "id": "26467d40",
   "metadata": {},
   "outputs": [],
   "source": [
    "import pandas as pd\n",
    "import networkx as nx\n",
    "import matplotlib.pyplot as plt\n",
    "from itertools import combinations\n",
    "\n",
    "# neusmeren beztezinski graf\n",
    "G = nx.Graph()\n",
    "\n",
    "# KREIRANJE CVOROVA\n",
    "\n",
    "# Ucitavanje stajalista\n",
    "stopsPath = \"../Desktop/asmPodaci/stops.txt\"\n",
    "stops = pd.read_csv(stopsPath)\n",
    "\n",
    "for stop in stops.itertuples(index=False):\n",
    "    stop_id = stop.stop_id\n",
    "    stop_name = stop.stop_name\n",
    "    stop_lat = stop.stop_lat\n",
    "    stop_lon = stop.stop_lon\n",
    "    zone_id = stop.zone_id\n",
    "    G.add_node(stop_id, name=stop_name, lat=stop_lat, lon=stop_lon, zone=zone_id)\n",
    "    \n",
    "# KREIRANJE GRANA\n",
    "    \n",
    "tripStopTimesPath = \"../Desktop/sredjeniPodaci/tripStopTimes.txt\"\n",
    "tripStopTimes = pd.read_csv(tripStopTimesPath, sep='\\t')\n",
    "\n",
    "# prethodnom analizom sam zakljucila da sve nocne linije pocinju sa 50, 51 ili 52 i posle imaju vrednost vecu od 15\n",
    "# izbacujem nocne linije jer se u zadatku trazi ispitivanje za dnevni rezim\n",
    "indexes = tripStopTimes[(tripStopTimes['route_id'].astype(str).str.startswith('50')) & (tripStopTimes['route_id'] >= 50015)].index\n",
    "tripStopTimes.drop(indexes , inplace=True)\n",
    "indexes = tripStopTimes[(tripStopTimes['route_id'].astype(str).str.startswith('51')) & (tripStopTimes['route_id'] >= 51015)].index\n",
    "tripStopTimes.drop(indexes , inplace=True)\n",
    "indexes = tripStopTimes[(tripStopTimes['route_id'].astype(str).str.startswith('52')) & (tripStopTimes['route_id'] >= 52015)].index\n",
    "tripStopTimes.drop(indexes , inplace=True)\n",
    "indexes = tripStopTimes[(tripStopTimes['route_id'].astype(str).str.startswith('53')) & (tripStopTimes['route_id'] >= 53015)].index\n",
    "tripStopTimes.drop(indexes , inplace=True)\n",
    "\n",
    "# izbacujem sva stajalista koja koriste samo nocne linije\n",
    "stops = stops[stops['stop_id'].isin(tripStopTimes['stop_id'])]\n",
    "\n",
    "# 2) Dodavanje grana između krajnje tacke jednog smera sa pocetnom tackom drugog smera\n",
    "def merge_endpoints(group):\n",
    "    min_stop = group[group['stop_sequence'] == group['stop_sequence'].min()]['stop_id'].values[0]\n",
    "    max_stop = group[group['stop_sequence'] == group['stop_sequence'].max()]['stop_id'].values[0]\n",
    "    return min_stop, max_stop\n",
    "\n",
    "for route_id, group in tripStopTimes.groupby('route_id'):\n",
    "    # neke linije nemaju dva smera\n",
    "    if len(group['direction_id'].unique()) == 2:\n",
    "        minMaxDirZero = merge_endpoints(group[group['direction_id'] == 0])  # pocetna i krajnja tacka prvog smera\n",
    "        minMaxDirOne = merge_endpoints(group[group['direction_id'] == 1])  # pocetna i krajnja tacka drugog smera\n",
    "        if(minMaxDirZero[0] != minMaxDirOne[1]):\n",
    "            G.add_edge(minMaxDirZero[0], minMaxDirOne[1])\n",
    "        if(minMaxDirZero[1] != minMaxDirOne[0]):\n",
    "            G.add_edge(minMaxDirZero[1], minMaxDirOne[0])\n",
    "\n",
    "# postoje stop_id koji su NaN, pa te vrednosti izbacujem, da se ne bi stvarali dodatni cvorovi\n",
    "tripStopTimes = tripStopTimes.dropna(subset=['stop_id'])\n",
    "\n",
    "# OVO IPAK NE jer je receno u zadatku da skup stajalista moze varirati u zavisnosti od polazaka linijetripStopTimes = tripStopTimes.drop_duplicates(subset=['route_id','stop_id'])\n",
    "# tripStopTimes = tripStopTimes.drop_duplicates(subset=['route_id','stop_id'])\n",
    "\n",
    "# NAPOMENA:\n",
    "# primetila sam da postoje linije koje imaju isto stajliste za stop_sequence = 1 i za poslednji stop_seqence\n",
    "# to je npr route_id = 700\n",
    "# to u L mrezi nije problem jer se spajaju samo susedna stajalista, tj susedni stop_sequence\n",
    "# medjutim, u P mrezi se javljaju self-loops jer se za jedan trip_id desi da ima dva stajalista sa istim brojem pa se oni spoje\n",
    "\n",
    "# sortiram po trip_id i stop_sequence\n",
    "tripStopTimesSorted = tripStopTimes.sort_values(by=['trip_id', 'stop_sequence'])\n",
    "\n",
    "# grupisem\n",
    "tripStopTimesGrouped = tripStopTimesSorted.groupby(['trip_id', 'route_id'])\n",
    "\n",
    "for _, group in tripStopTimesGrouped:\n",
    "    #print(group)\n",
    "    stop_ids = group['stop_id'].to_numpy()\n",
    "    # generisanje svih kombinacija iz grupe\n",
    "    combinations_list = list(combinations(stop_ids, 2))\n",
    "    # Izbacivanje kombinacija sa istim parovima\n",
    "    combinations_list = [(stop_id1, stop_id2) for stop_id1, stop_id2 in combinations_list if stop_id1 != stop_id2]\n",
    "    G.add_edges_from(combinations_list)\n"
   ]
  },
  {
   "cell_type": "code",
   "execution_count": 2,
   "id": "5e4ab691",
   "metadata": {},
   "outputs": [
    {
     "name": "stdout",
     "output_type": "stream",
     "text": [
      "Broj čvorova (stajališta): 3130\n",
      "Broj grana: 84597\n",
      "Čvorovi sa self loop:\n"
     ]
    }
   ],
   "source": [
    "print(\"Broj čvorova (stajališta):\", G.number_of_nodes())\n",
    "print(\"Broj grana:\", G.number_of_edges())\n",
    "\n",
    "# Pronalaženje čvorova sa self loop\n",
    "nodes_with_selfloops = [node for node in G.nodes if G.has_edge(node, node)]\n",
    "\n",
    "# Ispisivanje čvorova sa self loop\n",
    "print(\"Čvorovi sa self loop:\")\n",
    "for node in nodes_with_selfloops:\n",
    "    print(node)"
   ]
  },
  {
   "cell_type": "code",
   "execution_count": 3,
   "id": "9e248f03",
   "metadata": {},
   "outputs": [
    {
     "name": "stdout",
     "output_type": "stream",
     "text": [
      "Br povezanih komponenti:  7\n",
      "Velicine povezanih komp:  [3124, 1, 1, 1, 1, 1, 1]\n"
     ]
    }
   ],
   "source": [
    "# br povezanih komponenti\n",
    "numOfConnectedComponents = nx.number_connected_components(G)\n",
    "print(\"Br povezanih komponenti: \", numOfConnectedComponents)\n",
    "\n",
    "# velicina povezanih komponenata\n",
    "sizeOfConnectedComponents = [len(component) for component in nx.connected_components(G)]\n",
    "print(\"Velicine povezanih komp: \", sizeOfConnectedComponents)"
   ]
  },
  {
   "cell_type": "code",
   "execution_count": 5,
   "id": "b137c267",
   "metadata": {},
   "outputs": [
    {
     "name": "stdout",
     "output_type": "stream",
     "text": [
      "Br povezanih komponenti:  1\n",
      "Velicine povezanih komp:  [3124]\n",
      "Broj čvorova (stajališta): 3124\n",
      "Broj grana: 84597\n"
     ]
    }
   ],
   "source": [
    "# zbog uklanjanja nocnih linija javlja se da su neku cvorovi bez grana, pa ih onda uklanjam jer su bespotrebni\n",
    "nodes_to_remove = [1243, 1245, 1247, 3735, 3737, 3757]\n",
    "G.remove_nodes_from(nodes_to_remove)\n",
    "\n",
    "# PROVERAVAM OPET DA LI IMA NEPOVEZANIH KOMPONENTI\n",
    "# br povezanih komponenti\n",
    "numOfConnectedComponents = nx.number_connected_components(G)\n",
    "print(\"Br povezanih komponenti: \", numOfConnectedComponents)\n",
    "\n",
    "# velicina povezanih komponenata\n",
    "sizeOfConnectedComponents = [len(component) for component in nx.connected_components(G)]\n",
    "print(\"Velicine povezanih komp: \", sizeOfConnectedComponents)\n",
    "\n",
    "print(\"Broj čvorova (stajališta):\", G.number_of_nodes())\n",
    "print(\"Broj grana:\", G.number_of_edges())"
   ]
  },
  {
   "cell_type": "raw",
   "id": "001ee316",
   "metadata": {},
   "source": [
    "1. Gustina mreze\n",
    "neusmerena je mreza pa je max broj mogucih grana = n*(n-1)/2"
   ]
  },
  {
   "cell_type": "code",
   "execution_count": 6,
   "id": "f99d65c4",
   "metadata": {},
   "outputs": [
    {
     "name": "stdout",
     "output_type": "stream",
     "text": [
      "Gustina L mreze: 0.01734211047439119\n"
     ]
    }
   ],
   "source": [
    "numOfNodes = G.number_of_nodes()\n",
    "numOfEdges = G.number_of_edges()\n",
    "\n",
    "density = 2 * numOfEdges / (numOfNodes * (numOfNodes - 1))\n",
    "\n",
    "print(\"Gustina L mreze:\", density)"
   ]
  },
  {
   "cell_type": "raw",
   "id": "c0b7f349",
   "metadata": {},
   "source": [
    "2. Prosecna distanca i dijametar mreze"
   ]
  },
  {
   "cell_type": "code",
   "execution_count": 7,
   "id": "f77a36ab",
   "metadata": {},
   "outputs": [
    {
     "name": "stdout",
     "output_type": "stream",
     "text": [
      "Prosecna distanca: 3.198058229738223\n",
      "Dijametar: 7\n"
     ]
    }
   ],
   "source": [
    "averageDistance = nx.average_shortest_path_length(G)\n",
    "diameter = nx.diameter(G)\n",
    "\n",
    "print(\"Prosecna distanca:\", averageDistance)\n",
    "print(\"Dijametar:\", diameter)"
   ]
  },
  {
   "cell_type": "raw",
   "id": "4c11b575",
   "metadata": {},
   "source": [
    "3. U kojoj meri je mreža povezana i centralizovana? Navesti broj i veličine povezanih \n",
    "komponenata i proceniti da li postoji gigantska komponenta."
   ]
  },
  {
   "cell_type": "code",
   "execution_count": 8,
   "id": "8a905f0a",
   "metadata": {},
   "outputs": [
    {
     "name": "stdout",
     "output_type": "stream",
     "text": [
      "Br povezanih komponenti:  1\n",
      "Velicine povezanih komp:  [3124]\n",
      "Postoji gigantska komp:  True\n",
      "Centralizacija: 0.06563298525149626\n"
     ]
    }
   ],
   "source": [
    "# br povezanih komponenti\n",
    "numOfConnectedComponents = nx.number_connected_components(G)\n",
    "print(\"Br povezanih komponenti: \", numOfConnectedComponents)\n",
    "\n",
    "# velicina povezanih komponenata\n",
    "sizeOfConnectedComponents = [len(component) for component in nx.connected_components(G)]\n",
    "print(\"Velicine povezanih komp: \", sizeOfConnectedComponents)\n",
    "\n",
    "# provera postojanja gigantske komp\n",
    "hasGiantComponent = max(sizeOfConnectedComponents) > 1\n",
    "print(\"Postoji gigantska komp: \", hasGiantComponent)\n",
    "\n",
    "# izracunavanje centralizacije\n",
    "max_degree = max(dict(G.degree()).values()) # sadrzi cvorove kao kljuceve i njihov stepen kao vrednost\n",
    "centralization = (sum([max_degree - degree for degree in dict(G.degree()).values()])) / ((len(G) - 1) * (len(G) - 2))\n",
    "print(\"Centralizacija:\", centralization)"
   ]
  },
  {
   "cell_type": "raw",
   "id": "9bf801ba",
   "metadata": {},
   "source": [
    "4. Koliki je prosečni, a koliki globalni koeficijent klasterizacije L mreze? Kakva je raspodela \n",
    "lokalnog koeficijenta klasterizacije njenih čvorova? Da li je klasterisanje izraženo ili ne?\n",
    "Odgovor dati upoređivanjem sa slučajno generisanim Erdos-Renyi i scale free mrežama istih \n",
    "dimenzija"
   ]
  },
  {
   "cell_type": "code",
   "execution_count": 9,
   "id": "ea1e23c2",
   "metadata": {},
   "outputs": [
    {
     "name": "stdout",
     "output_type": "stream",
     "text": [
      "Prosečni koef klasterizacije: 0.7295185705165781\n",
      "Globalni koef klasterizacije: 0.42525362771880226\n"
     ]
    },
    {
     "data": {
      "image/png": "[encoded data removed]",
      "text/plain": [
       "<Figure size 640x480 with 1 Axes>"
      ]
     },
     "metadata": {},
     "output_type": "display_data"
    },
    {
     "name": "stdout",
     "output_type": "stream",
     "text": [
      "Prosečni koeficijent klasterizacije (Erdos-Renyi): 0.2000228606439173\n",
      "Prosečni koeficijent klasterizacije (Scale-free): 0.011901388265273588\n"
     ]
    }
   ],
   "source": [
    "averageClusteringCoef = nx.average_clustering(G)\n",
    "globalClusteringCoef = nx.transitivity(G) # compute graph transitivity, the fraction of all possible triangles present in G\n",
    "\n",
    "print(\"Prosečni koef klasterizacije:\", averageClusteringCoef)\n",
    "print(\"Globalni koef klasterizacije:\", globalClusteringCoef)\n",
    "\n",
    "localClusteringCoeffs = nx.clustering(G)\n",
    "plt.hist(list(localClusteringCoeffs.values()), bins=10)\n",
    "plt.xlabel('Lokalni koeficijent klasterizacije')\n",
    "plt.ylabel('Broj čvorova')\n",
    "plt.title('Raspodela lokalnog koeficijenta klasterizacije')\n",
    "plt.show()\n",
    "\n",
    "# Generisanje Erdos-Renyi mreže\n",
    "erdosRenyiGraph = nx.erdos_renyi_graph(n=len(G.nodes), p=0.2)\n",
    "erdosRenyiAvgClustering = nx.average_clustering(erdosRenyiGraph)\n",
    "\n",
    "# Generisanje scale-free mreže\n",
    "scaleFreeGraph = nx.barabasi_albert_graph(n=len(G.nodes), m=2)\n",
    "scaleFreeAvgClustering = nx.average_clustering(scaleFreeGraph)\n",
    "\n",
    "print(\"Prosečni koeficijent klasterizacije (Erdos-Renyi):\", erdosRenyiAvgClustering)\n",
    "print(\"Prosečni koeficijent klasterizacije (Scale-free):\", scaleFreeAvgClustering)"
   ]
  },
  {
   "cell_type": "raw",
   "id": "023a63ea",
   "metadata": {},
   "source": [
    "5. Izvršiti asortativnu analizu po stepenu čvora i dati odgovor da li je izraženo asortativno \n",
    "mešanje. Priložiti i vizuelizaciju. "
   ]
  },
  {
   "cell_type": "code",
   "execution_count": 10,
   "id": "678a7f81",
   "metadata": {},
   "outputs": [
    {
     "name": "stdout",
     "output_type": "stream",
     "text": [
      "Koeficijent asortativnosti: 0.09576632159097791\n"
     ]
    }
   ],
   "source": [
    "# izracunavanje koef asortativnosti\n",
    "assortativity = nx.degree_assortativity_coefficient(G)\n",
    "print(\"Koeficijent asortativnosti:\", assortativity)\n",
    "\n",
    "output_path = \"../Desktop/asmPodaci/Pgraph.gml\"\n",
    "\n",
    "nx.write_gml(G, output_path)"
   ]
  },
  {
   "cell_type": "raw",
   "id": "d0ab4017",
   "metadata": {},
   "source": [
    "6. Da li mreža ispoljava fenomen kluba bogatih (eng. rich club phenomenon)?"
   ]
  },
  {
   "cell_type": "code",
   "execution_count": 11,
   "id": "c99563c2",
   "metadata": {},
   "outputs": [
    {
     "data": {
      "image/png": "[encoded data removed]",
      "text/plain": [
       "<Figure size 640x480 with 1 Axes>"
      ]
     },
     "metadata": {},
     "output_type": "display_data"
    },
    {
     "name": "stdout",
     "output_type": "stream",
     "text": [
      "Mreža ne ispoljava rich club phenomenon.\n"
     ]
    }
   ],
   "source": [
    "richClubCoeffs = nx.rich_club_coefficient(G, normalized=False)\n",
    "\n",
    "plt.plot(list(richClubCoeffs.keys()), list(richClubCoeffs.values()), 'bo-')\n",
    "plt.xlabel('Stepen')\n",
    "plt.ylabel('Koeficijent kluba bogatih')\n",
    "plt.title('Fenomen kluba bogatih')\n",
    "plt.show()\n",
    "\n",
    "if max(richClubCoeffs.values()) > 1:\n",
    "    print(\"Mreža ispoljava rich club phenomenon.\")\n",
    "else:\n",
    "    print(\"Mreža ne ispoljava rich club phenomenon.\")"
   ]
  },
  {
   "cell_type": "raw",
   "id": "cef3441e",
   "metadata": {},
   "source": [
    "7. Analizirati stajališta na osnovu tarifne zone kojoj pripadaju. Ispitati da li BGNetL i BGNetP\n",
    "mreže odgovaraju modelu jezgra i periferije (core-periphery model). Smatrati da prva zona\n",
    "pripada jezgru, a ostale periferiji.\n",
    "\n",
    "• Zona 1 - uži centar grada\n",
    "• Zona 2 - šire gradsko područje\n",
    "• Zona 3 - Obrenovac, Barajevo, Sopot i deo Grocke\n",
    "\n",
    "Analiza izvrsena u Gephi alatu"
   ]
  },
  {
   "cell_type": "code",
   "execution_count": 12,
   "id": "d7f7a195",
   "metadata": {},
   "outputs": [
    {
     "name": "stdout",
     "output_type": "stream",
     "text": [
      "Broj stajalista po zonama:\n",
      "zone_id\n",
      "1    1220\n",
      "2    1846\n",
      "3      58\n",
      "Name: stop_id, dtype: int64\n"
     ]
    }
   ],
   "source": [
    "# Grupisanje stajališta po tarifnim zonama\n",
    "grouped_by_zone = stops.groupby('zone_id')\n",
    "\n",
    "# Prikaz broja stajališta po zonama\n",
    "print(\"Broj stajalista po zonama:\")\n",
    "print(grouped_by_zone['stop_id'].count())"
   ]
  },
  {
   "cell_type": "raw",
   "id": "d99d1154",
   "metadata": {},
   "source": [
    "8. Kakva je distribucija čvorova po stepenu i da li prati power law raspodelu?"
   ]
  },
  {
   "cell_type": "code",
   "execution_count": 13,
   "id": "6404afd5",
   "metadata": {},
   "outputs": [
    {
     "data": {
      "image/png": "[encoded data removed]",
      "text/plain": [
       "<Figure size 640x480 with 1 Axes>"
      ]
     },
     "metadata": {},
     "output_type": "display_data"
    }
   ],
   "source": [
    "# Izračunavanje distribucije čvorova po stepenu\n",
    "degree_distribution = dict(G.degree())\n",
    "\n",
    "# Izračunavanje histograma distribucije čvorova po stepenu\n",
    "degree_values = list(degree_distribution.values())\n",
    "plt.hist(degree_values, bins=50, log=True, color='b', alpha=0.7)\n",
    "\n",
    "# Podešavanje grafičkih elemenata\n",
    "plt.xlabel('Stepen čvora')\n",
    "plt.ylabel('Broj čvorova')\n",
    "plt.title('Distribucija čvorova po stepenu')\n",
    "plt.grid(True)\n",
    "\n",
    "# Prikazivanje histograma\n",
    "plt.show()"
   ]
  },
  {
   "cell_type": "raw",
   "id": "833a7321",
   "metadata": {},
   "source": [
    "8. Sprovesti analize centralnosti po stepenu, bliskosti i relacionoj centralnosti. Dati pregled\n",
    "najvažnijih aktera po svakoj od njih."
   ]
  },
  {
   "cell_type": "code",
   "execution_count": 14,
   "id": "4ad7e054",
   "metadata": {},
   "outputs": [
    {
     "name": "stdout",
     "output_type": "stream",
     "text": [
      "Najvažniji akteri po centralnosti po stepenu:\n",
      "[(373, 0.0829330771693884), (148, 0.08197246237592058), (149, 0.0813320525136087), (372, 0.0813320525136087), (374, 0.0813320525136087), (503, 0.08037143772014088), (147, 0.07941082292667306), (404, 0.07941082292667306), (495, 0.07941082292667306), (496, 0.07684918347742555)]\n",
      "Najvažniji akteri po centralnosti po bliskosti:\n",
      "[(182, 0.4270477232325995), (184, 0.4270477232325995), (186, 0.4270477232325995), (2129, 0.42512932208004356), (790, 0.42409016838674635), (792, 0.42409016838674635), (372, 0.42168512017283283), (374, 0.42168512017283283), (188, 0.4180163298085932), (181, 0.4176250334313988)]\n",
      "Najvažniji akteri po relacionoj centralnosti:\n",
      "[(906, 0.05415600326129676), (495, 0.027750750779291747), (856, 0.024257539492962433), (910, 0.01989172142603876), (148, 0.019366171662221023), (221, 0.01708410306101382), (217, 0.01670900350774044), (219, 0.01670900350774044), (104, 0.016233233017946228), (291, 0.01525838800699728)]\n"
     ]
    }
   ],
   "source": [
    "# Analiza centralnosti po stepenu\n",
    "degree_centrality = nx.degree_centrality(G)\n",
    "\n",
    "# centralnost po bliskosti\n",
    "closeness_centrality = nx.closeness_centrality(G)\n",
    "\n",
    "# relacionа centralnost\n",
    "betweenness_centrality = nx.betweenness_centrality(G)\n",
    "\n",
    "# Centralnost po stepenu sortirano\n",
    "sorted_degree_centrality = sorted(degree_centrality.items(), key=lambda x: x[1], reverse=True)\n",
    "print(\"Najvažniji akteri po centralnosti po stepenu:\")\n",
    "print(sorted_degree_centrality[:10])\n",
    "\n",
    "# Centralnost po bliskosti sortirano\n",
    "sorted_closeness_centrality = sorted(closeness_centrality.items(), key=lambda x: x[1], reverse=True)\n",
    "print(\"Najvažniji akteri po centralnosti po bliskosti:\")\n",
    "print(sorted_closeness_centrality[:10])\n",
    "\n",
    "# Relaciona centralnost sortirano\n",
    "sorted_betweenness_centrality = sorted(betweenness_centrality.items(), key=lambda x: x[1], reverse=True)\n",
    "print(\"Najvažniji akteri po relacionoj centralnosti:\")\n",
    "print(sorted_betweenness_centrality[:10])  # Prikaz prvih 10 najvažnijih aktera"
   ]
  },
  {
   "cell_type": "raw",
   "id": "442c6e6e",
   "metadata": {},
   "source": [
    "9. Ko su najvažniji akteri po centralnosti po sopstvenom vektoru? Šta nam to govori o njima?"
   ]
  },
  {
   "cell_type": "code",
   "execution_count": 15,
   "id": "f4faae79",
   "metadata": {},
   "outputs": [
    {
     "name": "stdout",
     "output_type": "stream",
     "text": [
      "Najvažniji čvorovi po centralnosti po sopstvenom vektoru:\n",
      "[(373, 0.08086513646230024), (372, 0.07786457630005214), (374, 0.07786457630005214), (371, 0.07460406402004974), (790, 0.07346769593892652), (792, 0.07346769593892652), (793, 0.07306691823316032), (795, 0.07306691823316032), (404, 0.07266342875510802), (401, 0.07250309852856847)]\n"
     ]
    }
   ],
   "source": [
    "# Računanje vrednosti centralnosti po sopstvenom vektoru\n",
    "eigenvector_centrality = nx.eigenvector_centrality(G)\n",
    "\n",
    "# Sortiranje\n",
    "sorted_eigenvector_centrality = sorted(eigenvector_centrality.items(), key=lambda x: x[1], reverse=True)\n",
    "\n",
    "# Prikazivanje najvažnijih čvorova\n",
    "print(\"Najvažniji čvorovi po centralnosti po sopstvenom vektoru:\")\n",
    "print(sorted_eigenvector_centrality[:10])"
   ]
  },
  {
   "cell_type": "raw",
   "id": "741ced8a",
   "metadata": {},
   "source": [
    "10. Na osnovu prethodna dva pitanja predložiti i konstruisati heuristiku (kompozitnu meru\n",
    "centralnosti) za pronalaženje najvažnijih aktera i pronaći ih. Obratiti pažnju na tip mreže\n",
    "koji se analizira (usmerena ili neusmerena) i, shodno tome, prilagoditi koliko različite\n",
    "mrežne metrike utiču na heuristiku."
   ]
  },
  {
   "cell_type": "code",
   "execution_count": 16,
   "id": "937f78e3",
   "metadata": {},
   "outputs": [
    {
     "name": "stdout",
     "output_type": "stream",
     "text": [
      "Najvažniji čvorovi prema kompozitnoj meri centralnosti:\n",
      "[(372, 0.3258483191836897), (374, 0.3258483191836897), (373, 0.32207088376255066), (148, 0.31757874712174994), (503, 0.31710382078569577), (404, 0.3163323096070915), (495, 0.315420210244794), (790, 0.31085198509876827), (792, 0.31085198509876827), (149, 0.3105787938254299)]\n"
     ]
    }
   ],
   "source": [
    "weight_degree = 1\n",
    "weight_closeness = 0.5\n",
    "weight_betweenness = 0.8\n",
    "weight_eigenvector = 0.3\n",
    "\n",
    "# Izračunavanje kompozitne mere centralnosti za svaki čvor\n",
    "composite_centrality = {}\n",
    "for node in G.nodes():\n",
    "    composite_centrality[node] = (\n",
    "        weight_degree * degree_centrality[node] +\n",
    "        weight_closeness * closeness_centrality[node] +\n",
    "        weight_betweenness * betweenness_centrality[node] +\n",
    "        weight_eigenvector * eigenvector_centrality[node]\n",
    "    )\n",
    "\n",
    "# Sortiranje čvorova\n",
    "sorted_composite_centrality = sorted(composite_centrality.items(), key=lambda x: x[1], reverse=True)\n",
    "\n",
    "# Prikazivanje najvažnijih čvorova\n",
    "print(\"Najvažniji čvorovi prema kompozitnoj meri centralnosti:\")\n",
    "print(sorted_composite_centrality[:10])"
   ]
  },
  {
   "cell_type": "raw",
   "id": "4cb8414f",
   "metadata": {},
   "source": [
    "1. Geodetska udaljenost + Similiraty overlap"
   ]
  },
  {
   "cell_type": "code",
   "execution_count": 17,
   "id": "9d76a803",
   "metadata": {},
   "outputs": [
    {
     "name": "stdout",
     "output_type": "stream",
     "text": [
      "[[0.00000000e+00 4.32348168e-04 7.86563225e-01 ... 4.28087477e-02\n",
      "  4.22962100e-02 4.23618800e-02]\n",
      " [4.32348168e-04 0.00000000e+00 1.38801527e-02 ... 4.26747853e-02\n",
      "  4.21639010e-02 4.22285503e-02]\n",
      " [7.86563225e-01 1.38801527e-02 0.00000000e+00 ... 4.27352827e-02\n",
      "  4.22241430e-02 4.22889485e-02]\n",
      " ...\n",
      " [4.28087477e-02 4.26747853e-02 4.27352827e-02 ... 0.00000000e+00\n",
      "  7.79486825e-01 7.79398691e-01]\n",
      " [4.22962100e-02 4.21639010e-02 4.22241430e-02 ... 7.79486825e-01\n",
      "  0.00000000e+00 7.79070810e-01]\n",
      " [4.23618800e-02 4.22285503e-02 4.22889485e-02 ... 7.79398691e-01\n",
      "  7.79070810e-01 0.00000000e+00]]\n"
     ]
    }
   ],
   "source": [
    "import numpy as np\n",
    "import networkx as nx\n",
    "\n",
    "# fja za izracunavanje udaljenosti između geografskih koordinata\n",
    "def geographic_distance(lat1, lon1, lat2, lon2):\n",
    "    return ((lat1 - lat2)**2 + (lon1 - lon2)**2)**0.5\n",
    "\n",
    "# fja za izracunavanje slicnosti stepena cvora (npr. Jaccardova sličnost)\n",
    "def degree_similarity(graph, node1, node2):\n",
    "    neighbors1 = set(graph.neighbors(node1))  # Skupovi svih suseda čvora\n",
    "    neighbors2 = set(graph.neighbors(node2))\n",
    "    intersection = neighbors1.intersection(neighbors2)  # Zajednički susedi ta dva čvora\n",
    "    if len(neighbors1) == 0 or len(neighbors2) == 0:\n",
    "        return 0\n",
    "    return len(intersection) / min(len(neighbors1), len(neighbors2))  # Similarity overlap\n",
    "\n",
    "# Funkcija za izračunavanje kombinovane sličnosti\n",
    "def combined_similarity(graph, node1, node2, alpha=0.2):\n",
    "    lat1, lon1 = graph.nodes[node1]['lat'], graph.nodes[node1]['lon']\n",
    "    lat2, lon2 = graph.nodes[node2]['lat'], graph.nodes[node2]['lon']\n",
    "    \n",
    "    geo_dist = geographic_distance(lat1, lon1, lat2, lon2)\n",
    "    deg_sim = degree_similarity(graph, node1, node2)\n",
    "    \n",
    "    combined_sim = alpha * geo_dist + (1 - alpha) * deg_sim\n",
    "    return combined_sim\n",
    "\n",
    "# Izračunavanje matrice sličnosti\n",
    "num_nodes = len(G.nodes)\n",
    "similarity_matrix = np.zeros((num_nodes, num_nodes))\n",
    "node_pair_matrix = [[None] * num_nodes for _ in range(num_nodes)]\n",
    "\n",
    "# Prolazimo kroz sve parove čvorova i računamo sličnost samo jednom za svaki par\n",
    "for i, node1 in enumerate(G.nodes):\n",
    "    for j, node2 in enumerate(G.nodes):\n",
    "        if i < j:\n",
    "            similarity = combined_similarity(G, node1, node2)\n",
    "            similarity_matrix[i, j] = similarity\n",
    "            similarity_matrix[j, i] = similarity  # Simetrična matrica\n",
    "            node_pair_matrix[i][j] = (node1, node2)\n",
    "            node_pair_matrix[j][i] = (node1, node2)\n",
    "\n",
    "# Prikaz matrice sličnosti\n",
    "print(similarity_matrix)"
   ]
  },
  {
   "cell_type": "code",
   "execution_count": 18,
   "id": "524fdcd5",
   "metadata": {},
   "outputs": [],
   "source": [
    "similarity_matrixDF = pd.DataFrame(similarity_matrix)\n",
    "similarity_matrixDF.to_csv(\"similarity_matrixP.txt\", sep='\\t')\n",
    "node_pair_matrixDF = pd.DataFrame(node_pair_matrix)\n",
    "node_pair_matrixDF.to_csv(\"node_pair_matrixP.txt\", sep='\\t')"
   ]
  },
  {
   "cell_type": "code",
   "execution_count": 19,
   "id": "1dc740af",
   "metadata": {},
   "outputs": [
    {
     "name": "stderr",
     "output_type": "stream",
     "text": [
      "<class 'networkx.utils.decorators.argmap'> compilation 50:4: FutureWarning: laplacian_matrix will return a scipy.sparse array instead of a matrix in Networkx 3.0.\n"
     ]
    },
    {
     "name": "stdout",
     "output_type": "stream",
     "text": [
      "  (0, 0)\t59\n",
      "  (0, 1)\t-1\n",
      "  (0, 2)\t-1\n",
      "  (0, 4)\t-1\n",
      "  (0, 6)\t-1\n",
      "  (0, 8)\t-1\n",
      "  (0, 10)\t-1\n",
      "  (0, 12)\t-1\n",
      "  (0, 14)\t-1\n",
      "  (0, 16)\t-1\n",
      "  (0, 18)\t-1\n",
      "  (0, 20)\t-1\n",
      "  (0, 22)\t-1\n",
      "  (0, 24)\t-1\n",
      "  (0, 26)\t-1\n",
      "  (0, 28)\t-1\n",
      "  (0, 30)\t-1\n",
      "  (0, 31)\t-1\n",
      "  (0, 33)\t-1\n",
      "  (0, 41)\t-1\n",
      "  (0, 43)\t-1\n",
      "  (0, 57)\t-1\n",
      "  (0, 59)\t-1\n",
      "  (0, 62)\t-1\n",
      "  (0, 64)\t-1\n",
      "  :\t:\n",
      "  (3123, 2836)\t-1\n",
      "  (3123, 2838)\t-1\n",
      "  (3123, 2840)\t-1\n",
      "  (3123, 2842)\t-1\n",
      "  (3123, 2844)\t-1\n",
      "  (3123, 2846)\t-1\n",
      "  (3123, 2848)\t-1\n",
      "  (3123, 2850)\t-1\n",
      "  (3123, 2876)\t-1\n",
      "  (3123, 2878)\t-1\n",
      "  (3123, 2880)\t-1\n",
      "  (3123, 2881)\t-1\n",
      "  (3123, 3021)\t-1\n",
      "  (3123, 3022)\t-1\n",
      "  (3123, 3113)\t-1\n",
      "  (3123, 3114)\t-1\n",
      "  (3123, 3115)\t-1\n",
      "  (3123, 3116)\t-1\n",
      "  (3123, 3117)\t-1\n",
      "  (3123, 3118)\t-1\n",
      "  (3123, 3119)\t-1\n",
      "  (3123, 3120)\t-1\n",
      "  (3123, 3121)\t-1\n",
      "  (3123, 3122)\t-1\n",
      "  (3123, 3123)\t38\n",
      "[[59 -1 -1 ...  0  0  0]\n",
      " [-1 58  0 ...  0  0  0]\n",
      " [-1  0 58 ...  0  0  0]\n",
      " ...\n",
      " [ 0  0  0 ... 38 -1 -1]\n",
      " [ 0  0  0 ... -1 38 -1]\n",
      " [ 0  0  0 ... -1 -1 38]]\n"
     ]
    }
   ],
   "source": [
    "# Generisanje Laplasijan matrice\n",
    "laplacian_matrix = nx.laplacian_matrix(G)\n",
    "print(laplacian_matrix)\n",
    "L_array = nx.laplacian_matrix(G).toarray()\n",
    "print(L_array)\n",
    "laplacian_matrixDF = pd.DataFrame(laplacian_matrix)\n",
    "laplacian_matrixDF.to_csv(\"laplacian_matrixL.txt\", sep='\\t')\n",
    "\n",
    "# Pretvaranje Laplasijan matrice u graf Laplasijane\n",
    "#L_graph = nx.from_scipy_sparse_array(L)\n",
    "#print(L_graph)\n",
    "# Iscrtajte graf Laplasijane\n",
    "#nx.draw(L_graph, with_labels=True, node_color='lightblue', font_weight='bold')\n",
    "#plt.show()"
   ]
  },
  {
   "cell_type": "raw",
   "id": "1de37ea8",
   "metadata": {},
   "source": [
    "2. Sprovesti sprektralnu analizu i proceniti potencijalne kandidate za broj komuna u mreži.\n",
    "Uporediti rezultat sa dendogramom konstruisanim Girvan-Newman metodom."
   ]
  },
  {
   "cell_type": "code",
   "execution_count": 20,
   "id": "24d0ae58",
   "metadata": {},
   "outputs": [],
   "source": [
    "from scipy.linalg import eigh\n",
    "\n",
    "eigenvalues, eigenvectors = np.linalg.eig(L_array)\n",
    "#eigenvalues, eigenvectors = eigh(L_array)"
   ]
  },
  {
   "cell_type": "code",
   "execution_count": 43,
   "id": "781940c7",
   "metadata": {},
   "outputs": [
    {
     "name": "stdout",
     "output_type": "stream",
     "text": [
      "Sopstvene vrednosti:\n",
      "[1.13686838e-13+0.j 7.46965257e-01+0.j 8.91455775e-01+0.j ...\n",
      " 2.57003094e+02+0.j 2.58678528e+02+0.j 2.61668910e+02+0.j]\n",
      "\n",
      "Sopstveni vektori:\n",
      "[[-1.78914067e-02+0.j -1.15059958e-03+0.j -4.02259634e-03+0.j ...\n",
      "   1.84965580e-04+0.j  2.23284387e-03+0.j -8.89068142e-05+0.j]\n",
      " [-1.78914067e-02+0.j -1.16153232e-03+0.j -3.96030334e-03+0.j ...\n",
      "  -2.39205202e-04+0.j -4.42975708e-03+0.j  6.97944670e-05+0.j]\n",
      " [-1.78914067e-02+0.j -1.15078409e-03+0.j -4.02154246e-03+0.j ...\n",
      "   1.87118697e-04+0.j  2.26637845e-03+0.j -8.96937540e-05+0.j]\n",
      " ...\n",
      " [-1.78914067e-02+0.j -1.74698044e-03+0.j -6.67124488e-03+0.j ...\n",
      "  -5.48567407e-07+0.j -2.52719201e-06+0.j  5.71157198e-07+0.j]\n",
      " [-1.78914067e-02+0.j -1.74698044e-03+0.j -6.67124488e-03+0.j ...\n",
      "  -5.48567407e-07+0.j -2.52719201e-06+0.j  5.71157198e-07+0.j]\n",
      " [-1.78914067e-02+0.j -1.74698044e-03+0.j -6.67124488e-03+0.j ...\n",
      "  -5.48567407e-07+0.j -2.52719201e-06+0.j  5.71157198e-07+0.j]]\n"
     ]
    }
   ],
   "source": [
    "sorted_indices = np.argsort(eigenvalues)\n",
    "eigenvalues = eigenvalues[sorted_indices]\n",
    "eigenvectors = eigenvectors[:, sorted_indices]\n",
    "\n",
    "# Prikaz rezultata\n",
    "print(\"Sopstvene vrednosti:\")\n",
    "print(eigenvalues)\n",
    "print(\"\\nSopstveni vektori:\")\n",
    "print(eigenvectors)"
   ]
  },
  {
   "cell_type": "code",
   "execution_count": 21,
   "id": "161352a3",
   "metadata": {},
   "outputs": [
    {
     "data": {
      "image/png": "[encoded data removed]",
      "text/plain": [
       "<Figure size 640x480 with 1 Axes>"
      ]
     },
     "metadata": {},
     "output_type": "display_data"
    }
   ],
   "source": [
    "import numpy as np\n",
    "import matplotlib.pyplot as plt\n",
    "from sklearn.cluster import KMeans\n",
    "\n",
    "# Pravim praznu listu za vrednosti inercije\n",
    "inertia_values = []\n",
    "\n",
    "# Pokušavam različite brojeve klastera od 2 do 10\n",
    "for num_clusters in range(2, 11):\n",
    "    kmeans = KMeans(n_clusters=num_clusters)\n",
    "    kmeans.fit(similarity_matrix)\n",
    "    inertia_values.append(kmeans.inertia_)\n",
    "\n",
    "# Prikazujem graf vrednosti inercije u zavisnosti od broja klastera\n",
    "plt.plot(range(2, 11), inertia_values, marker='o')\n",
    "plt.title('Graf vrednosti inercije')\n",
    "plt.xlabel('Broj klastera')\n",
    "plt.ylabel('Inercija')\n",
    "plt.show()\n"
   ]
  },
  {
   "cell_type": "raw",
   "id": "a76360ae",
   "metadata": {},
   "source": [
    "3. Izvršiti spektralno klasterisanje na osnovu konstruisanih funkcija sličnosti i procenjenog\n",
    "broja klastera. Vizuelizovati klasterisanje na mapi gradskog saobraćaja, tako što će se\n",
    "stanice koje su svrstane u isti klaster crtati istom bojom. Izabrati boje koje daju dobar\n",
    "kontrast u odnosu na mapu i boje drugih klastera."
   ]
  },
  {
   "cell_type": "code",
   "execution_count": 22,
   "id": "8ba10b6b",
   "metadata": {},
   "outputs": [
    {
     "name": "stdout",
     "output_type": "stream",
     "text": [
      "Rezultati klasterisanja:\n",
      "[2 2 2 ... 4 4 4]\n",
      "3124\n"
     ]
    }
   ],
   "source": [
    "from sklearn.cluster import SpectralClustering\n",
    "\n",
    "# Spektralno klasterisanje\n",
    "spectral_clustering = SpectralClustering(n_clusters=7, affinity='precomputed_nearest_neighbors')\n",
    "cluster_labels = spectral_clustering.fit_predict(similarity_matrix)\n",
    "\n",
    "# Rezultati klasterisanja\n",
    "print(\"Rezultati klasterisanja:\")\n",
    "print(cluster_labels)\n",
    "print(len(cluster_labels))\n",
    "\n",
    "file_name = \"rezultati_klasterisanja.txt\"\n",
    "\n",
    "with open(file_name, \"w\") as file:\n",
    "    for label in cluster_labels:\n",
    "        file.write(f\"{label}\\n\")"
   ]
  },
  {
   "cell_type": "code",
   "execution_count": 26,
   "id": "16a76a5a",
   "metadata": {},
   "outputs": [],
   "source": [
    "import folium\n",
    "import pandas as pd\n",
    "\n",
    "stopsPath = \"../Desktop/asmPodaci/stops.txt\"\n",
    "data = pd.read_csv(stopsPath)\n",
    "stop_ids_to_remove = [1243, 1245, 1247, 3735, 3737, 3757]\n",
    "data = data[~data['stop_id'].isin(stop_ids_to_remove)]\n",
    "data['cluster_label'] = cluster_labels\n",
    "#print(data)\n",
    "\n",
    "m = folium.Map(location=[data['stop_lat'].mean(), data['stop_lon'].mean()], zoom_start=13)\n",
    "\n",
    "cluster_colors = ['#e6194B', '#3cb44b', '#ffe119', '#4363d8', '#f58231', '#911eb4', '#42d4f4']\n",
    "\n",
    "for index, row in data.iterrows():\n",
    "    label = row['cluster_label']\n",
    "    color = cluster_colors[label]\n",
    "    folium.CircleMarker(\n",
    "        location=[row['stop_lat'], row['stop_lon']],\n",
    "        radius=5,\n",
    "        color=color,\n",
    "        fill=True,\n",
    "        fill_color=color,\n",
    "        fill_opacity=0.7,\n",
    "        popup=row['stop_name']\n",
    "    ).add_to(m)\n",
    "\n",
    "m.save(\"Pmreza_mapa.html\")\n"
   ]
  },
  {
   "cell_type": "code",
   "execution_count": null,
   "id": "39f10850",
   "metadata": {},
   "outputs": [],
   "source": []
  }
 ],
 "metadata": {
  "kernelspec": {
   "display_name": "Python 3 (ipykernel)",
   "language": "python",
   "name": "python3"
  },
  "language_info": {
   "codemirror_mode": {
    "name": "ipython",
    "version": 3
   },
   "file_extension": ".py",
   "mimetype": "text/x-python",
   "name": "python",
   "nbconvert_exporter": "python",
   "pygments_lexer": "ipython3",
   "version": "3.9.13"
  }
 },
 "nbformat": 4,
 "nbformat_minor": 5
}
