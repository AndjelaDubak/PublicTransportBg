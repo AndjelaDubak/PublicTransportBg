{
 "cells": [
  {
   "cell_type": "raw",
   "id": "b123c642",
   "metadata": {},
   "source": [
    "C-prostor - cvorovi su linije, a grane postoje izmedju dve linije koje imaju bar jedno zajednicko stajaliste"
   ]
  },
  {
   "cell_type": "code",
   "execution_count": 9,
   "id": "2c504c58",
   "metadata": {},
   "outputs": [
    {
     "name": "stdout",
     "output_type": "stream",
     "text": [
      "1635090\n",
      "1635090\n"
     ]
    }
   ],
   "source": [
    "import pandas as pd\n",
    "import networkx as nx\n",
    "import matplotlib.pyplot as plt\n",
    "from itertools import combinations\n",
    "\n",
    "# neusmeren beztezinski graf\n",
    "G = nx.Graph()\n",
    "\n",
    "# KREIRANJE CVOROVA\n",
    "\n",
    "# Ucitavanje linija\n",
    "routesPath = \"../Desktop/asmPodaci/routes.txt\"\n",
    "routes = pd.read_csv(routesPath)\n",
    "\n",
    "for route in routes.itertuples(index=False):\n",
    "    route_id = route.route_id\n",
    "    route_short_name = route.route_short_name\n",
    "    route_long_name = route.route_long_name\n",
    "    route_type = route.route_type\n",
    "    G.add_node(route_id, shortName=route_short_name, name=route_long_name, routeType=route_type)\n",
    "    \n",
    "# KREIRANJE GRANA\n",
    "\n",
    "tripStopTimesPath = \"../Desktop/sredjeniPodaci/tripStopTimes.txt\"\n",
    "tripStopTimes = pd.read_csv(tripStopTimesPath, sep='\\t')\n",
    "\n",
    "# izbacujem nocne linije jer se u zadatku trazi ispitivanje za dnevni rezim\n",
    "tripStopTimes = tripStopTimes[~(((tripStopTimes['route_id'].astype(str).str.startswith('50')) & (tripStopTimes['route_id'] >= 50015)) |\n",
    "                    ((tripStopTimes['route_id'].astype(str).str.startswith('51')) & (tripStopTimes['route_id'] >= 51015)) |\n",
    "                    ((tripStopTimes['route_id'].astype(str).str.startswith('52')) & (tripStopTimes['route_id'] >= 52015)) |\n",
    "                    ((tripStopTimes['route_id'].astype(str).str.startswith('53')) & (tripStopTimes['route_id'] >= 53015)))]\n",
    "\n",
    "tripStopTimes = tripStopTimes.dropna(subset=['stop_id'])\n",
    "\n",
    "# grupisem po stop_id i onda pravim tuplove svih tih pa ih onda spajam\n",
    "groupedTripStopStopTimes = tripStopTimes.groupby('stop_id')\n",
    "\n",
    "for _, group in groupedTripStopStopTimes:\n",
    "    route_ids = group['route_id'].unique()  # Svi jedinstveni route_id za ovu grupu\n",
    "    route_combinations = combinations(route_ids, 2)  # Svi parovi route_id u ovoj grupi\n",
    "    \n",
    "    # dodavanje grana u graf\n",
    "    for route_pair in route_combinations:\n",
    "        if G.has_edge(route_pair[0], route_pair[1]):\n",
    "            G.edges[route_pair[0], route_pair[1]]['weight'] += 1\n",
    "        else:\n",
    "            G.add_edge(route_pair[0], route_pair[1], weight=1)"
   ]
  },
  {
   "cell_type": "code",
   "execution_count": 7,
   "id": "4395abef",
   "metadata": {},
   "outputs": [
    {
     "name": "stdout",
     "output_type": "stream",
     "text": [
      "Broj čvorova (linija): 214\n",
      "Broj grana: 1985\n",
      "Čvorovi sa self loop:\n"
     ]
    }
   ],
   "source": [
    "print(\"Broj čvorova (linija):\", G.number_of_nodes())\n",
    "print(\"Broj grana:\", G.number_of_edges())\n",
    "\n",
    "# Pronalaženje čvorova sa self loop\n",
    "nodes_with_selfloops = [node for node in G.nodes if G.has_edge(node, node)]\n",
    "\n",
    "# Ispisivanje čvorova sa self loop\n",
    "print(\"Čvorovi sa self loop:\")\n",
    "for node in nodes_with_selfloops:\n",
    "    print(node)"
   ]
  },
  {
   "cell_type": "code",
   "execution_count": 20,
   "id": "21facdad",
   "metadata": {},
   "outputs": [
    {
     "name": "stdout",
     "output_type": "stream",
     "text": [
      "Br povezanih komponenti:  38\n",
      "Velicine povezanih komp:  [177, 1, 1, 1, 1, 1, 1, 1, 1, 1, 1, 1, 1, 1, 1, 1, 1, 1, 1, 1, 1, 1, 1, 1, 1, 1, 1, 1, 1, 1, 1, 1, 1, 1, 1, 1, 1, 1]\n"
     ]
    }
   ],
   "source": [
    "# br povezanih komponenti\n",
    "numOfConnectedComponents = nx.number_connected_components(G)\n",
    "print(\"Br povezanih komponenti: \", numOfConnectedComponents)\n",
    "\n",
    "# velicina povezanih komponenata\n",
    "sizeOfConnectedComponents = [len(component) for component in nx.connected_components(G)]\n",
    "print(\"Velicine povezanih komp: \", sizeOfConnectedComponents)"
   ]
  },
  {
   "cell_type": "code",
   "execution_count": 21,
   "id": "9fcdb5b3",
   "metadata": {},
   "outputs": [
    {
     "name": "stdout",
     "output_type": "stream",
     "text": [
      "Br povezanih komponenti:  1\n",
      "Velicine povezanih komp:  [177]\n"
     ]
    }
   ],
   "source": [
    "# uklanjanjam sve nepovezane komponente\n",
    "\n",
    "connected_components = list(nx.connected_components(G))\n",
    "\n",
    "# komponente sa veličinom 1\n",
    "components_to_remove = [component for component in connected_components if len(component) == 1]\n",
    "\n",
    "for component in components_to_remove:\n",
    "    G.remove_nodes_from(component)\n",
    "    \n",
    "# br povezanih komponenti\n",
    "numOfConnectedComponents = nx.number_connected_components(G)\n",
    "print(\"Br povezanih komponenti: \", numOfConnectedComponents)\n",
    "\n",
    "# velicina povezanih komponenata\n",
    "sizeOfConnectedComponents = [len(component) for component in nx.connected_components(G)]\n",
    "print(\"Velicine povezanih komp: \", sizeOfConnectedComponents)"
   ]
  },
  {
   "cell_type": "code",
   "execution_count": 22,
   "id": "57919674",
   "metadata": {},
   "outputs": [],
   "source": [
    "output_path = \"../Desktop/asmPodaci/Cgraph.gml\"\n",
    "\n",
    "nx.write_gml(G, output_path)"
   ]
  },
  {
   "cell_type": "raw",
   "id": "fe2711ef",
   "metadata": {},
   "source": [
    "1. Gustina mreze\n",
    "neusmerena je mreza pa je max broj mogucih grana = n*(n-1)/2"
   ]
  },
  {
   "cell_type": "code",
   "execution_count": 23,
   "id": "73da89a8",
   "metadata": {},
   "outputs": [
    {
     "name": "stdout",
     "output_type": "stream",
     "text": [
      "Gustina L mreze: 0.12743965074473548\n"
     ]
    }
   ],
   "source": [
    "numOfNodes = G.number_of_nodes()\n",
    "numOfEdges = G.number_of_edges()\n",
    "\n",
    "density = 2 * numOfEdges / (numOfNodes * (numOfNodes - 1))\n",
    "\n",
    "print(\"Gustina L mreze:\", density)"
   ]
  },
  {
   "cell_type": "raw",
   "id": "510cbe23",
   "metadata": {},
   "source": [
    "2. Prosecna distanca i dijametar mreze"
   ]
  },
  {
   "cell_type": "code",
   "execution_count": null,
   "id": "d1caeac8",
   "metadata": {},
   "outputs": [],
   "source": [
    "averageDistance = nx.average_shortest_path_length(G)\n",
    "diameter = nx.diameter(G)\n",
    "\n",
    "print(\"Prosecna distanca:\", averageDistance)\n",
    "print(\"Dijametar:\", diameter)"
   ]
  },
  {
   "cell_type": "raw",
   "id": "78e47039",
   "metadata": {},
   "source": [
    "3. U kojoj meri je mreža povezana i centralizovana? Navesti broj i veličine povezanih \n",
    "komponenata i proceniti da li postoji gigantska komponenta."
   ]
  },
  {
   "cell_type": "code",
   "execution_count": 25,
   "id": "15942d1e",
   "metadata": {},
   "outputs": [
    {
     "name": "stdout",
     "output_type": "stream",
     "text": [
      "Br povezanih komponenti:  1\n",
      "Velicine povezanih komp:  [177]\n",
      "Postoji gigantska komp:  True\n",
      "Centralizacija: 0.19866883116883116\n"
     ]
    }
   ],
   "source": [
    "# br povezanih komponenti\n",
    "numOfConnectedComponents = nx.number_connected_components(G)\n",
    "print(\"Br povezanih komponenti: \", numOfConnectedComponents)\n",
    "\n",
    "# velicina povezanih komponenata\n",
    "sizeOfConnectedComponents = [len(component) for component in nx.connected_components(G)]\n",
    "print(\"Velicine povezanih komp: \", sizeOfConnectedComponents)\n",
    "\n",
    "# provera postojanja gigantske komp\n",
    "hasGiantComponent = max(sizeOfConnectedComponents) > 1\n",
    "print(\"Postoji gigantska komp: \", hasGiantComponent)\n",
    "\n",
    "# izracunavanje centralizacije\n",
    "max_degree = max(dict(G.degree()).values()) # sadrzi cvorove kao kljuceve i njihov stepen kao vrednost\n",
    "centralization = (sum([max_degree - degree for degree in dict(G.degree()).values()])) / ((len(G) - 1) * (len(G) - 2))\n",
    "print(\"Centralizacija:\", centralization)"
   ]
  },
  {
   "cell_type": "raw",
   "id": "0832fb2f",
   "metadata": {},
   "source": [
    "4. Koliki je prosečni, a koliki globalni koeficijent klasterizacije L mreze? Kakva je raspodela \n",
    "lokalnog koeficijenta klasterizacije njenih čvorova? Da li je klasterisanje izraženo ili ne?\n",
    "Odgovor dati upoređivanjem sa slučajno generisanim Erdos-Renyi i scale free mrežama istih \n",
    "dimenzija"
   ]
  },
  {
   "cell_type": "code",
   "execution_count": 26,
   "id": "e344c1e1",
   "metadata": {},
   "outputs": [
    {
     "name": "stdout",
     "output_type": "stream",
     "text": [
      "Prosečni koef klasterizacije: 0.6101345694294864\n",
      "Globalni koef klasterizacije: 0.49038562941610714\n"
     ]
    },
    {
     "data": {
      "image/png": "[encoded data removed]",
      "text/plain": [
       "<Figure size 640x480 with 1 Axes>"
      ]
     },
     "metadata": {},
     "output_type": "display_data"
    },
    {
     "name": "stdout",
     "output_type": "stream",
     "text": [
      "Prosečni koeficijent klasterizacije (Erdos-Renyi): 0.19690008454061075\n",
      "Prosečni koeficijent klasterizacije (Scale-free): 0.09252069150468915\n"
     ]
    }
   ],
   "source": [
    "averageClusteringCoef = nx.average_clustering(G)\n",
    "globalClusteringCoef = nx.transitivity(G) # compute graph transitivity, the fraction of all possible triangles present in G\n",
    "\n",
    "print(\"Prosečni koef klasterizacije:\", averageClusteringCoef)\n",
    "print(\"Globalni koef klasterizacije:\", globalClusteringCoef)\n",
    "\n",
    "localClusteringCoeffs = nx.clustering(G)\n",
    "plt.hist(list(localClusteringCoeffs.values()), bins=10)\n",
    "plt.xlabel('Lokalni koeficijent klasterizacije')\n",
    "plt.ylabel('Broj čvorova')\n",
    "plt.title('Raspodela lokalnog koeficijenta klasterizacije')\n",
    "plt.show()\n",
    "\n",
    "# Generisanje Erdos-Renyi mreže\n",
    "erdosRenyiGraph = nx.erdos_renyi_graph(n=len(G.nodes), p=0.2)\n",
    "erdosRenyiAvgClustering = nx.average_clustering(erdosRenyiGraph)\n",
    "\n",
    "# Generisanje scale-free mreže\n",
    "scaleFreeGraph = nx.barabasi_albert_graph(n=len(G.nodes), m=2)\n",
    "scaleFreeAvgClustering = nx.average_clustering(scaleFreeGraph)\n",
    "\n",
    "print(\"Prosečni koeficijent klasterizacije (Erdos-Renyi):\", erdosRenyiAvgClustering)\n",
    "print(\"Prosečni koeficijent klasterizacije (Scale-free):\", scaleFreeAvgClustering)"
   ]
  },
  {
   "cell_type": "raw",
   "id": "cece80e3",
   "metadata": {},
   "source": [
    "5. Izvršiti asortativnu analizu po stepenu čvora i dati odgovor da li je izraženo asortativno \n",
    "mešanje. Priložiti i vizuelizaciju. "
   ]
  },
  {
   "cell_type": "code",
   "execution_count": 27,
   "id": "f67b8098",
   "metadata": {},
   "outputs": [
    {
     "name": "stdout",
     "output_type": "stream",
     "text": [
      "Koeficijent asortativnosti: 0.13076990250619883\n"
     ]
    }
   ],
   "source": [
    "# izracunavanje koef asortativnosti\n",
    "assortativity = nx.degree_assortativity_coefficient(G)\n",
    "print(\"Koeficijent asortativnosti:\", assortativity)\n",
    "\n",
    "output_path = \"../Desktop/asmPodaci/Pgraph.gml\"\n",
    "\n",
    "nx.write_gml(G, output_path)"
   ]
  },
  {
   "cell_type": "raw",
   "id": "71c2e36b",
   "metadata": {},
   "source": [
    "6. Da li mreža ispoljava fenomen kluba bogatih (eng. rich club phenomenon)?"
   ]
  },
  {
   "cell_type": "code",
   "execution_count": 28,
   "id": "b0b7be62",
   "metadata": {},
   "outputs": [
    {
     "data": {
      "image/png": "[encoded data removed]",
      "text/plain": [
       "<Figure size 640x480 with 1 Axes>"
      ]
     },
     "metadata": {},
     "output_type": "display_data"
    },
    {
     "name": "stdout",
     "output_type": "stream",
     "text": [
      "Mreža ne ispoljava rich club phenomenon.\n"
     ]
    }
   ],
   "source": [
    "richClubCoeffs = nx.rich_club_coefficient(G, normalized=False)\n",
    "\n",
    "plt.plot(list(richClubCoeffs.keys()), list(richClubCoeffs.values()), 'bo-')\n",
    "plt.xlabel('Stepen')\n",
    "plt.ylabel('Koeficijent kluba bogatih')\n",
    "plt.title('Fenomen kluba bogatih')\n",
    "plt.show()\n",
    "\n",
    "if max(richClubCoeffs.values()) > 1:\n",
    "    print(\"Mreža ispoljava rich club phenomenon.\")\n",
    "else:\n",
    "    print(\"Mreža ne ispoljava rich club phenomenon.\")"
   ]
  },
  {
   "cell_type": "raw",
   "id": "d73fdf58",
   "metadata": {},
   "source": [
    "8. Kakva je distribucija čvorova po stepenu i da li prati power law raspodelu?"
   ]
  },
  {
   "cell_type": "code",
   "execution_count": 29,
   "id": "57e98c43",
   "metadata": {},
   "outputs": [
    {
     "data": {
      "image/png": "[encoded data removed]",
      "text/plain": [
       "<Figure size 640x480 with 1 Axes>"
      ]
     },
     "metadata": {},
     "output_type": "display_data"
    }
   ],
   "source": [
    "# Izračunavanje distribucije čvorova po stepenu\n",
    "degree_distribution = dict(G.degree())\n",
    "\n",
    "# Izračunavanje histograma distribucije čvorova po stepenu\n",
    "degree_values = list(degree_distribution.values())\n",
    "plt.hist(degree_values, bins=50, log=True, color='b', alpha=0.7)\n",
    "\n",
    "# Podešavanje grafičkih elemenata\n",
    "plt.xlabel('Stepen čvora')\n",
    "plt.ylabel('Broj čvorova')\n",
    "plt.title('Distribucija čvorova po stepenu')\n",
    "plt.grid(True)\n",
    "\n",
    "# Prikazivanje histograma\n",
    "plt.show()"
   ]
  },
  {
   "cell_type": "raw",
   "id": "d6e1cd96",
   "metadata": {},
   "source": [
    "8. Sprovesti analize centralnosti po stepenu, bliskosti i relacionoj centralnosti. Dati pregled\n",
    "najvažnijih aktera po svakoj od njih."
   ]
  },
  {
   "cell_type": "code",
   "execution_count": 30,
   "id": "07fe32be",
   "metadata": {},
   "outputs": [
    {
     "name": "stdout",
     "output_type": "stream",
     "text": [
      "Najvažniji akteri po centralnosti po stepenu:\n",
      "[(50, 0.32386363636363635), (85, 0.3068181818181818), (37, 0.30113636363636365), (78, 0.30113636363636365), (23, 0.29545454545454547), (88, 0.29545454545454547), (58, 0.2727272727272727), (74, 0.2727272727272727), (83, 0.26704545454545453), (90002, 0.26136363636363635)]\n",
      "Najvažniji akteri po centralnosti po bliskosti:\n",
      "[(85, 0.5714285714285714), (50, 0.5641025641025641), (23, 0.5517241379310345), (37, 0.55), (78, 0.5482866043613707), (83, 0.544891640866873), (88, 0.5415384615384615), (95, 0.5415384615384615), (90003, 0.5398773006134969), (90002, 0.5382262996941896)]\n",
      "Najvažniji akteri po relacionoj centralnosti:\n",
      "[(50, 0.08633415045946774), (85, 0.07007840806530528), (90001, 0.050743869598347896), (78, 0.0496900583571727), (101, 0.04633129416232731), (95, 0.03728320035859138), (88, 0.03615123742781324), (94, 0.03524915007374696), (23, 0.033707723158269656), (83, 0.03365439576605044)]\n"
     ]
    }
   ],
   "source": [
    "# Analiza centralnosti po stepenu\n",
    "degree_centrality = nx.degree_centrality(G)\n",
    "\n",
    "# centralnost po bliskosti\n",
    "closeness_centrality = nx.closeness_centrality(G)\n",
    "\n",
    "# relacionа centralnost\n",
    "betweenness_centrality = nx.betweenness_centrality(G)\n",
    "\n",
    "# Centralnost po stepenu sortirano\n",
    "sorted_degree_centrality = sorted(degree_centrality.items(), key=lambda x: x[1], reverse=True)\n",
    "print(\"Najvažniji akteri po centralnosti po stepenu:\")\n",
    "print(sorted_degree_centrality[:10])\n",
    "\n",
    "# Centralnost po bliskosti sortirano\n",
    "sorted_closeness_centrality = sorted(closeness_centrality.items(), key=lambda x: x[1], reverse=True)\n",
    "print(\"Najvažniji akteri po centralnosti po bliskosti:\")\n",
    "print(sorted_closeness_centrality[:10])\n",
    "\n",
    "# Relaciona centralnost sortirano\n",
    "sorted_betweenness_centrality = sorted(betweenness_centrality.items(), key=lambda x: x[1], reverse=True)\n",
    "print(\"Najvažniji akteri po relacionoj centralnosti:\")\n",
    "print(sorted_betweenness_centrality[:10])  # Prikaz prvih 10 najvažnijih aktera"
   ]
  },
  {
   "cell_type": "raw",
   "id": "0b4fc619",
   "metadata": {},
   "source": [
    "9. Ko su najvažniji akteri po centralnosti po sopstvenom vektoru? Šta nam to govori o njima?"
   ]
  },
  {
   "cell_type": "code",
   "execution_count": 31,
   "id": "281aecff",
   "metadata": {},
   "outputs": [
    {
     "name": "stdout",
     "output_type": "stream",
     "text": [
      "Najvažniji čvorovi po centralnosti po sopstvenom vektoru:\n",
      "[(85, 0.16952771735411476), (88, 0.1619638677870404), (23, 0.15657626150936813), (37, 0.15522387756323527), (58, 0.15112317573852294), (78, 0.15007078482904265), (74, 0.14324782493111918), (90002, 0.14122606520045636), (16, 0.13555220065190424), (83, 0.13231978988186935)]\n"
     ]
    }
   ],
   "source": [
    "# Računanje vrednosti centralnosti po sopstvenom vektoru\n",
    "eigenvector_centrality = nx.eigenvector_centrality(G)\n",
    "\n",
    "# Sortiranje\n",
    "sorted_eigenvector_centrality = sorted(eigenvector_centrality.items(), key=lambda x: x[1], reverse=True)\n",
    "\n",
    "# Prikazivanje najvažnijih čvorova\n",
    "print(\"Najvažniji čvorovi po centralnosti po sopstvenom vektoru:\")\n",
    "print(sorted_eigenvector_centrality[:10])"
   ]
  },
  {
   "cell_type": "raw",
   "id": "d3cf03c4",
   "metadata": {},
   "source": [
    "10. Na osnovu prethodna dva pitanja predložiti i konstruisati heuristiku (kompozitnu meru\n",
    "centralnosti) za pronalaženje najvažnijih aktera i pronaći ih. Obratiti pažnju na tip mreže\n",
    "koji se analizira (usmerena ili neusmerena) i, shodno tome, prilagoditi koliko različite\n",
    "mrežne metrike utiču na heuristiku."
   ]
  },
  {
   "cell_type": "code",
   "execution_count": 32,
   "id": "e2d791d6",
   "metadata": {},
   "outputs": [
    {
     "name": "stdout",
     "output_type": "stream",
     "text": [
      "Najvažniji čvorovi prema kompozitnoj meri centralnosti:\n",
      "[(50, 0.7119881065559033), (85, 0.6994535091909461), (78, 0.6600529479514999), (23, 0.6452556713994889), (37, 0.6445556340227504), (88, 0.643733926502139), (83, 0.6061107285562921), (74, 0.6026987488565773), (58, 0.5943023174791202), (90002, 0.5859586126401044)]\n"
     ]
    }
   ],
   "source": [
    "weight_degree = 1\n",
    "weight_closeness = 0.5\n",
    "weight_betweenness = 0.8\n",
    "weight_eigenvector = 0.3\n",
    "\n",
    "# Izračunavanje kompozitne mere centralnosti za svaki čvor\n",
    "composite_centrality = {}\n",
    "for node in G.nodes():\n",
    "    composite_centrality[node] = (\n",
    "        weight_degree * degree_centrality[node] +\n",
    "        weight_closeness * closeness_centrality[node] +\n",
    "        weight_betweenness * betweenness_centrality[node] +\n",
    "        weight_eigenvector * eigenvector_centrality[node]\n",
    "    )\n",
    "\n",
    "# Sortiranje čvorova\n",
    "sorted_composite_centrality = sorted(composite_centrality.items(), key=lambda x: x[1], reverse=True)\n",
    "\n",
    "# Prikazivanje najvažnijih čvorova\n",
    "print(\"Najvažniji čvorovi prema kompozitnoj meri centralnosti:\")\n",
    "print(sorted_composite_centrality[:10])"
   ]
  },
  {
   "cell_type": "code",
   "execution_count": null,
   "id": "9369363e",
   "metadata": {},
   "outputs": [],
   "source": []
  }
 ],
 "metadata": {
  "kernelspec": {
   "display_name": "Python 3 (ipykernel)",
   "language": "python",
   "name": "python3"
  },
  "language_info": {
   "codemirror_mode": {
    "name": "ipython",
    "version": 3
   },
   "file_extension": ".py",
   "mimetype": "text/x-python",
   "name": "python",
   "nbconvert_exporter": "python",
   "pygments_lexer": "ipython3",
   "version": "3.9.13"
  }
 },
 "nbformat": 4,
 "nbformat_minor": 5
}
