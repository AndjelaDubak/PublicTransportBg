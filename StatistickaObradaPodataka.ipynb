{
 "cells": [
  {
   "cell_type": "markdown",
   "id": "96516e81",
   "metadata": {},
   "source": [
    "1. Prosečno vreme između dva polaska svake od linija"
   ]
  },
  {
   "cell_type": "markdown",
   "id": "7a360554",
   "metadata": {},
   "source": [
    "Ucitavam fajl trips.txt koji prikazuje podatke o polascima pojedinacnih linija"
   ]
  },
  {
   "cell_type": "code",
   "execution_count": 1,
   "id": "202b47bf",
   "metadata": {},
   "outputs": [
    {
     "name": "stdout",
     "output_type": "stream",
     "text": [
      "       route_id        service_id  trip_id    trip_headsign  direction_id  \\\n",
      "0             2     Zimski-Subota  1421378  Spoljašnji Krug             0   \n",
      "1             2     Zimski-Subota  1421379  Spoljašnji Krug             0   \n",
      "2             2     Zimski-Subota  1421380  Spoljašnji Krug             0   \n",
      "3             2     Zimski-Subota  1421381  Spoljašnji Krug             0   \n",
      "4             2     Zimski-Subota  1421382  Spoljašnji Krug             0   \n",
      "...         ...               ...      ...              ...           ...   \n",
      "66048     90004  Zimski-Radni Dan  1400708         Kumodraž             1   \n",
      "66049     90004  Zimski-Radni Dan  1400709         Kumodraž             1   \n",
      "66050     90004  Zimski-Radni Dan  1400710         Kumodraž             1   \n",
      "66051     90004  Zimski-Radni Dan  1400711         Kumodraž             1   \n",
      "66052     90004  Zimski-Radni Dan  1400712         Kumodraž             1   \n",
      "\n",
      "       block_id       shape_id  wheelchair_accessible  bikes_allowed  \n",
      "0           NaN  00002_shape_0                      0              0  \n",
      "1           NaN  00002_shape_0                      0              0  \n",
      "2           NaN  00002_shape_0                      0              0  \n",
      "3           NaN  00002_shape_0                      0              0  \n",
      "4           NaN  00002_shape_0                      0              0  \n",
      "...         ...            ...                    ...            ...  \n",
      "66048       NaN  90004_shape_1                      0              0  \n",
      "66049       NaN  90004_shape_1                      0              0  \n",
      "66050       NaN  90004_shape_1                      0              0  \n",
      "66051       NaN  90004_shape_1                      0              0  \n",
      "66052       NaN  90004_shape_1                      0              0  \n",
      "\n",
      "[66053 rows x 9 columns]\n"
     ]
    }
   ],
   "source": [
    "import pandas as pd\n",
    "\n",
    "tripsPath = \"../Desktop/asmPodaci/trips.txt\"\n",
    "\n",
    "trips = pd.read_csv(tripsPath)\n",
    "print(trips)"
   ]
  },
  {
   "cell_type": "markdown",
   "id": "897115da",
   "metadata": {},
   "source": [
    "Izbacujemo nepotrebne kolone iz trips"
   ]
  },
  {
   "cell_type": "code",
   "execution_count": 2,
   "id": "b503a3d5",
   "metadata": {},
   "outputs": [
    {
     "name": "stdout",
     "output_type": "stream",
     "text": [
      "       route_id        service_id  trip_id    trip_headsign  direction_id\n",
      "0             2     Zimski-Subota  1421378  Spoljašnji Krug             0\n",
      "1             2     Zimski-Subota  1421379  Spoljašnji Krug             0\n",
      "2             2     Zimski-Subota  1421380  Spoljašnji Krug             0\n",
      "3             2     Zimski-Subota  1421381  Spoljašnji Krug             0\n",
      "4             2     Zimski-Subota  1421382  Spoljašnji Krug             0\n",
      "...         ...               ...      ...              ...           ...\n",
      "66048     90004  Zimski-Radni Dan  1400708         Kumodraž             1\n",
      "66049     90004  Zimski-Radni Dan  1400709         Kumodraž             1\n",
      "66050     90004  Zimski-Radni Dan  1400710         Kumodraž             1\n",
      "66051     90004  Zimski-Radni Dan  1400711         Kumodraž             1\n",
      "66052     90004  Zimski-Radni Dan  1400712         Kumodraž             1\n",
      "\n",
      "[66053 rows x 5 columns]\n"
     ]
    }
   ],
   "source": [
    "trips.drop('block_id', inplace=True, axis=1)\n",
    "trips.drop('shape_id', inplace=True, axis=1)\n",
    "trips.drop('wheelchair_accessible', inplace=True, axis=1)\n",
    "trips.drop('bikes_allowed', inplace=True, axis=1)\n",
    "print(trips)"
   ]
  },
  {
   "cell_type": "markdown",
   "id": "e631d53b",
   "metadata": {},
   "source": [
    "Ucitavam stop_times - podaci o vremenima prolaska pojedinacnih polazaka kroz pojedinacna stajalista"
   ]
  },
  {
   "cell_type": "code",
   "execution_count": 3,
   "id": "e0b2c7d5",
   "metadata": {},
   "outputs": [
    {
     "name": "stdout",
     "output_type": "stream",
     "text": [
      "         trip_id arrival_time departure_time  stop_id  stop_sequence  \\\n",
      "0         665800     20:00:00       20:00:00      638              1   \n",
      "1         665800     20:01:00       20:01:00      148              2   \n",
      "2         665800     20:02:00       20:02:00      746              3   \n",
      "3         665800     20:04:00       20:04:00      845              4   \n",
      "4         665800     20:06:00       20:06:00      847              5   \n",
      "...          ...          ...            ...      ...            ...   \n",
      "1648776  1494173     23:11:00       23:11:00     1289             20   \n",
      "1648777  1494173     23:13:00       23:13:00     1291             21   \n",
      "1648778  1494173     23:14:00       23:14:00     1293             22   \n",
      "1648779  1494173     23:16:00       23:16:00     1295             23   \n",
      "1648780  1494173     23:17:00       23:17:00     1297             24   \n",
      "\n",
      "        stop_headsign  pickup_type  drop_off_type  shape_dist_traveled  \\\n",
      "0                 NaN          NaN            NaN                  NaN   \n",
      "1                 NaN          NaN            NaN                  NaN   \n",
      "2                 NaN          NaN            NaN                  NaN   \n",
      "3                 NaN          NaN            NaN                  NaN   \n",
      "4                 NaN          NaN            NaN                  NaN   \n",
      "...               ...          ...            ...                  ...   \n",
      "1648776           NaN          NaN            NaN                  NaN   \n",
      "1648777           NaN          NaN            NaN                  NaN   \n",
      "1648778           NaN          NaN            NaN                  NaN   \n",
      "1648779           NaN          NaN            NaN                  NaN   \n",
      "1648780           NaN          NaN            NaN                  NaN   \n",
      "\n",
      "         timepoint  \n",
      "0                0  \n",
      "1                0  \n",
      "2                0  \n",
      "3                0  \n",
      "4                0  \n",
      "...            ...  \n",
      "1648776          0  \n",
      "1648777          0  \n",
      "1648778          0  \n",
      "1648779          0  \n",
      "1648780          0  \n",
      "\n",
      "[1648781 rows x 10 columns]\n"
     ]
    },
    {
     "name": "stderr",
     "output_type": "stream",
     "text": [
      "C:\\Users\\Andjela\\AppData\\Local\\Temp\\ipykernel_21684\\1098820719.py:3: DtypeWarning: Columns (5) have mixed types. Specify dtype option on import or set low_memory=False.\n",
      "  stop_times = pd.read_csv(stopTimesPath)\n"
     ]
    }
   ],
   "source": [
    "stopTimesPath = \"../Desktop/asmPodaci/stop_times.txt\"\n",
    "\n",
    "stop_times = pd.read_csv(stopTimesPath)\n",
    "print(stop_times)"
   ]
  },
  {
   "cell_type": "markdown",
   "id": "83e63412",
   "metadata": {},
   "source": [
    "Uklanjanje nepotrebnih kolona iz stop_times"
   ]
  },
  {
   "cell_type": "code",
   "execution_count": 4,
   "id": "c9528a8c",
   "metadata": {},
   "outputs": [
    {
     "name": "stdout",
     "output_type": "stream",
     "text": [
      "         trip_id arrival_time departure_time  stop_id  stop_sequence\n",
      "0         665800     20:00:00       20:00:00      638              1\n",
      "1         665800     20:01:00       20:01:00      148              2\n",
      "2         665800     20:02:00       20:02:00      746              3\n",
      "3         665800     20:04:00       20:04:00      845              4\n",
      "4         665800     20:06:00       20:06:00      847              5\n",
      "...          ...          ...            ...      ...            ...\n",
      "1648776  1494173     23:11:00       23:11:00     1289             20\n",
      "1648777  1494173     23:13:00       23:13:00     1291             21\n",
      "1648778  1494173     23:14:00       23:14:00     1293             22\n",
      "1648779  1494173     23:16:00       23:16:00     1295             23\n",
      "1648780  1494173     23:17:00       23:17:00     1297             24\n",
      "\n",
      "[1648781 rows x 5 columns]\n"
     ]
    }
   ],
   "source": [
    "stop_times.drop('stop_headsign', inplace=True, axis=1)\n",
    "stop_times.drop('pickup_type', inplace=True, axis=1)\n",
    "stop_times.drop('drop_off_type', inplace=True, axis=1)\n",
    "stop_times.drop('shape_dist_traveled', inplace=True, axis=1)\n",
    "stop_times.drop('timepoint', inplace=True, axis=1)\n",
    "print(stop_times)"
   ]
  },
  {
   "cell_type": "markdown",
   "id": "48bd7ace",
   "metadata": {},
   "source": [
    "Spajanje trips i stop_times"
   ]
  },
  {
   "cell_type": "code",
   "execution_count": 5,
   "id": "6ba14020",
   "metadata": {},
   "outputs": [
    {
     "name": "stdout",
     "output_type": "stream",
     "text": [
      "         route_id        service_id   trip_headsign  direction_id  \\\n",
      "trip_id                                                             \n",
      "665800        401    Zimski-Nedelja        Pinosava             0   \n",
      "665800        401    Zimski-Nedelja        Pinosava             0   \n",
      "665800        401    Zimski-Nedelja        Pinosava             0   \n",
      "665800        401    Zimski-Nedelja        Pinosava             0   \n",
      "665800        401    Zimski-Nedelja        Pinosava             0   \n",
      "...           ...               ...             ...           ...   \n",
      "1494173       101  Zimski-Radni Dan  Padinska Skela             0   \n",
      "1494173       101  Zimski-Radni Dan  Padinska Skela             0   \n",
      "1494173       101  Zimski-Radni Dan  Padinska Skela             0   \n",
      "1494173       101  Zimski-Radni Dan  Padinska Skela             0   \n",
      "1494173       101  Zimski-Radni Dan  Padinska Skela             0   \n",
      "\n",
      "        arrival_time departure_time  stop_id  stop_sequence  \n",
      "trip_id                                                      \n",
      "665800      20:00:00       20:00:00    638.0            1.0  \n",
      "665800      20:01:00       20:01:00    148.0            2.0  \n",
      "665800      20:02:00       20:02:00    746.0            3.0  \n",
      "665800      20:04:00       20:04:00    845.0            4.0  \n",
      "665800      20:06:00       20:06:00    847.0            5.0  \n",
      "...              ...            ...      ...            ...  \n",
      "1494173     23:11:00       23:11:00   1289.0           20.0  \n",
      "1494173     23:13:00       23:13:00   1291.0           21.0  \n",
      "1494173     23:14:00       23:14:00   1293.0           22.0  \n",
      "1494173     23:16:00       23:16:00   1295.0           23.0  \n",
      "1494173     23:17:00       23:17:00   1297.0           24.0  \n",
      "\n",
      "[1648805 rows x 8 columns]\n"
     ]
    }
   ],
   "source": [
    "tripStopTimes = trips.set_index('trip_id').join(stop_times.set_index('trip_id'))\n",
    "print(tripStopTimes)\n",
    "\n",
    "tripStopTimes = tripStopTimes.dropna(subset=['stop_id'])"
   ]
  },
  {
   "cell_type": "code",
   "execution_count": 6,
   "id": "a3fbee42",
   "metadata": {},
   "outputs": [],
   "source": [
    "tripStopTimes.to_csv(\"tripStopTimes.txt\", sep='\\t')"
   ]
  },
  {
   "cell_type": "markdown",
   "id": "064b100f",
   "metadata": {},
   "source": [
    "Filtriram sve redove kod kojih je stop_sequence jednako 1 jer to oznacava pocetnu stanicu tj prvi polazak."
   ]
  },
  {
   "cell_type": "code",
   "execution_count": 7,
   "id": "2db80063",
   "metadata": {},
   "outputs": [
    {
     "name": "stdout",
     "output_type": "stream",
     "text": [
      "         route_id        service_id          trip_headsign  direction_id  \\\n",
      "trip_id                                                                    \n",
      "665800        401    Zimski-Nedelja               Pinosava             0   \n",
      "665801         27    Zimski-Nedelja          Trg Republike             1   \n",
      "665802        401    Zimski-Nedelja  Slavija /Birčaninova/             1   \n",
      "665803         27    Zimski-Nedelja             Mirijevo 3             0   \n",
      "665804        401    Zimski-Nedelja               Pinosava             0   \n",
      "...           ...               ...                    ...           ...   \n",
      "1494167        31  Zimski-Radni Dan         Studentski Trg             1   \n",
      "1494168        31  Zimski-Radni Dan              Konjarnik             0   \n",
      "1494171        31  Zimski-Radni Dan         Studentski Trg             1   \n",
      "1494172        31  Zimski-Radni Dan              Konjarnik             0   \n",
      "1494173       101  Zimski-Radni Dan         Padinska Skela             0   \n",
      "\n",
      "        arrival_time departure_time  stop_id  stop_sequence  \n",
      "trip_id                                                      \n",
      "665800      20:00:00       20:00:00    638.0            1.0  \n",
      "665801      08:26:00       08:26:00    464.0            1.0  \n",
      "665802      20:44:00       20:44:00   3036.0            1.0  \n",
      "665803      09:06:00       09:06:00    603.0            1.0  \n",
      "665804      21:33:00       21:33:00    638.0            1.0  \n",
      "...              ...            ...      ...            ...  \n",
      "1494167     22:45:00       22:45:00    781.0            1.0  \n",
      "1494168     23:15:00       23:15:00     82.0            1.0  \n",
      "1494171     19:36:00       19:36:00    781.0            1.0  \n",
      "1494172     22:15:00       22:15:00     82.0            1.0  \n",
      "1494173     22:35:00       22:35:00   1279.0            1.0  \n",
      "\n",
      "[66029 rows x 8 columns]\n"
     ]
    }
   ],
   "source": [
    "tripStopTimes = tripStopTimes[tripStopTimes['stop_sequence'] == 1]\n",
    "print(tripStopTimes)"
   ]
  },
  {
   "cell_type": "markdown",
   "id": "40f1f2ce",
   "metadata": {},
   "source": [
    "Provera da li je neki arrival_time razlicit od departure_time za stop_sequence=1; utvrdjeno je da su sve iste pa izbacujem departure_time; Za ostale stop_sequence se razlikuje;\n",
    "Takodje, provera da li je neki arrival_time null tj da je polje prazno za stop_sequence=1; utvrdjeno je da nema; Za ostale stop_sequence postoje nullovi"
   ]
  },
  {
   "cell_type": "code",
   "execution_count": 8,
   "id": "6cc68010",
   "metadata": {},
   "outputs": [
    {
     "name": "stdout",
     "output_type": "stream",
     "text": [
      "All values are equal\n"
     ]
    },
    {
     "data": {
      "text/plain": [
       "False"
      ]
     },
     "execution_count": 8,
     "metadata": {},
     "output_type": "execute_result"
    }
   ],
   "source": [
    "if (tripStopTimes['arrival_time'] == tripStopTimes['departure_time']).all():\n",
    "    print(\"All values are equal\")\n",
    "else:\n",
    "    print(\"All values are not equal\")\n",
    "tripStopTimes.drop('departure_time', inplace=True, axis=1)\n",
    "\n",
    "tripStopTimes['arrival_time'].isna().any()"
   ]
  },
  {
   "cell_type": "code",
   "execution_count": 9,
   "id": "e88e28c8",
   "metadata": {},
   "outputs": [],
   "source": [
    "tripStopTimes.to_csv(\"tripStopTimesStopSequenceEq1.txt\", sep='\\t')"
   ]
  },
  {
   "cell_type": "markdown",
   "id": "47654c26",
   "metadata": {},
   "source": [
    "Sortiram vrednosti po route_id i arrival_time da bi imali vremena redom da bi bilo lakse za oduzimanje"
   ]
  },
  {
   "cell_type": "code",
   "execution_count": 10,
   "id": "7aa6cacd",
   "metadata": {},
   "outputs": [
    {
     "name": "stdout",
     "output_type": "stream",
     "text": [
      "         route_id        service_id    trip_headsign  direction_id  \\\n",
      "trip_id                                                              \n",
      "1421378         2     Zimski-Subota  Spoljašnji Krug             0   \n",
      "1421406         2     Zimski-Subota  Unutrašnji Krug             1   \n",
      "1421558         2    Zimski-Nedelja  Spoljašnji Krug             0   \n",
      "1421586         2    Zimski-Nedelja  Unutrašnji Krug             1   \n",
      "1423806         2  Zimski-Radni Dan  Spoljašnji Krug             0   \n",
      "...           ...               ...              ...           ...   \n",
      "1325337     90004  Zimski-Radni Dan   Studentski Trg             0   \n",
      "1400709     90004  Zimski-Radni Dan         Kumodraž             1   \n",
      "1400692     90004  Zimski-Radni Dan         Kumodraž             1   \n",
      "1400698     90004  Zimski-Radni Dan         Kumodraž             1   \n",
      "1400697     90004  Zimski-Radni Dan         Kumodraž             1   \n",
      "\n",
      "        arrival_time  stop_id  stop_sequence  \n",
      "trip_id                                       \n",
      "1421378     04:10:00      7.0            1.0  \n",
      "1421406     04:10:00      6.0            1.0  \n",
      "1421558     04:10:00      7.0            1.0  \n",
      "1421586     04:10:00      6.0            1.0  \n",
      "1423806     04:10:00      7.0            1.0  \n",
      "...              ...      ...            ...  \n",
      "1325337     20:56:00   2200.0            1.0  \n",
      "1400709     20:56:00     82.0            1.0  \n",
      "1400692     21:08:00     82.0            1.0  \n",
      "1400698     21:20:00     82.0            1.0  \n",
      "1400697     21:30:00     82.0            1.0  \n",
      "\n",
      "[66029 rows x 7 columns]\n"
     ]
    }
   ],
   "source": [
    "tripStopTimesSorted = tripStopTimes.sort_values(by=['route_id', 'arrival_time'])\n",
    "print(tripStopTimesSorted)\n",
    "tripStopTimesSorted.to_csv(\"tripStopTimesSort.txt\", sep='\\t')"
   ]
  },
  {
   "cell_type": "markdown",
   "id": "90361f03",
   "metadata": {},
   "source": [
    "Arrival time je string pa ga pretvaramo u minute i upisujem u novu kolonu: arrival_time_minutes"
   ]
  },
  {
   "cell_type": "code",
   "execution_count": 11,
   "id": "b486404a",
   "metadata": {},
   "outputs": [
    {
     "name": "stdout",
     "output_type": "stream",
     "text": [
      "         route_id        service_id    trip_headsign  direction_id  \\\n",
      "trip_id                                                              \n",
      "1421378         2     Zimski-Subota  Spoljašnji Krug             0   \n",
      "1421406         2     Zimski-Subota  Unutrašnji Krug             1   \n",
      "1421558         2    Zimski-Nedelja  Spoljašnji Krug             0   \n",
      "1421586         2    Zimski-Nedelja  Unutrašnji Krug             1   \n",
      "1423806         2  Zimski-Radni Dan  Spoljašnji Krug             0   \n",
      "...           ...               ...              ...           ...   \n",
      "1325337     90004  Zimski-Radni Dan   Studentski Trg             0   \n",
      "1400709     90004  Zimski-Radni Dan         Kumodraž             1   \n",
      "1400692     90004  Zimski-Radni Dan         Kumodraž             1   \n",
      "1400698     90004  Zimski-Radni Dan         Kumodraž             1   \n",
      "1400697     90004  Zimski-Radni Dan         Kumodraž             1   \n",
      "\n",
      "           arrival_time  stop_id  stop_sequence  arrival_time_minutes  \n",
      "trip_id                                                                \n",
      "1421378 0 days 04:10:00      7.0            1.0                 250.0  \n",
      "1421406 0 days 04:10:00      6.0            1.0                 250.0  \n",
      "1421558 0 days 04:10:00      7.0            1.0                 250.0  \n",
      "1421586 0 days 04:10:00      6.0            1.0                 250.0  \n",
      "1423806 0 days 04:10:00      7.0            1.0                 250.0  \n",
      "...                 ...      ...            ...                   ...  \n",
      "1325337 0 days 20:56:00   2200.0            1.0                1256.0  \n",
      "1400709 0 days 20:56:00     82.0            1.0                1256.0  \n",
      "1400692 0 days 21:08:00     82.0            1.0                1268.0  \n",
      "1400698 0 days 21:20:00     82.0            1.0                1280.0  \n",
      "1400697 0 days 21:30:00     82.0            1.0                1290.0  \n",
      "\n",
      "[66029 rows x 8 columns]\n"
     ]
    }
   ],
   "source": [
    "tripStopTimesSorted['arrival_time'] = pd.to_timedelta(tripStopTimesSorted['arrival_time'])\n",
    "tripStopTimesSorted['arrival_time_minutes'] = tripStopTimesSorted['arrival_time'].dt.total_seconds() / 60\n",
    "print(tripStopTimesSorted)"
   ]
  },
  {
   "cell_type": "markdown",
   "id": "99fb4c19",
   "metadata": {},
   "source": [
    "Racunam razliku izmedju vremena i upisujem u novu kolonu - diff. Grupisem po route_id jer su  bitni polasci za pojedinacnu stanicu. Takodje, mora se grupisati po service_id da ne bi racunao razliku vremena polaska iz npr petka i subote. Takodje, grupisanje po direction_id da ne bi racunao razliku polaska vremena izmedju pocetne i krajnje stanice."
   ]
  },
  {
   "cell_type": "code",
   "execution_count": 12,
   "id": "39271184",
   "metadata": {
    "scrolled": true
   },
   "outputs": [
    {
     "name": "stdout",
     "output_type": "stream",
     "text": [
      "         route_id        service_id    trip_headsign  direction_id  \\\n",
      "trip_id                                                              \n",
      "1421378         2     Zimski-Subota  Spoljašnji Krug             0   \n",
      "1421406         2     Zimski-Subota  Unutrašnji Krug             1   \n",
      "1421558         2    Zimski-Nedelja  Spoljašnji Krug             0   \n",
      "1421586         2    Zimski-Nedelja  Unutrašnji Krug             1   \n",
      "1423806         2  Zimski-Radni Dan  Spoljašnji Krug             0   \n",
      "...           ...               ...              ...           ...   \n",
      "1325337     90004  Zimski-Radni Dan   Studentski Trg             0   \n",
      "1400709     90004  Zimski-Radni Dan         Kumodraž             1   \n",
      "1400692     90004  Zimski-Radni Dan         Kumodraž             1   \n",
      "1400698     90004  Zimski-Radni Dan         Kumodraž             1   \n",
      "1400697     90004  Zimski-Radni Dan         Kumodraž             1   \n",
      "\n",
      "           arrival_time  stop_id  stop_sequence  arrival_time_minutes  diff  \n",
      "trip_id                                                                      \n",
      "1421378 0 days 04:10:00      7.0            1.0                 250.0   0.0  \n",
      "1421406 0 days 04:10:00      6.0            1.0                 250.0   0.0  \n",
      "1421558 0 days 04:10:00      7.0            1.0                 250.0   0.0  \n",
      "1421586 0 days 04:10:00      6.0            1.0                 250.0   0.0  \n",
      "1423806 0 days 04:10:00      7.0            1.0                 250.0   0.0  \n",
      "...                 ...      ...            ...                   ...   ...  \n",
      "1325337 0 days 20:56:00   2200.0            1.0                1256.0  12.0  \n",
      "1400709 0 days 20:56:00     82.0            1.0                1256.0  12.0  \n",
      "1400692 0 days 21:08:00     82.0            1.0                1268.0  12.0  \n",
      "1400698 0 days 21:20:00     82.0            1.0                1280.0  12.0  \n",
      "1400697 0 days 21:30:00     82.0            1.0                1290.0  10.0  \n",
      "\n",
      "[66029 rows x 9 columns]\n"
     ]
    }
   ],
   "source": [
    "tripStopTimesSorted['diff'] = tripStopTimesSorted.groupby(['route_id', 'service_id', 'direction_id'])['arrival_time_minutes'].diff().fillna(0)\n",
    "tripStopTimesSorted.to_csv(\"tripStopTimesGroupBy.txt\", sep='\\t')\n",
    "print(tripStopTimesSorted)"
   ]
  },
  {
   "cell_type": "markdown",
   "id": "532cb3bb",
   "metadata": {},
   "source": [
    "Izbaciti vrste gde je diff tj. razlika u vremenima jednaka nuli(oznacava prvi polazak u tom danu)"
   ]
  },
  {
   "cell_type": "code",
   "execution_count": 13,
   "id": "c4c87e8b",
   "metadata": {},
   "outputs": [
    {
     "name": "stdout",
     "output_type": "stream",
     "text": [
      "66029\n",
      "64818\n"
     ]
    }
   ],
   "source": [
    "print(tripStopTimesSorted.shape[0])\n",
    "tripStopTimesWithoutZeros = tripStopTimesSorted[tripStopTimesSorted['diff']!=0]\n",
    "print(tripStopTimesWithoutZeros.shape[0])"
   ]
  },
  {
   "cell_type": "markdown",
   "id": "52338df8",
   "metadata": {},
   "source": [
    "Racunanje proseka kolone diff da bi nasla prosecno vreme polaska buseva sa stanica.\n",
    "Spajanje sa routes da bi dobila puno ime linije i uklanjanje nepotrebnih kolona"
   ]
  },
  {
   "cell_type": "code",
   "execution_count": 14,
   "id": "34c84321",
   "metadata": {},
   "outputs": [
    {
     "name": "stdout",
     "output_type": "stream",
     "text": [
      "          direction_id            trip_headsign       mean route_short_name  \\\n",
      "route_id                                                                      \n",
      "2                    0          Spoljašnji Krug  13.258427                2   \n",
      "2                    1          Unutrašnji Krug  13.258427                2   \n",
      "5                    0                Ustanička  12.834646                5   \n",
      "5                    1  Kalemegdan /Donji Grad/  12.859922                5   \n",
      "6                    0                Ustanička  24.457364                6   \n",
      "...                ...                      ...        ...              ...   \n",
      "90002                1             Petlovo Brdo  15.205128               E2   \n",
      "90003                0   Novi Beograd /Blok 45/  20.000000               E6   \n",
      "90003                1               Mirijevo 4  20.000000               E6   \n",
      "90004                0           Studentski Trg  12.000000               E9   \n",
      "90004                1                 Kumodraž  11.972603               E9   \n",
      "\n",
      "                              route_long_name  \n",
      "route_id                                       \n",
      "2           Unutrašnji Krug - Spoljašnji Krug  \n",
      "2           Unutrašnji Krug - Spoljašnji Krug  \n",
      "5         Kalemegdan /Donji Grad/ - Ustanička  \n",
      "5         Kalemegdan /Donji Grad/ - Ustanička  \n",
      "6                       Tašmajdan - Ustanička  \n",
      "...                                       ...  \n",
      "90002            Petlovo Brdo - Trg Republike  \n",
      "90003     Mirijevo 4 - Novi Beograd /Blok 45/  \n",
      "90003     Mirijevo 4 - Novi Beograd /Blok 45/  \n",
      "90004               Kumodraž - Studentski Trg  \n",
      "90004               Kumodraž - Studentski Trg  \n",
      "\n",
      "[391 rows x 5 columns]\n"
     ]
    }
   ],
   "source": [
    "averageDepartureTime = tripStopTimesWithoutZeros.groupby(['route_id', 'direction_id','trip_headsign'], as_index= False)['diff'].mean()\n",
    "\n",
    "averageDepartureTime.rename(columns={\"diff\": \"mean\"}, inplace=True)\n",
    "\n",
    "routesPath = \"../Desktop/asmPodaci/routes.txt\"\n",
    "routes = pd.read_csv(routesPath)\n",
    "routes.drop('agency_id', inplace=True, axis=1)\n",
    "routes.drop('route_desc', inplace=True, axis=1)\n",
    "routes.drop('route_type', inplace=True, axis=1)\n",
    "routes.drop('route_url', inplace=True, axis=1)\n",
    "routes.drop('route_color', inplace=True, axis=1)\n",
    "routes.drop('route_text_color', inplace=True, axis=1)\n",
    "            \n",
    "averageDepartureTime = averageDepartureTime.set_index('route_id').join(routes.set_index('route_id'))\n",
    "print(averageDepartureTime)"
   ]
  },
  {
   "cell_type": "code",
   "execution_count": 15,
   "id": "ff27bd24",
   "metadata": {},
   "outputs": [
    {
     "name": "stdout",
     "output_type": "stream",
     "text": [
      "          direction_id             trip_headsign        mean route_short_name  \\\n",
      "route_id                                                                        \n",
      "20022                0               Trg Slavija    5.190616              22L   \n",
      "20022                1            Studentski Trg    5.212610              22L   \n",
      "41                   0                 Banjica 2    6.685714               41   \n",
      "41                   1            Studentski Trg    6.776699               41   \n",
      "26                   1         Dorćol /Dunavska/    6.782869               26   \n",
      "...                ...                       ...         ...              ...   \n",
      "50603                0                 Ugrinovci   95.000000             603N   \n",
      "50401                1          Dorćol/Dunavska/  100.000000             401N   \n",
      "50401                0                  Pinosava  100.000000             401N   \n",
      "607                  1  Novi Beograd /Paviljoni/  105.000000              607   \n",
      "607                  0                    Surčin  105.000000              607   \n",
      "\n",
      "                                     route_long_name  \n",
      "route_id                                              \n",
      "20022                   Studentski Trg - Trg Slavija  \n",
      "20022                   Studentski Trg - Trg Slavija  \n",
      "41                        Studentski Trg - Banjica 2  \n",
      "41                        Studentski Trg - Banjica 2  \n",
      "26        Dorćol /Dunavska/ - Naselje Braće Jerković  \n",
      "...                                              ...  \n",
      "50603                      Trg Republike - Ugrinovci  \n",
      "50401                    Dorćol/Dunavska/ - Pinosava  \n",
      "50401                    Dorćol/Dunavska/ - Pinosava  \n",
      "607                Novi Beograd /Paviljoni/ - Surčin  \n",
      "607                Novi Beograd /Paviljoni/ - Surčin  \n",
      "\n",
      "[391 rows x 5 columns]\n"
     ]
    }
   ],
   "source": [
    "averageDepartureTime.to_csv(\"tripStopTimesMean.txt\", sep='\\t')\n",
    "averageDepartureTime = averageDepartureTime.sort_values(by=['mean'])\n",
    "print(averageDepartureTime)\n",
    "averageDepartureTime.to_csv(\"tripStopTimesMeanSorted.txt\", sep='\\t')"
   ]
  },
  {
   "cell_type": "markdown",
   "id": "45bc1b6b",
   "metadata": {},
   "source": [
    "Gledam ko ima najveci broj polazaka u proseku a ko najmanji"
   ]
  },
  {
   "cell_type": "code",
   "execution_count": 16,
   "id": "098f7be9",
   "metadata": {},
   "outputs": [
    {
     "name": "stdout",
     "output_type": "stream",
     "text": [
      "          direction_id trip_headsign      mean route_short_name  \\\n",
      "route_id                                                          \n",
      "20022                0   Trg Slavija  5.190616              22L   \n",
      "\n",
      "                       route_long_name  \n",
      "route_id                                \n",
      "20022     Studentski Trg - Trg Slavija  \n"
     ]
    }
   ],
   "source": [
    "min = averageDepartureTime[averageDepartureTime['mean'] == averageDepartureTime['mean'].min()]\n",
    "print(min)"
   ]
  },
  {
   "cell_type": "code",
   "execution_count": 17,
   "id": "bae44e9a",
   "metadata": {},
   "outputs": [
    {
     "name": "stdout",
     "output_type": "stream",
     "text": [
      "          direction_id trip_headsign   mean route_short_name  \\\n",
      "route_id                                                       \n",
      "607                  0        Surčin  105.0              607   \n",
      "\n",
      "                            route_long_name  \n",
      "route_id                                     \n",
      "607       Novi Beograd /Paviljoni/ - Surčin  \n"
     ]
    }
   ],
   "source": [
    "max = averageDepartureTime[averageDepartureTime['mean'] == averageDepartureTime['mean'].max()]\n",
    "print(max)"
   ]
  },
  {
   "cell_type": "markdown",
   "id": "eaed0005",
   "metadata": {},
   "source": [
    "2. Linije sa najvećim brojem stanica i stanice sa najvećim brojem linija"
   ]
  },
  {
   "cell_type": "markdown",
   "id": "01b06ed9",
   "metadata": {},
   "source": [
    "2.0. Za pronalazak linija sa najvecim brojem stanica uzimam tabele trips i stop_times koje su spojene po trip_id.\n",
    "Grupisem po broju linije da ne bi brojao duplo. Biram max po stop_sequence jer on broji stanice po liniji.\n",
    "Ima 1214 redova: u postavci pise da ima 214 lnija(sto je i provereno u kodu sa unique); kod mene se dobije 208.\n",
    "208*6(3 service_id * 2 direction_id) = 1248, medjutim neke stanice nemaju service_id za nedelju pa ima manje - ipak nema ovog problema kada se uradi group, vec kada se izbace neke vrste(npr. Zimski-Radni Dan)"
   ]
  },
  {
   "cell_type": "code",
   "execution_count": 18,
   "id": "076f79cb",
   "metadata": {},
   "outputs": [
    {
     "name": "stdout",
     "output_type": "stream",
     "text": [
      "1648805\n",
      "1648781\n",
      "214\n",
      "     route_id            trip_headsign   max\n",
      "0           2          Spoljašnji Krug  17.0\n",
      "1           2          Unutrašnji Krug  16.0\n",
      "2           5  Kalemegdan /Donji Grad/  22.0\n",
      "3           5                Ustanička  21.0\n",
      "4           6                Tašmajdan  13.0\n",
      "..        ...                      ...   ...\n",
      "411     90002            Trg Republike  33.0\n",
      "412     90003               Mirijevo 4  41.0\n",
      "413     90003   Novi Beograd /Blok 45/  44.0\n",
      "414     90004                 Kumodraž  26.0\n",
      "415     90004           Studentski Trg  27.0\n",
      "\n",
      "[416 rows x 3 columns]\n",
      "     route_id trip_headsign   max\n",
      "381     50601     Dobanovci  88.0\n",
      "     route_id   max\n",
      "0           2  17.0\n",
      "1           5  22.0\n",
      "2           6  13.0\n",
      "3           7  32.0\n",
      "4           9  34.0\n",
      "..        ...   ...\n",
      "209     53047  22.0\n",
      "210     90001  33.0\n",
      "211     90002  33.0\n",
      "212     90003  44.0\n",
      "213     90004  27.0\n",
      "\n",
      "[214 rows x 2 columns]\n",
      "     route_id   max\n",
      "194     50601  88.0\n",
      "     route_id   max\n",
      "194     50601  88.0\n",
      "190     50304  77.0\n",
      "200     51301  72.0\n",
      "189     50301  71.0\n",
      "207     52304  70.0\n",
      "..        ...   ...\n",
      "165     20026  11.0\n",
      "147     10021  10.0\n",
      "122       533   9.0\n",
      "87        110   7.0\n",
      "164     20022   5.0\n",
      "\n",
      "[214 rows x 2 columns]\n"
     ]
    }
   ],
   "source": [
    "tripStopTimes = trips.set_index('trip_id').join(stop_times.set_index('trip_id'))\n",
    "print(tripStopTimes.shape[0])\n",
    "\n",
    "tripStopTimes = tripStopTimes.dropna(subset=['stop_id'])\n",
    "\n",
    "print(tripStopTimes.shape[0])\n",
    "\n",
    "uniqueRouteId = tripStopTimes[\"route_id\"].unique()\n",
    "print(uniqueRouteId.shape[0])\n",
    "\n",
    "maxStopSequence = tripStopTimes.groupby(['route_id','trip_headsign'], as_index= False)['stop_sequence'].max()\n",
    "maxStopSequence.rename(columns={\"stop_sequence\": \"max\"}, inplace=True)\n",
    "print(maxStopSequence)\n",
    "\n",
    "maxBrojStanica = maxStopSequence[maxStopSequence['max'] == maxStopSequence['max'].max()]\n",
    "print(maxBrojStanica)\n",
    "\n",
    "maxStopSequence = tripStopTimes.groupby(['route_id'], as_index= False)['stop_sequence'].max()\n",
    "maxStopSequence.rename(columns={\"stop_sequence\": \"max\"}, inplace=True)\n",
    "print(maxStopSequence)\n",
    "\n",
    "maxBrojStanica = maxStopSequence[maxStopSequence['max'] == maxStopSequence['max'].max()]\n",
    "print(maxBrojStanica)\n",
    "\n",
    "maxStopSequence.to_csv(\"maxBrojStanica.txt\", sep='\\t')\n",
    "\n",
    "sortedLinesByStops = maxStopSequence.sort_values(by=['max'], ascending=False);\n",
    "sortedLinesByStops.to_csv(\"maxBrojStanicaSortirano.txt\", sep='\\t')\n",
    "print(sortedLinesByStops)"
   ]
  },
  {
   "cell_type": "markdown",
   "id": "51374d5e",
   "metadata": {},
   "source": [
    "Linija sa najvećim brojem stanica je 50601, odnosno 601N - Dobanovci"
   ]
  },
  {
   "cell_type": "markdown",
   "id": "2f4392c8",
   "metadata": {},
   "source": [
    "2.1. Racunanje broja linija po stanici"
   ]
  },
  {
   "cell_type": "markdown",
   "id": "d020242d",
   "metadata": {},
   "source": [
    "Spajam trip i stop_times i izbacujem arrival_time jer mi za ovo izracunavanje nije bitno. Sada izbacujem duplikate vezane za stanicu(stop_id) i liniju(route_id) jer ima vise polazaka linija u toku dana. Onda grupisem po stanici i prebrojim linije."
   ]
  },
  {
   "cell_type": "code",
   "execution_count": 19,
   "id": "6f99c231",
   "metadata": {},
   "outputs": [
    {
     "name": "stdout",
     "output_type": "stream",
     "text": [
      "1648805\n",
      "         route_id        service_id trip_headsign  direction_id  \\\n",
      "trip_id                                                           \n",
      "665800        401    Zimski-Nedelja      Pinosava             0   \n",
      "665800        401    Zimski-Nedelja      Pinosava             0   \n",
      "665800        401    Zimski-Nedelja      Pinosava             0   \n",
      "665800        401    Zimski-Nedelja      Pinosava             0   \n",
      "665800        401    Zimski-Nedelja      Pinosava             0   \n",
      "...           ...               ...           ...           ...   \n",
      "1470996     20022  Zimski-Radni Dan   Trg Slavija             0   \n",
      "1470996     20022  Zimski-Radni Dan   Trg Slavija             0   \n",
      "1470996     20022  Zimski-Radni Dan   Trg Slavija             0   \n",
      "1470996     20022  Zimski-Radni Dan   Trg Slavija             0   \n",
      "1470996     20022  Zimski-Radni Dan   Trg Slavija             0   \n",
      "\n",
      "        departure_time  stop_id  stop_sequence  \n",
      "trip_id                                         \n",
      "665800        20:00:00    638.0            1.0  \n",
      "665800        20:01:00    148.0            2.0  \n",
      "665800        20:02:00    746.0            3.0  \n",
      "665800        20:04:00    845.0            4.0  \n",
      "665800        20:06:00    847.0            5.0  \n",
      "...                ...      ...            ...  \n",
      "1470996       12:04:00     82.0            1.0  \n",
      "1470996       12:06:00    193.0            2.0  \n",
      "1470996       12:11:00    195.0            3.0  \n",
      "1470996       12:16:00    197.0            4.0  \n",
      "1470996       12:20:00    199.0            5.0  \n",
      "\n",
      "[10552 rows x 7 columns]\n",
      "      stop_id  route_id  service_id  trip_headsign  direction_id  \\\n",
      "0         1.0         3           3              3             3   \n",
      "1         2.0         3           3              3             3   \n",
      "2         3.0         3           3              3             3   \n",
      "3         4.0         2           2              2             2   \n",
      "4         5.0         2           2              2             2   \n",
      "...       ...       ...         ...            ...           ...   \n",
      "3125   7941.0         1           1              1             1   \n",
      "3126   7942.0         1           1              1             1   \n",
      "3127   7968.0         1           1              1             1   \n",
      "3128   7969.0         1           1              1             1   \n",
      "3129   7970.0         1           1              1             1   \n",
      "\n",
      "      departure_time  stop_sequence  \n",
      "0                  3              3  \n",
      "1                  3              3  \n",
      "2                  3              3  \n",
      "3                  2              2  \n",
      "4                  2              2  \n",
      "...              ...            ...  \n",
      "3125               1              1  \n",
      "3126               1              1  \n",
      "3127               1              1  \n",
      "3128               1              1  \n",
      "3129               1              1  \n",
      "\n",
      "[3130 rows x 7 columns]\n",
      "      stop_id  route_id  service_id  trip_headsign  direction_id  \\\n",
      "264     298.0        24          24             24            24   \n",
      "118     149.0        23          23             23            23   \n",
      "462     496.0        23          23             23            23   \n",
      "469     503.0        23          23             23            23   \n",
      "117     148.0        22          22             22            22   \n",
      "...       ...       ...         ...            ...           ...   \n",
      "2348   2410.0         1           1              1             1   \n",
      "2350   2412.0         1           1              1             1   \n",
      "2351   2413.0         1           1              1             1   \n",
      "1467   1512.0         1           1              1             1   \n",
      "3129   7970.0         1           1              1             1   \n",
      "\n",
      "      departure_time  stop_sequence  \n",
      "264               24             24  \n",
      "118               23             23  \n",
      "462               23             23  \n",
      "469               23             23  \n",
      "117               22             22  \n",
      "...              ...            ...  \n",
      "2348               1              1  \n",
      "2350               1              1  \n",
      "2351               1              1  \n",
      "1467               1              1  \n",
      "3129               1              1  \n",
      "\n",
      "[3130 rows x 7 columns]\n"
     ]
    }
   ],
   "source": [
    "tripStopTimes = trips.set_index('trip_id').join(stop_times.set_index('trip_id'))\n",
    "print(tripStopTimes.shape[0])\n",
    "\n",
    "tripStopTimes = tripStopTimes.dropna(subset=['stop_id'])\n",
    "\n",
    "tripStopTimes.drop('arrival_time', inplace=True, axis=1)\n",
    "\n",
    "tripStopTimesUnique = tripStopTimes.drop_duplicates(subset=['route_id','stop_id'])\n",
    "print(tripStopTimesUnique)\n",
    "\n",
    "numberOfLinesByStops = tripStopTimesUnique.groupby(['stop_id'], as_index= False).count()\n",
    "print(numberOfLinesByStops)\n",
    "\n",
    "maxLinesByStop = numberOfLinesByStops.sort_values(by=['stop_sequence'], ascending=False);\n",
    "print(maxLinesByStop)\n"
   ]
  },
  {
   "cell_type": "markdown",
   "id": "68a0df81",
   "metadata": {},
   "source": [
    "Spajam tabelu tripsStopTimes i stops da bih videla naziv stanice sa najvecim brojem linija.\n",
    "Dobijeno je da najveci broj linija ima stanica 298 - Brankov Most sa 24 linija"
   ]
  },
  {
   "cell_type": "code",
   "execution_count": 20,
   "id": "5e1af3d5",
   "metadata": {},
   "outputs": [
    {
     "name": "stdout",
     "output_type": "stream",
     "text": [
      "                       stop_name  route_id  service_id  trip_headsign  \\\n",
      "stop_id                                                                 \n",
      "298.0               Brankov Most        24          24             24   \n",
      "149.0            Karađorđev Park        23          23             23   \n",
      "496.0                      Sajam        23          23             23   \n",
      "503.0              Ada Ciganlija        23          23             23   \n",
      "148.0            Karađorđev Park        22          22             22   \n",
      "...                          ...       ...         ...            ...   \n",
      "2410.0   Kumodraž (Stepina Kuća)         1           1              1   \n",
      "2412.0           Ripanj /Centar/         1           1              1   \n",
      "2413.0           Ripanj /Centar/         1           1              1   \n",
      "1512.0                 Zaklopača         1           1              1   \n",
      "7970.0                  Manastir         1           1              1   \n",
      "\n",
      "         direction_id  departure_time  stop_sequence  \n",
      "stop_id                                               \n",
      "298.0              24              24             24  \n",
      "149.0              23              23             23  \n",
      "496.0              23              23             23  \n",
      "503.0              23              23             23  \n",
      "148.0              22              22             22  \n",
      "...               ...             ...            ...  \n",
      "2410.0              1               1              1  \n",
      "2412.0              1               1              1  \n",
      "2413.0              1               1              1  \n",
      "1512.0              1               1              1  \n",
      "7970.0              1               1              1  \n",
      "\n",
      "[3130 rows x 7 columns]\n"
     ]
    }
   ],
   "source": [
    "stopsPath = \"../Desktop/asmPodaci/stops.txt\"\n",
    "\n",
    "stops = pd.read_csv(stopsPath)\n",
    "\n",
    "stops.drop('stop_code', inplace=True, axis=1)\n",
    "stops.drop('stop_desc', inplace=True, axis=1)\n",
    "stops.drop('stop_lat', inplace=True, axis=1)\n",
    "stops.drop('stop_lon', inplace=True, axis=1)\n",
    "stops.drop('zone_id', inplace=True, axis=1)\n",
    "stops.drop('stop_url', inplace=True, axis=1)\n",
    "stops.drop('location_type', inplace=True, axis=1)\n",
    "stops.drop('parent_station', inplace=True, axis=1)\n",
    "stops.drop('stop_timezone', inplace=True, axis=1)\n",
    "stops.drop('wheelchair_boarding', inplace=True, axis=1)\n",
    "\n",
    "stopsStopTimes = stops.set_index('stop_id').join(maxLinesByStop.set_index('stop_id'))\n",
    "stopsStopTimes = stopsStopTimes.sort_values(by=['stop_sequence'], ascending=False);\n",
    "print(stopsStopTimes)\n",
    "stopsStopTimes.to_csv(\"maxBrojLinijaSortirano.txt\", sep='\\t')"
   ]
  },
  {
   "cell_type": "markdown",
   "id": "578f76b5",
   "metadata": {},
   "source": [
    "3. Ocekivani dnevni promet stanice kao ukupan ocekivani broj stajanja linije na toj stanici"
   ]
  },
  {
   "cell_type": "code",
   "execution_count": 21,
   "id": "b54df7b7",
   "metadata": {},
   "outputs": [
    {
     "name": "stdout",
     "output_type": "stream",
     "text": [
      "         route_id   trip_headsign departure_time  stop_id\n",
      "trip_id                                                  \n",
      "665800        401        Pinosava       20:00:00    638.0\n",
      "665800        401        Pinosava       20:01:00    148.0\n",
      "665800        401        Pinosava       20:02:00    746.0\n",
      "665800        401        Pinosava       20:04:00    845.0\n",
      "665800        401        Pinosava       20:06:00    847.0\n",
      "...           ...             ...            ...      ...\n",
      "1494173       101  Padinska Skela       23:11:00   1289.0\n",
      "1494173       101  Padinska Skela       23:13:00   1291.0\n",
      "1494173       101  Padinska Skela       23:14:00   1293.0\n",
      "1494173       101  Padinska Skela       23:16:00   1295.0\n",
      "1494173       101  Padinska Skela       23:17:00   1297.0\n",
      "\n",
      "[1648781 rows x 4 columns]\n",
      "      stop_id  route_id  trip_headsign  departure_time\n",
      "0         1.0       616            616             616\n",
      "1         2.0       616            616             616\n",
      "2         3.0       616            616             616\n",
      "3         4.0       408            408             408\n",
      "4         5.0       405            405             405\n",
      "...       ...       ...            ...             ...\n",
      "3125   7941.0        60             60              60\n",
      "3126   7942.0        60             60              60\n",
      "3127   7968.0        60             60              60\n",
      "3128   7969.0        60             60              60\n",
      "3129   7970.0        60             60              60\n",
      "\n",
      "[3130 rows x 4 columns]\n",
      "      stop_id  route_id  trip_headsign  departure_time\n",
      "264     298.0      4063           4063            4063\n",
      "462     496.0      4051           4051            4051\n",
      "461     495.0      3999           3999            3999\n",
      "469     503.0      3985           3985            3985\n",
      "118     149.0      3916           3916            3916\n",
      "...       ...       ...            ...             ...\n",
      "2763   2847.0        10             10              10\n",
      "3088   3735.0         9              9               9\n",
      "1201   1243.0         6              6               6\n",
      "1203   1245.0         6              6               6\n",
      "1205   1247.0         6              6               6\n",
      "\n",
      "[3130 rows x 4 columns]\n"
     ]
    }
   ],
   "source": [
    "tripStopTimes = trips.set_index('trip_id').join(stop_times.set_index('trip_id'))\n",
    "\n",
    "tripStopTimes = tripStopTimes.dropna(subset=['stop_id'])\n",
    "\n",
    "tripStopTimes.drop('arrival_time', inplace=True, axis=1)\n",
    "tripStopTimes.drop('service_id', inplace=True, axis=1)\n",
    "tripStopTimes.drop('direction_id', inplace=True, axis=1)\n",
    "tripStopTimes.drop('stop_sequence', inplace=True, axis=1)\n",
    "print(tripStopTimes)\n",
    "\n",
    "dailyCountLinesByStop = tripStopTimes.groupby(['stop_id'], as_index= False).count()\n",
    "print(dailyCountLinesByStop)\n",
    "\n",
    "stopsWithMaxDailyCount = dailyCountLinesByStop.sort_values(by=['route_id'], ascending=False);\n",
    "print(stopsWithMaxDailyCount)"
   ]
  },
  {
   "cell_type": "code",
   "execution_count": 22,
   "id": "8f00dca9",
   "metadata": {},
   "outputs": [
    {
     "name": "stdout",
     "output_type": "stream",
     "text": [
      "                   stop_name  route_id  trip_headsign  departure_time\n",
      "stop_id                                                              \n",
      "298.0           Brankov Most      4063           4063            4063\n",
      "496.0                  Sajam      4051           4051            4051\n",
      "495.0                  Sajam      3999           3999            3999\n",
      "503.0          Ada Ciganlija      3985           3985            3985\n",
      "149.0        Karađorđev Park      3916           3916            3916\n",
      "...                      ...       ...            ...             ...\n",
      "2847.0   Novi Beograd (Ušće)        10             10              10\n",
      "3735.0       Novi Železnik 1         9              9               9\n",
      "1243.0      Mihajla Šolohova         6              6               6\n",
      "1245.0         Milana Ajvaza         6              6               6\n",
      "1247.0     Valjevskog Odreda         6              6               6\n",
      "\n",
      "[3130 rows x 4 columns]\n"
     ]
    }
   ],
   "source": [
    "stopsDaily = stops.set_index('stop_id').join(stopsWithMaxDailyCount.set_index('stop_id'))\n",
    "stopsDaily = stopsDaily.sort_values(by=['route_id'], ascending=False);\n",
    "print(stopsDaily)\n",
    "stopsDaily.to_csv(\"maxDnevniPrometStanice.txt\", sep='\\t')"
   ]
  },
  {
   "cell_type": "markdown",
   "id": "4ec8c08e",
   "metadata": {},
   "source": [
    "4. Svakoj stanici dodeliti tip na osnovu vrsta prevoza koje prolaze njom (stanica autobusa, tramvaja, \n",
    "trolejbusa ili meštovita stanica). Koliko ima stanica svakog tipa?"
   ]
  },
  {
   "cell_type": "code",
   "execution_count": 23,
   "id": "c8e8bcbf",
   "metadata": {},
   "outputs": [
    {
     "name": "stdout",
     "output_type": "stream",
     "text": [
      "            trip_headsign departure_time  stop_id route_short_name  \\\n",
      "route_id                                                             \n",
      "2         Spoljašnji Krug       04:10:00      7.0                2   \n",
      "2         Spoljašnji Krug       04:14:00      5.0                2   \n",
      "2         Spoljašnji Krug       04:18:00     71.0                2   \n",
      "2         Spoljašnji Krug       04:20:00     73.0                2   \n",
      "2         Spoljašnji Krug       04:22:00     52.0                2   \n",
      "...                   ...            ...      ...              ...   \n",
      "90004            Kumodraž       07:47:00    688.0               E9   \n",
      "90004            Kumodraž       07:48:00    690.0               E9   \n",
      "90004            Kumodraž       07:49:00    692.0               E9   \n",
      "90004            Kumodraž       07:49:00    694.0               E9   \n",
      "90004            Kumodraž       07:50:00   2199.0               E9   \n",
      "\n",
      "                            route_long_name  route_type  \n",
      "route_id                                                 \n",
      "2         Unutrašnji Krug - Spoljašnji Krug           0  \n",
      "2         Unutrašnji Krug - Spoljašnji Krug           0  \n",
      "2         Unutrašnji Krug - Spoljašnji Krug           0  \n",
      "2         Unutrašnji Krug - Spoljašnji Krug           0  \n",
      "2         Unutrašnji Krug - Spoljašnji Krug           0  \n",
      "...                                     ...         ...  \n",
      "90004             Kumodraž - Studentski Trg           3  \n",
      "90004             Kumodraž - Studentski Trg           3  \n",
      "90004             Kumodraž - Studentski Trg           3  \n",
      "90004             Kumodraž - Studentski Trg           3  \n",
      "90004             Kumodraž - Studentski Trg           3  \n",
      "\n",
      "[10552 rows x 6 columns]\n"
     ]
    }
   ],
   "source": [
    "tripStopTimes = trips.set_index('trip_id').join(stop_times.set_index('trip_id'))\n",
    "\n",
    "tripStopTimes = tripStopTimes.dropna(subset=['stop_id'])\n",
    "\n",
    "tripStopTimes.drop('arrival_time', inplace=True, axis=1)\n",
    "tripStopTimes.drop('service_id', inplace=True, axis=1)\n",
    "tripStopTimes.drop('direction_id', inplace=True, axis=1)\n",
    "tripStopTimes.drop('stop_sequence', inplace=True, axis=1)\n",
    "\n",
    "tripStopTimes =  tripStopTimes.drop_duplicates(subset=['route_id','stop_id'])\n",
    "\n",
    "routesPath = \"../Desktop/asmPodaci/routes.txt\"\n",
    "routes = pd.read_csv(routesPath)\n",
    "routes.drop('agency_id', inplace=True, axis=1)\n",
    "routes.drop('route_desc', inplace=True, axis=1)\n",
    "routes.drop('route_url', inplace=True, axis=1)\n",
    "routes.drop('route_color', inplace=True, axis=1)\n",
    "routes.drop('route_text_color', inplace=True, axis=1)\n",
    "\n",
    "tripStopTimesRoutes = tripStopTimes.set_index('route_id').join(routes.set_index('route_id'))\n",
    "tripStopTimesRoutes['route_type'] = tripStopTimesRoutes['route_type'].replace([702], 3)\n",
    "print(tripStopTimesRoutes)\n",
    "tripStopTimesRoutes.to_csv(\"tripStopTimesRoutes.txt\", sep='\\t')\n",
    "\n"
   ]
  },
  {
   "cell_type": "code",
   "execution_count": 24,
   "id": "8672e21e",
   "metadata": {},
   "outputs": [
    {
     "name": "stdout",
     "output_type": "stream",
     "text": [
      "route_type                            0    3  800     type\n",
      "stop_id stop_name                                         \n",
      "1.0     Kalemegdan (Donji Grad)     3.0  0.0  0.0  tramvaj\n",
      "2.0     Tadeuša Košćuška            3.0  0.0  0.0  tramvaj\n",
      "3.0     Tadeuša Košćuška            3.0  0.0  0.0  tramvaj\n",
      "4.0     Kalemegdan                  2.0  0.0  0.0  tramvaj\n",
      "5.0     Kalemegdan                  2.0  0.0  0.0  tramvaj\n",
      "...                                 ...  ...  ...      ...\n",
      "7941.0  Simić - R                   0.0  1.0  0.0  autobus\n",
      "7942.0  Simić - R                   0.0  1.0  0.0  autobus\n",
      "7968.0  Stara Lipovica - Okretnica  0.0  1.0  0.0  autobus\n",
      "7969.0  Manastir                    0.0  1.0  0.0  autobus\n",
      "7970.0  Manastir                    0.0  1.0  0.0  autobus\n",
      "\n",
      "[3130 rows x 4 columns]\n",
      "route_type     type     0     3   800\n",
      "0           autobus  2901  2901  2901\n",
      "1               mix   151   151   151\n",
      "2           tramvaj    74    74    74\n",
      "3             trola     4     4     4\n"
     ]
    }
   ],
   "source": [
    "tripStopTimesRoutes = tripStopTimesRoutes.set_index('stop_id').join(stops.set_index('stop_id'))\n",
    "tripStopTimesRoutes = tripStopTimesRoutes.groupby(['stop_id', 'stop_name'])['route_type'].value_counts().unstack().fillna(0)\n",
    "\n",
    "conditionBus = tripStopTimesRoutes[3]>0\n",
    "conditionTramvaj = tripStopTimesRoutes[0]>0\n",
    "conditionTrola = tripStopTimesRoutes[800]>0\n",
    "conditionMix = ((tripStopTimesRoutes[3]>0) & (tripStopTimesRoutes[0]>0)) | ((tripStopTimesRoutes[3]>0) & (tripStopTimesRoutes[800]>0)) | ((tripStopTimesRoutes[0]>0) & (tripStopTimesRoutes[800]>0))\n",
    "#tripStopTimesRoutes = tripStopTimesRoutes[condition]\n",
    "\n",
    "tripStopTimesRoutes['type'] = 'mesovita'\n",
    "tripStopTimesRoutes.loc[conditionBus, \"type\"] = \"autobus\"\n",
    "tripStopTimesRoutes.loc[conditionTramvaj, \"type\"] = \"tramvaj\"\n",
    "tripStopTimesRoutes.loc[conditionTrola, \"type\"] = \"trola\"\n",
    "tripStopTimesRoutes.loc[conditionMix, \"type\"] = \"mix\"\n",
    "print(tripStopTimesRoutes)\n",
    "\n",
    "tripStopTimesRoutes.to_csv(\"tripStopTimesRoutesTypes.txt\", sep='\\t')\n",
    "\n",
    "numberOfBuses = tripStopTimesRoutes.groupby(['type'], as_index= False).count()\n",
    "print(numberOfBuses)"
   ]
  },
  {
   "cell_type": "code",
   "execution_count": null,
   "id": "0ccef804",
   "metadata": {},
   "outputs": [],
   "source": []
  }
 ],
 "metadata": {
  "celltoolbar": "Raw Cell Format",
  "kernelspec": {
   "display_name": "Python 3 (ipykernel)",
   "language": "python",
   "name": "python3"
  },
  "language_info": {
   "codemirror_mode": {
    "name": "ipython",
    "version": 3
   },
   "file_extension": ".py",
   "mimetype": "text/x-python",
   "name": "python",
   "nbconvert_exporter": "python",
   "pygments_lexer": "ipython3",
   "version": "3.9.13"
  }
 },
 "nbformat": 4,
 "nbformat_minor": 5
}
