{
 "cells": [
  {
   "cell_type": "raw",
   "id": "2525dcf0",
   "metadata": {},
   "source": [
    "Lwalk"
   ]
  },
  {
   "cell_type": "code",
   "execution_count": 1,
   "id": "6b9768a9",
   "metadata": {},
   "outputs": [],
   "source": [
    "import pandas as pd\n",
    "\n",
    "# spajam tripStopTimes sa stops da bih za stajalista imala informaciju za smer(direction_id)\n",
    "\n",
    "tripStopTimesPath = \"../Desktop/sredjeniPodaci/tripStopTimes.txt\"\n",
    "tripStopTimes = pd.read_csv(tripStopTimesPath, sep='\\t')\n",
    "\n",
    "stopsPath = \"../Desktop/asmPodaci/stops.txt\"\n",
    "stops = pd.read_csv(stopsPath)\n",
    "\n",
    "# izbacujem nebitne kolone\n",
    "stops.drop('zone_id', inplace=True, axis=1)\n",
    "stops.drop('stop_url', inplace=True, axis=1)\n",
    "stops.drop('location_type', inplace=True, axis=1)\n",
    "stops.drop('stop_desc', inplace=True, axis=1)\n",
    "stops.drop('stop_code', inplace=True, axis=1)\n",
    "stops.drop('parent_station', inplace=True, axis=1)\n",
    "stops.drop('stop_timezone', inplace=True, axis=1)\n",
    "stops.drop('wheelchair_boarding', inplace=True, axis=1)\n",
    "\n",
    "mergedTripStopTimes = tripStopTimes.merge(stops, on='stop_id', how='inner')\n",
    "\n",
    "# uklanjam duplikate - opet se dobije 3130 stajalista\n",
    "mergedTripStopTimes = mergedTripStopTimes.drop_duplicates(subset=['stop_id', 'stop_name'])\n",
    "\n",
    "mergedTripStopTimes.to_csv(\"mergedTripStopTimes.txt\", sep='\\t')"
   ]
  },
  {
   "cell_type": "raw",
   "id": "8dacd73e",
   "metadata": {},
   "source": [
    "RACUNANJE PRAGA  - racunanje proseka svih stanica sa istim nazivom"
   ]
  },
  {
   "cell_type": "code",
   "execution_count": 2,
   "id": "4444e36b",
   "metadata": {},
   "outputs": [
    {
     "name": "stdout",
     "output_type": "stream",
     "text": [
      "Prosecno vreme: 2.8550042578401005\n"
     ]
    }
   ],
   "source": [
    "import numpy as np\n",
    "\n",
    "def haversine(lat1, lon1, lat2, lon2):\n",
    "    R = 6371\n",
    "    lat1_rad = np.radians(lat1)\n",
    "    lon1_rad = np.radians(lon1)\n",
    "    lat2_rad = np.radians(lat2)\n",
    "    lon2_rad = np.radians(lon2)\n",
    "    \n",
    "    dlat = lat1_rad - lat2_rad\n",
    "    dlon = lon1_rad - lon2_rad\n",
    "    \n",
    "    a = np.sin(dlat/2)**2 + np.cos(lat1_rad) * np.cos(lat2_rad) * np.sin(dlon/2)**2\n",
    "    c = 2 * np.arcsin(np.sqrt(a))\n",
    "    \n",
    "    distance = R * c\n",
    "    return distance\n",
    "\n",
    "# prosecna brzina pesacenja u km/h\n",
    "average_walking_speed_kmph = 5.0\n",
    "\n",
    "grouped = mergedTripStopTimes.groupby(['direction_id', 'stop_name'])\n",
    "all_means = []\n",
    "\n",
    "for group_name, group_data in grouped:\n",
    "    latitudes = group_data['stop_lat'].values\n",
    "    longitudes = group_data['stop_lon'].values\n",
    "    \n",
    "    times = []\n",
    "    if len(group_data) > 1:\n",
    "        for i in range(len(latitudes)):\n",
    "            for j in range(len(latitudes)):\n",
    "                if i != j:\n",
    "                    lat1, lon1 = latitudes[i], longitudes[i]\n",
    "                    lat2, lon2 = latitudes[j], longitudes[j]\n",
    "\n",
    "                    distance = haversine(lat1, lon1, lat2, lon2)\n",
    "\n",
    "                    time = (distance / average_walking_speed_kmph) * 60\n",
    "                    # postoje neke stanice(npr. zeleznicka stanica) koje su dosta udaljenje, pa ogranicavam vreme\n",
    "                    if(time < 15):\n",
    "                        times.append(time)\n",
    "                        unique_times = list(set(times))\n",
    "    \n",
    "        # izracunavanje prosecnog vremena za sve kombinacije stajalista u grupi\n",
    "        mean_time = np.mean(unique_times)\n",
    "\n",
    "        all_means.append(mean_time)\n",
    "\n",
    "# izracunavanje prosecnog vremena za sve grupe\n",
    "overall_mean_time = np.mean(all_means)\n",
    "print(\"Prosecno vreme:\", overall_mean_time)\n",
    " "
   ]
  },
  {
   "cell_type": "code",
   "execution_count": 3,
   "id": "0cd8562b",
   "metadata": {},
   "outputs": [],
   "source": [
    "tripStopTimesPath = \"../Desktop/sredjeniPodaci/tripStopTimes.txt\"\n",
    "tripStopTimes = pd.read_csv(tripStopTimesPath, sep='\\t')\n",
    "\n",
    "# prethodnom analizom sam zakljucila da sve nocne linije pocinju sa 50, 51, 52 ili 53 i posle imaju vrednost vecu od 15\n",
    "# izbacujem nocne linije jer se u zadatku trazi ispitivanje za dnevni rezim\n",
    "tripStopTimes = tripStopTimes[~(((tripStopTimes['route_id'].astype(str).str.startswith('50')) & (tripStopTimes['route_id'] >= 50015)) |\n",
    "                    ((tripStopTimes['route_id'].astype(str).str.startswith('51')) & (tripStopTimes['route_id'] >= 51015)) |\n",
    "                    ((tripStopTimes['route_id'].astype(str).str.startswith('52')) & (tripStopTimes['route_id'] >= 52015)) |\n",
    "                    ((tripStopTimes['route_id'].astype(str).str.startswith('53')) & (tripStopTimes['route_id'] >= 53015)))]\n",
    "\n",
    "# postoje stop_id koji su NaN, pa te vrednosti izbacujem, da se ne bi stvarali dodatni cvorovi\n",
    "tripStopTimes = tripStopTimes.dropna(subset=['stop_id'])"
   ]
  },
  {
   "cell_type": "raw",
   "id": "cddf3b21",
   "metadata": {},
   "source": [
    "Spajanje svih stajalista koji su udaljeni na manje od 3 min hoda i spajanje tih stajalista u tabeli tripStopTimes"
   ]
  },
  {
   "cell_type": "code",
   "execution_count": 4,
   "id": "e6a0d7c5",
   "metadata": {},
   "outputs": [],
   "source": [
    "directionZero = mergedTripStopTimes[mergedTripStopTimes['direction_id'] == 0]\n",
    "\n",
    "directionZero = directionZero.sort_values(by=['stop_lat', 'stop_lon'], ascending=[False, False])\n",
    "\n",
    "for index1, row1 in directionZero.iterrows():\n",
    "    lat1 = row1['stop_lat']\n",
    "    lon1 = row1['stop_lon']\n",
    "    for index2, row2 in directionZero.iterrows():\n",
    "        if index1 == index2:\n",
    "            continue\n",
    "        lat2 = row2['stop_lat']\n",
    "        lon2 = row2['stop_lon']\n",
    "        distance = haversine(lat1, lon1, lat2, lon2)\n",
    "        time = (distance / average_walking_speed_kmph) * 60\n",
    "        if(time < 3):\n",
    "            #print(time)\n",
    "            directionZero.loc[index2, 'stop_id'] = f\"{row1['stop_id']}\"\n",
    "            \n",
    "            # Definišite uslov za zamenu starih vrednosti u koloni 'stop_id'\n",
    "            condition = tripStopTimes['stop_id'] == row2['stop_id']  # Zamena vrednosti 'stari_stop_id'\n",
    "\n",
    "            # Postavite nove vrednosti u odgovarajuće redove\n",
    "            tripStopTimes.loc[condition, 'stop_id'] = f\"{row1['stop_id']}\"\n"
   ]
  },
  {
   "cell_type": "code",
   "execution_count": 5,
   "id": "c0e74a73",
   "metadata": {},
   "outputs": [],
   "source": [
    "directionOne = mergedTripStopTimes[mergedTripStopTimes['direction_id'] == 1]\n",
    "\n",
    "directionOne = directionOne.sort_values(by=['stop_lat', 'stop_lon'], ascending=[False, False])\n",
    "\n",
    "for index1, row1 in directionOne.iterrows():\n",
    "    lat1 = row1['stop_lat']\n",
    "    lon1 = row1['stop_lon']\n",
    "    for index2, row2 in directionOne.iterrows():\n",
    "        if index1 == index2:\n",
    "            continue\n",
    "        lat2 = row2['stop_lat']\n",
    "        lon2 = row2['stop_lon']\n",
    "        distance = haversine(lat1, lon1, lat2, lon2)\n",
    "        time = (distance / average_walking_speed_kmph) * 60\n",
    "        if(time < 3):\n",
    "            #print(time)\n",
    "            directionOne.loc[index2, 'stop_id'] = f\"{row1['stop_id']}\"\n",
    "            \n",
    "            # Definišite uslov za zamenu starih vrednosti u koloni 'stop_id'\n",
    "            condition = tripStopTimes['stop_id'] == row2['stop_id']  # Zamena vrednosti 'stari_stop_id'\n",
    "\n",
    "            # Postavite nove vrednosti u odgovarajuće redove\n",
    "            tripStopTimes.loc[condition, 'stop_id'] = f\"{row1['stop_id']}\"\n"
   ]
  },
  {
   "cell_type": "code",
   "execution_count": 6,
   "id": "45cb8ff2",
   "metadata": {},
   "outputs": [
    {
     "name": "stdout",
     "output_type": "stream",
     "text": [
      "Broj jedinstvenih stop_id: 2586\n"
     ]
    }
   ],
   "source": [
    "directionZero.to_csv(\"directionZero.txt\", sep='\\t')\n",
    "directionOne.to_csv(\"directionOne.txt\", sep='\\t')\n",
    "\n",
    "broj_jedinstvenih_stop_id = tripStopTimes['stop_id'].nunique()\n",
    "\n",
    "# Ispis rezultata\n",
    "print(f\"Broj jedinstvenih stop_id: {broj_jedinstvenih_stop_id}\")"
   ]
  },
  {
   "cell_type": "raw",
   "id": "b879d3ed",
   "metadata": {},
   "source": [
    "FORMIRANJE GRAFA"
   ]
  },
  {
   "cell_type": "code",
   "execution_count": 30,
   "id": "b733f26c",
   "metadata": {},
   "outputs": [
    {
     "name": "stdout",
     "output_type": "stream",
     "text": [
      "         trip_id  route_id        service_id   trip_headsign  direction_id  \\\n",
      "0         665800       401    Zimski-Nedelja        Pinosava             0   \n",
      "1         665800       401    Zimski-Nedelja        Pinosava             0   \n",
      "2         665800       401    Zimski-Nedelja        Pinosava             0   \n",
      "3         665800       401    Zimski-Nedelja        Pinosava             0   \n",
      "4         665800       401    Zimski-Nedelja        Pinosava             0   \n",
      "...          ...       ...               ...             ...           ...   \n",
      "1648800  1494173       101  Zimski-Radni Dan  Padinska Skela             0   \n",
      "1648801  1494173       101  Zimski-Radni Dan  Padinska Skela             0   \n",
      "1648802  1494173       101  Zimski-Radni Dan  Padinska Skela             0   \n",
      "1648803  1494173       101  Zimski-Radni Dan  Padinska Skela             0   \n",
      "1648804  1494173       101  Zimski-Radni Dan  Padinska Skela             0   \n",
      "\n",
      "        arrival_time stop_id  stop_sequence next_stop_id  \n",
      "0           20:00:00   146.0            1.0        148.0  \n",
      "1           20:01:00   148.0            2.0        391.0  \n",
      "2           20:02:00   391.0            3.0        154.0  \n",
      "3           20:04:00   154.0            4.0        847.0  \n",
      "4           20:06:00   847.0            5.0        161.0  \n",
      "...              ...     ...            ...          ...  \n",
      "1648800     23:11:00  1289.0           20.0       1291.0  \n",
      "1648801     23:13:00  1291.0           21.0       1293.0  \n",
      "1648802     23:14:00  1293.0           22.0       1295.0  \n",
      "1648803     23:16:00  1295.0           23.0       1297.0  \n",
      "1648804     23:17:00  1297.0           24.0          NaN  \n",
      "\n",
      "[1528482 rows x 9 columns]\n"
     ]
    }
   ],
   "source": [
    "import pandas as pd\n",
    "import networkx as nx\n",
    "import matplotlib.pyplot as plt\n",
    "from itertools import combinations\n",
    "\n",
    "# neusmeren beztezinski graf\n",
    "G = nx.Graph()\n",
    "\n",
    "# KREIRANJE CVOROVA\n",
    "\n",
    "# spajam directionZero i directionOne u jednu tabelu\n",
    "zeroPlusOne = pd.concat([directionZero, directionOne], ignore_index=True)\n",
    "# print(zeroPlusOne['stop_id'].nunique())\n",
    "\n",
    "for stop in zeroPlusOne.itertuples(index=False):\n",
    "    stop_id = stop.stop_id\n",
    "    stop_name = stop.stop_name\n",
    "    stop_lat = stop.stop_lat\n",
    "    stop_lon = stop.stop_lon\n",
    "    G.add_node(stop_id, name=stop_name, lat=stop_lat, lon=stop_lon)\n",
    "\n",
    "# KREIRANJE GRANA\n",
    "    \n",
    "# SPAJANJE KRAJNJIH STANICA SADA NE TREBA JER SU UGLAVNOM TE STANICE BLIZU I ONDA SU SPOJENE U JEDAN CVOR\n",
    "# PA DA SE NE BI STVARALI SELF LOOPS\n",
    "\n",
    "# sortiram po trip_id i stop_sequence\n",
    "tripStopTimesSorted = tripStopTimes.sort_values(by=['trip_id', 'stop_sequence'])\n",
    "\n",
    "# dodajem kolonu 'next_stop_id' sa sledecim stop_id\n",
    "tripStopTimesSorted['next_stop_id'] = tripStopTimesSorted.groupby(['trip_id', 'route_id'])['stop_id'].shift(-1)\n",
    "\n",
    "tripStopTimesSorted = tripStopTimesSorted[tripStopTimesSorted['stop_id'] != tripStopTimesSorted['next_stop_id']]\n",
    "#print(tripStopTimesSorted)\n",
    "#tripStopTimesSorted.to_csv(\"tstsorted.txt\", sep='\\t')\n",
    "# Filtriranje i izbacivanje NaN vrednosti\n",
    "filtered_data = tripStopTimesSorted.dropna(subset=['next_stop_id'])\n",
    "\n",
    "# Konverzija podataka u listu tuplova\n",
    "edges = list(filtered_data[['stop_id', 'next_stop_id']].itertuples(index=False, name=None))\n",
    "\n",
    "# Dodavanje grana u graf\n",
    "G.add_edges_from(edges)"
   ]
  },
  {
   "cell_type": "code",
   "execution_count": 31,
   "id": "ea12a99c",
   "metadata": {},
   "outputs": [
    {
     "name": "stdout",
     "output_type": "stream",
     "text": [
      "Broj čvorova (stajališta): 2830\n",
      "Broj grana: 3285\n",
      "Čvorovi sa self loop:\n"
     ]
    }
   ],
   "source": [
    "print(\"Broj čvorova (stajališta):\", G.number_of_nodes())\n",
    "print(\"Broj grana:\", G.number_of_edges())\n",
    "\n",
    "# Pronalaženje čvorova sa self loop\n",
    "nodes_with_selfloops = [node for node in G.nodes if G.has_edge(node, node)]\n",
    "\n",
    "# Ispisivanje čvorova sa self loop\n",
    "print(\"Čvorovi sa self loop:\")\n",
    "for node in nodes_with_selfloops:\n",
    "    print(node)"
   ]
  },
  {
   "cell_type": "code",
   "execution_count": 32,
   "id": "1ea1af4a",
   "metadata": {},
   "outputs": [
    {
     "name": "stdout",
     "output_type": "stream",
     "text": [
      "Br povezanih komponenti:  245\n",
      "Velicine povezanih komp:  [2586, 1, 1, 1, 1, 1, 1, 1, 1, 1, 1, 1, 1, 1, 1, 1, 1, 1, 1, 1, 1, 1, 1, 1, 1, 1, 1, 1, 1, 1, 1, 1, 1, 1, 1, 1, 1, 1, 1, 1, 1, 1, 1, 1, 1, 1, 1, 1, 1, 1, 1, 1, 1, 1, 1, 1, 1, 1, 1, 1, 1, 1, 1, 1, 1, 1, 1, 1, 1, 1, 1, 1, 1, 1, 1, 1, 1, 1, 1, 1, 1, 1, 1, 1, 1, 1, 1, 1, 1, 1, 1, 1, 1, 1, 1, 1, 1, 1, 1, 1, 1, 1, 1, 1, 1, 1, 1, 1, 1, 1, 1, 1, 1, 1, 1, 1, 1, 1, 1, 1, 1, 1, 1, 1, 1, 1, 1, 1, 1, 1, 1, 1, 1, 1, 1, 1, 1, 1, 1, 1, 1, 1, 1, 1, 1, 1, 1, 1, 1, 1, 1, 1, 1, 1, 1, 1, 1, 1, 1, 1, 1, 1, 1, 1, 1, 1, 1, 1, 1, 1, 1, 1, 1, 1, 1, 1, 1, 1, 1, 1, 1, 1, 1, 1, 1, 1, 1, 1, 1, 1, 1, 1, 1, 1, 1, 1, 1, 1, 1, 1, 1, 1, 1, 1, 1, 1, 1, 1, 1, 1, 1, 1, 1, 1, 1, 1, 1, 1, 1, 1, 1, 1, 1, 1, 1, 1, 1, 1, 1, 1, 1, 1, 1, 1, 1, 1, 1, 1, 1, 1, 1, 1, 1, 1, 1]\n"
     ]
    }
   ],
   "source": [
    "# br povezanih komponenti\n",
    "numOfConnectedComponents = nx.number_connected_components(G)\n",
    "print(\"Br povezanih komponenti: \", numOfConnectedComponents)\n",
    "\n",
    "# velicina povezanih komponenata\n",
    "sizeOfConnectedComponents = [len(component) for component in nx.connected_components(G)]\n",
    "print(\"Velicine povezanih komp: \", sizeOfConnectedComponents)"
   ]
  },
  {
   "cell_type": "code",
   "execution_count": 33,
   "id": "9a2969a9",
   "metadata": {},
   "outputs": [
    {
     "name": "stdout",
     "output_type": "stream",
     "text": [
      "Br povezanih komponenti:  1\n",
      "Velicine povezanih komp:  [2586]\n"
     ]
    }
   ],
   "source": [
    "# uklanjanjam sve nepovezane komponente\n",
    "\n",
    "connected_components = list(nx.connected_components(G))\n",
    "\n",
    "# komponente sa veličinom 1\n",
    "components_to_remove = [component for component in connected_components if len(component) == 1]\n",
    "\n",
    "for component in components_to_remove:\n",
    "    G.remove_nodes_from(component)\n",
    "    \n",
    "# br povezanih komponenti\n",
    "numOfConnectedComponents = nx.number_connected_components(G)\n",
    "print(\"Br povezanih komponenti: \", numOfConnectedComponents)\n",
    "\n",
    "# velicina povezanih komponenata\n",
    "sizeOfConnectedComponents = [len(component) for component in nx.connected_components(G)]\n",
    "print(\"Velicine povezanih komp: \", sizeOfConnectedComponents)"
   ]
  },
  {
   "cell_type": "code",
   "execution_count": 35,
   "id": "a8975538",
   "metadata": {},
   "outputs": [],
   "source": [
    "output_path = \"../Desktop/asmPodaci/LWalkgraph.gml\"\n",
    "\n",
    "nx.write_gml(G, output_path)"
   ]
  },
  {
   "cell_type": "raw",
   "id": "49cf843c",
   "metadata": {},
   "source": [
    "1. Gustina mreze\n",
    "neusmerena je mreza pa je max broj mogucih grana = n*(n-1)/2"
   ]
  },
  {
   "cell_type": "code",
   "execution_count": 34,
   "id": "436e2cd4",
   "metadata": {},
   "outputs": [
    {
     "name": "stdout",
     "output_type": "stream",
     "text": [
      "Gustina L mreze: 0.000982825241106329\n"
     ]
    }
   ],
   "source": [
    "numOfNodes = G.number_of_nodes()\n",
    "numOfEdges = G.number_of_edges()\n",
    "\n",
    "density = 2 * numOfEdges / (numOfNodes * (numOfNodes - 1))\n",
    "\n",
    "print(\"Gustina L mreze:\", density)"
   ]
  },
  {
   "cell_type": "raw",
   "id": "9e080eee",
   "metadata": {},
   "source": [
    "2. Prosecna distanca i dijametar mreze"
   ]
  },
  {
   "cell_type": "code",
   "execution_count": 36,
   "id": "681b8202",
   "metadata": {},
   "outputs": [
    {
     "name": "stdout",
     "output_type": "stream",
     "text": [
      "Prosecna distanca: 25.296343501161587\n",
      "Dijametar: 102\n"
     ]
    }
   ],
   "source": [
    "averageDistance = nx.average_shortest_path_length(G)\n",
    "diameter = nx.diameter(G)\n",
    "\n",
    "print(\"Prosecna distanca:\", averageDistance)\n",
    "print(\"Dijametar:\", diameter)"
   ]
  },
  {
   "cell_type": "raw",
   "id": "653c1d61",
   "metadata": {},
   "source": [
    "3. U kojoj meri je mreža povezana i centralizovana? Navesti broj i veličine povezanih \n",
    "komponenata i proceniti da li postoji gigantska komponenta."
   ]
  },
  {
   "cell_type": "code",
   "execution_count": 37,
   "id": "9da18871",
   "metadata": {},
   "outputs": [
    {
     "name": "stdout",
     "output_type": "stream",
     "text": [
      "Br povezanih komponenti:  1\n",
      "Velicine povezanih komp:  [2586]\n",
      "Postoji gigantska komp:  True\n",
      "Centralizacija: 0.006759346312076699\n"
     ]
    }
   ],
   "source": [
    "# br povezanih komponenti\n",
    "numOfConnectedComponents = nx.number_connected_components(G)\n",
    "print(\"Br povezanih komponenti: \", numOfConnectedComponents)\n",
    "\n",
    "# velicina povezanih komponenata\n",
    "sizeOfConnectedComponents = [len(component) for component in nx.connected_components(G)]\n",
    "print(\"Velicine povezanih komp: \", sizeOfConnectedComponents)\n",
    "\n",
    "# provera postojanja gigantske komp\n",
    "hasGiantComponent = max(sizeOfConnectedComponents) > 1\n",
    "print(\"Postoji gigantska komp: \", hasGiantComponent)\n",
    "\n",
    "# izracunavanje centralizacije\n",
    "max_degree = max(dict(G.degree()).values()) # sadrzi cvorove kao kljuceve i njihov stepen kao vrednost\n",
    "centralization = (sum([max_degree - degree for degree in dict(G.degree()).values()])) / ((len(G) - 1) * (len(G) - 2))\n",
    "print(\"Centralizacija:\", centralization)"
   ]
  },
  {
   "cell_type": "raw",
   "id": "a1c186fe",
   "metadata": {},
   "source": [
    "4. Koliki je prosečni, a koliki globalni koeficijent klasterizacije L mreze? Kakva je raspodela \n",
    "lokalnog koeficijenta klasterizacije njenih čvorova? Da li je klasterisanje izraženo ili ne?\n",
    "Odgovor dati upoređivanjem sa slučajno generisanim Erdos-Renyi i scale free mrežama istih \n",
    "dimenzija"
   ]
  },
  {
   "cell_type": "code",
   "execution_count": 38,
   "id": "969f87f3",
   "metadata": {},
   "outputs": [
    {
     "name": "stdout",
     "output_type": "stream",
     "text": [
      "Prosečni koef klasterizacije: 0.03029919256214574\n",
      "Globalni koef klasterizacije: 0.06696428571428571\n"
     ]
    },
    {
     "data": {
      "image/png": "[encoded data removed]",
      "text/plain": [
       "<Figure size 640x480 with 1 Axes>"
      ]
     },
     "metadata": {},
     "output_type": "display_data"
    },
    {
     "name": "stdout",
     "output_type": "stream",
     "text": [
      "Prosečni koeficijent klasterizacije (Erdos-Renyi): 0.20023581778184976\n",
      "Prosečni koeficijent klasterizacije (Scale-free): 0.013816133961998964\n"
     ]
    }
   ],
   "source": [
    "averageClusteringCoef = nx.average_clustering(G)\n",
    "globalClusteringCoef = nx.transitivity(G) # compute graph transitivity, the fraction of all possible triangles present in G\n",
    "\n",
    "print(\"Prosečni koef klasterizacije:\", averageClusteringCoef)\n",
    "print(\"Globalni koef klasterizacije:\", globalClusteringCoef)\n",
    "\n",
    "localClusteringCoeffs = nx.clustering(G)\n",
    "plt.hist(list(localClusteringCoeffs.values()), bins=10)\n",
    "plt.xlabel('Lokalni koeficijent klasterizacije')\n",
    "plt.ylabel('Broj čvorova')\n",
    "plt.title('Raspodela lokalnog koeficijenta klasterizacije')\n",
    "plt.show()\n",
    "\n",
    "# Generisanje Erdos-Renyi mreže\n",
    "erdosRenyiGraph = nx.erdos_renyi_graph(n=len(G.nodes), p=0.2)\n",
    "erdosRenyiAvgClustering = nx.average_clustering(erdosRenyiGraph)\n",
    "\n",
    "# Generisanje scale-free mreže\n",
    "scaleFreeGraph = nx.barabasi_albert_graph(n=len(G.nodes), m=2)\n",
    "scaleFreeAvgClustering = nx.average_clustering(scaleFreeGraph)\n",
    "\n",
    "print(\"Prosečni koeficijent klasterizacije (Erdos-Renyi):\", erdosRenyiAvgClustering)\n",
    "print(\"Prosečni koeficijent klasterizacije (Scale-free):\", scaleFreeAvgClustering)"
   ]
  },
  {
   "cell_type": "raw",
   "id": "fdb27fb4",
   "metadata": {},
   "source": [
    "5. Izvršiti asortativnu analizu po stepenu čvora i dati odgovor da li je izraženo asortativno \n",
    "mešanje. Priložiti i vizuelizaciju. "
   ]
  },
  {
   "cell_type": "code",
   "execution_count": 39,
   "id": "ca6163b9",
   "metadata": {},
   "outputs": [
    {
     "name": "stdout",
     "output_type": "stream",
     "text": [
      "Koeficijent asortativnosti: 0.2875982702579338\n"
     ]
    }
   ],
   "source": [
    "# izracunavanje koef asortativnosti\n",
    "assortativity = nx.degree_assortativity_coefficient(G)\n",
    "print(\"Koeficijent asortativnosti:\", assortativity)\n",
    "\n",
    "output_path = \"../Desktop/asmPodaci/Lgraph.gml\"\n",
    "\n",
    "nx.write_gml(G, output_path)"
   ]
  },
  {
   "cell_type": "raw",
   "id": "8cd73a26",
   "metadata": {},
   "source": [
    "6. Da li mreža ispoljava fenomen kluba bogatih (eng. rich club phenomenon)?"
   ]
  },
  {
   "cell_type": "code",
   "execution_count": 40,
   "id": "2e051c35",
   "metadata": {},
   "outputs": [
    {
     "data": {
      "image/png": "[encoded data removed]",
      "text/plain": [
       "<Figure size 640x480 with 1 Axes>"
      ]
     },
     "metadata": {},
     "output_type": "display_data"
    },
    {
     "name": "stdout",
     "output_type": "stream",
     "text": [
      "Mreža ne ispoljava rich club phenomenon.\n"
     ]
    }
   ],
   "source": [
    "richClubCoeffs = nx.rich_club_coefficient(G, normalized=False)\n",
    "\n",
    "plt.plot(list(richClubCoeffs.keys()), list(richClubCoeffs.values()), 'bo-')\n",
    "plt.xlabel('Stepen')\n",
    "plt.ylabel('Koeficijent kluba bogatih')\n",
    "plt.title('Fenomen kluba bogatih')\n",
    "plt.show()\n",
    "\n",
    "if max(richClubCoeffs.values()) > 1:\n",
    "    print(\"Mreža ispoljava rich club phenomenon.\")\n",
    "else:\n",
    "    print(\"Mreža ne ispoljava rich club phenomenon.\")"
   ]
  },
  {
   "cell_type": "raw",
   "id": "32915e08",
   "metadata": {},
   "source": [
    "8. Kakva je distribucija čvorova po stepenu i da li prati power law raspodelu?"
   ]
  },
  {
   "cell_type": "code",
   "execution_count": 41,
   "id": "d6e011da",
   "metadata": {},
   "outputs": [
    {
     "data": {
      "image/png": "[encoded data removed]",
      "text/plain": [
       "<Figure size 640x480 with 1 Axes>"
      ]
     },
     "metadata": {},
     "output_type": "display_data"
    }
   ],
   "source": [
    "# Izračunavanje distribucije čvorova po stepenu\n",
    "degree_distribution = dict(G.degree())\n",
    "\n",
    "# Izračunavanje histograma distribucije čvorova po stepenu\n",
    "degree_values = list(degree_distribution.values())\n",
    "plt.hist(degree_values, bins=50, log=True, color='b', alpha=0.7)\n",
    "\n",
    "# Podešavanje grafičkih elemenata\n",
    "plt.xlabel('Stepen čvora')\n",
    "plt.ylabel('Broj čvorova')\n",
    "plt.title('Distribucija čvorova po stepenu')\n",
    "plt.grid(True)\n",
    "\n",
    "# Prikazivanje histograma\n",
    "plt.show()"
   ]
  },
  {
   "cell_type": "raw",
   "id": "83632691",
   "metadata": {},
   "source": [
    "8. Sprovesti analize centralnosti po stepenu, bliskosti i relacionoj centralnosti. Dati pregled\n",
    "najvažnijih aktera po svakoj od njih."
   ]
  },
  {
   "cell_type": "code",
   "execution_count": 42,
   "id": "8fcbdc85",
   "metadata": {},
   "outputs": [
    {
     "name": "stdout",
     "output_type": "stream",
     "text": [
      "Najvažniji akteri po centralnosti po stepenu:\n",
      "[('86.0', 0.007736943907156673), ('3028.0', 0.006576402321083172), ('2353.0', 0.006189555125725338), ('533.0', 0.005802707930367505), ('936.0', 0.005802707930367505), ('141.0', 0.005802707930367505), ('532.0', 0.005029013539651838), ('10.0', 0.005029013539651838), ('128.0', 0.0046421663442940036), ('583.0', 0.0046421663442940036)]\n",
      "Najvažniji akteri po centralnosti po bliskosti:\n",
      "[('3107.0', 0.06717600893947663), ('780.0', 0.06700362882322447), ('395.0', 0.06680277031217696), (397.0, 0.06647123865360385), (398.0, 0.06642341393221471), ('2353.0', 0.06628035178585165), ('3028.0', 0.06624298490633729), ('936.0', 0.06608886843585417), ('396.0', 0.06606015690884465), (271.0, 0.06565913131826263)]\n",
      "Najvažniji akteri po relacionoj centralnosti:\n",
      "[('2353.0', 0.23488654200958056), (1652.0, 0.17310776439043699), ('780.0', 0.15372210330956979), ('391.0', 0.15103645223658504), (307.0, 0.14834564153746974), ('2522.0', 0.14412804550040448), ('1836.0', 0.14146323928051724), ('2906.0', 0.1398592416767694), ('3028.0', 0.13913245953791123), (413.0, 0.13782097740324997)]\n"
     ]
    }
   ],
   "source": [
    "# Analiza centralnosti po stepenu\n",
    "degree_centrality = nx.degree_centrality(G)\n",
    "\n",
    "# centralnost po bliskosti\n",
    "closeness_centrality = nx.closeness_centrality(G)\n",
    "\n",
    "# relacionа centralnost\n",
    "betweenness_centrality = nx.betweenness_centrality(G)\n",
    "\n",
    "# Centralnost po stepenu sortirano\n",
    "sorted_degree_centrality = sorted(degree_centrality.items(), key=lambda x: x[1], reverse=True)\n",
    "print(\"Najvažniji akteri po centralnosti po stepenu:\")\n",
    "print(sorted_degree_centrality[:10])\n",
    "\n",
    "# Centralnost po bliskosti sortirano\n",
    "sorted_closeness_centrality = sorted(closeness_centrality.items(), key=lambda x: x[1], reverse=True)\n",
    "print(\"Najvažniji akteri po centralnosti po bliskosti:\")\n",
    "print(sorted_closeness_centrality[:10])\n",
    "\n",
    "# Relaciona centralnost sortirano\n",
    "sorted_betweenness_centrality = sorted(betweenness_centrality.items(), key=lambda x: x[1], reverse=True)\n",
    "print(\"Najvažniji akteri po relacionoj centralnosti:\")\n",
    "print(sorted_betweenness_centrality[:10])  # Prikaz prvih 10 najvažnijih aktera"
   ]
  },
  {
   "cell_type": "raw",
   "id": "a7b4c1c4",
   "metadata": {},
   "source": [
    "9. Ko su najvažniji akteri po centralnosti po sopstvenom vektoru? Šta nam to govori o njima?"
   ]
  },
  {
   "cell_type": "code",
   "execution_count": 43,
   "id": "26dbbf24",
   "metadata": {},
   "outputs": [
    {
     "name": "stdout",
     "output_type": "stream",
     "text": [
      "Najvažniji čvorovi po centralnosti po sopstvenom vektoru:\n",
      "[('86.0', 0.37889144569706446), ('533.0', 0.31365917019051043), ('583.0', 0.2930325195812989), ('532.0', 0.29088938252100194), ('2353.0', 0.2899361712137958), ('10.0', 0.22574597682373568), ('936.0', 0.21551029625847207), ('114.0', 0.2136316546828186), ('1216.0', 0.20453100733176335), ('147.0', 0.19563793346147923)]\n"
     ]
    }
   ],
   "source": [
    "# Računanje vrednosti centralnosti po sopstvenom vektoru\n",
    "eigenvector_centrality = nx.eigenvector_centrality(G)\n",
    "\n",
    "# Sortiranje\n",
    "sorted_eigenvector_centrality = sorted(eigenvector_centrality.items(), key=lambda x: x[1], reverse=True)\n",
    "\n",
    "# Prikazivanje najvažnijih čvorova\n",
    "print(\"Najvažniji čvorovi po centralnosti po sopstvenom vektoru:\")\n",
    "print(sorted_eigenvector_centrality[:10])"
   ]
  },
  {
   "cell_type": "raw",
   "id": "0b09374a",
   "metadata": {},
   "source": [
    "10. Na osnovu prethodna dva pitanja predložiti i konstruisati heuristiku (kompozitnu meru\n",
    "centralnosti) za pronalaženje najvažnijih aktera i pronaći ih. Obratiti pažnju na tip mreže\n",
    "koji se analizira (usmerena ili neusmerena) i, shodno tome, prilagoditi koliko različite\n",
    "mrežne metrike utiču na heuristiku."
   ]
  },
  {
   "cell_type": "code",
   "execution_count": 44,
   "id": "960b621d",
   "metadata": {},
   "outputs": [
    {
     "name": "stdout",
     "output_type": "stream",
     "text": [
      "Najvažniji čvorovi prema kompozitnoj meri centralnosti:\n",
      "[('2353.0', 0.31421981599045434), ('86.0', 0.24305025283862916), (1652.0, 0.1762853043616471), ('780.0', 0.17003811396815807), (307.0, 0.16696657463640735), ('533.0', 0.16410954260756502), ('3028.0', 0.15921776401749665), ('10.0', 0.15827556117481986), ('391.0', 0.1570566926775389), ('936.0', 0.15392303997823925)]\n"
     ]
    }
   ],
   "source": [
    "weight_degree = 1\n",
    "weight_closeness = 0.5\n",
    "weight_betweenness = 0.8\n",
    "weight_eigenvector = 0.3\n",
    "\n",
    "# Izračunavanje kompozitne mere centralnosti za svaki čvor\n",
    "composite_centrality = {}\n",
    "for node in G.nodes():\n",
    "    composite_centrality[node] = (\n",
    "        weight_degree * degree_centrality[node] +\n",
    "        weight_closeness * closeness_centrality[node] +\n",
    "        weight_betweenness * betweenness_centrality[node] +\n",
    "        weight_eigenvector * eigenvector_centrality[node]\n",
    "    )\n",
    "\n",
    "# Sortiranje čvorova\n",
    "sorted_composite_centrality = sorted(composite_centrality.items(), key=lambda x: x[1], reverse=True)\n",
    "\n",
    "# Prikazivanje najvažnijih čvorova\n",
    "print(\"Najvažniji čvorovi prema kompozitnoj meri centralnosti:\")\n",
    "print(sorted_composite_centrality[:10])"
   ]
  },
  {
   "cell_type": "code",
   "execution_count": null,
   "id": "ff396f08",
   "metadata": {},
   "outputs": [],
   "source": []
  }
 ],
 "metadata": {
  "kernelspec": {
   "display_name": "Python 3 (ipykernel)",
   "language": "python",
   "name": "python3"
  },
  "language_info": {
   "codemirror_mode": {
    "name": "ipython",
    "version": 3
   },
   "file_extension": ".py",
   "mimetype": "text/x-python",
   "name": "python",
   "nbconvert_exporter": "python",
   "pygments_lexer": "ipython3",
   "version": "3.9.13"
  }
 },
 "nbformat": 4,
 "nbformat_minor": 5
}
