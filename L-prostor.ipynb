{
 "cells": [
  {
   "cell_type": "markdown",
   "id": "82be71db",
   "metadata": {},
   "source": [
    "L-prostor - cvorovi su stajalista, a grane postoje izmedju susednih stajalista"
   ]
  },
  {
   "cell_type": "markdown",
   "id": "7511328c",
   "metadata": {},
   "source": [
    "Ucitavanje fajla stops.txt (stajalista) - pa za njih formiram cvorove; Potrebno je na svakoj okretnici povezati stajalista da bi putnik mogao da promeni liniju kojom se vozi - za to mi trebaju sva grupisana stajalista po stopName, pa se prave kombinacije - gde postoje, a postoje samo na okretnicama. Dakle, izmedju njih se dodaju grane. Zatim se ucitava fajl tripStopTimes i tu se grupise po liniji i spajaju se susedne stanice."
   ]
  },
  {
   "cell_type": "code",
   "execution_count": 56,
   "id": "57f856ce",
   "metadata": {},
   "outputs": [],
   "source": [
    "import pandas as pd\n",
    "import networkx as nx\n",
    "import matplotlib.pyplot as plt\n",
    "from itertools import combinations\n",
    "\n",
    "# neusmeren beztezinski graf\n",
    "G = nx.Graph()\n",
    "\n",
    "# KREIRANJE CVOROVA\n",
    "stopsPath = \"../Desktop/asmPodaci/stops.txt\"\n",
    "stops = pd.read_csv(stopsPath)\n",
    "\n",
    "for stop in stops.itertuples(index=False):\n",
    "    stop_id = stop.stop_id\n",
    "    stop_name = stop.stop_name\n",
    "    stop_lat = stop.stop_lat\n",
    "    stop_lon = stop.stop_lon\n",
    "    zone_id = stop.zone_id\n",
    "    G.add_node(stop_id, name=stop_name, lat=stop_lat, lon=stop_lon, zone=zone_id)\n",
    "\n",
    "    \n",
    "# KREIRANJE GRANA\n",
    "tripStopTimesPath = \"../Desktop/sredjeniPodaci/tripStopTimes.txt\"\n",
    "tripStopTimes = pd.read_csv(tripStopTimesPath, sep='\\t')\n",
    "\n",
    "# 1) IZBACIVANJE NOCNIH LINIJA\n",
    "# Ovde sam radila analizu svih linija koje polaze posle 24:00 da bih videla na koji nacin da izbacim nocni rezim linija\n",
    "# prvo sam htela na ovaj nacin ispod da izbacim nocni rezim, medjutim neke linije iz dnevnog rezima imaju polaske u 24:00\n",
    "# polasci = tripStopTimes[((tripStopTimes['stop_sequence'] == 1) & (tripStopTimes['arrival_time'].str.startswith(('24:', '25:', '26:', '27:', '28:'))))]\n",
    "# polasci.to_csv(\"polasci.txt\", sep='\\t')\n",
    "\n",
    "# prethodnom analizom sam zakljucila da sve nocne linije pocinju sa 50, 51, 52 ili 53 i posle imaju vrednost vecu od 15\n",
    "# izbacujem nocne linije jer se u zadatku trazi ispitivanje za dnevni rezim\n",
    "tripStopTimes = tripStopTimes[~(((tripStopTimes['route_id'].astype(str).str.startswith('50')) & (tripStopTimes['route_id'] >= 50015)) |\n",
    "                    ((tripStopTimes['route_id'].astype(str).str.startswith('51')) & (tripStopTimes['route_id'] >= 51015)) |\n",
    "                    ((tripStopTimes['route_id'].astype(str).str.startswith('52')) & (tripStopTimes['route_id'] >= 52015)) |\n",
    "                    ((tripStopTimes['route_id'].astype(str).str.startswith('53')) & (tripStopTimes['route_id'] >= 53015)))]\n",
    "\n",
    "# 2) Dodavanje grana između krajnje tacke jednog smera sa pocetnom tackom drugog smera\n",
    "def merge_endpoints(group):\n",
    "    min_stop = group[group['stop_sequence'] == group['stop_sequence'].min()]['stop_id'].values[0]\n",
    "    max_stop = group[group['stop_sequence'] == group['stop_sequence'].max()]['stop_id'].values[0]\n",
    "    return min_stop, max_stop\n",
    "\n",
    "for route_id, group in tripStopTimes.groupby('route_id'):\n",
    "    # neke linije nemaju dva smera\n",
    "    if len(group['direction_id'].unique()) == 2:\n",
    "        minMaxDirZero = merge_endpoints(group[group['direction_id'] == 0])  # pocetna i krajnja tacka prvog smera\n",
    "        minMaxDirOne = merge_endpoints(group[group['direction_id'] == 1])  # pocetna i krajnja tacka drugog smera\n",
    "        if(minMaxDirZero[0] != minMaxDirOne[1]):\n",
    "            G.add_edge(minMaxDirZero[0], minMaxDirOne[1])\n",
    "        if(minMaxDirZero[1] != minMaxDirOne[0]):\n",
    "            G.add_edge(minMaxDirZero[1], minMaxDirOne[0])\n",
    "            \n",
    "# postoje stop_id koji su NaN, pa te vrednosti izbacujem, da se ne bi stvarali dodatni cvorovi\n",
    "tripStopTimes = tripStopTimes.dropna(subset=['stop_id'])\n",
    "\n",
    "# OVO IPAK NE jer je receno u zadatku da skup stajalista moze varirati u zavisnosti od polazaka linije\n",
    "# tripStopTimes = tripStopTimes.drop_duplicates(subset=['route_id','stop_id'])\n",
    "\n",
    "# sortiram po trip_id i stop_sequence\n",
    "tripStopTimesSorted = tripStopTimes.sort_values(by=['trip_id', 'stop_sequence'])\n",
    "\n",
    "# dodajem kolonu 'next_stop_id' sa sledecim stop_id\n",
    "tripStopTimesSorted['next_stop_id'] = tripStopTimesSorted.groupby(['trip_id', 'route_id'])['stop_id'].shift(-1)\n",
    "\n",
    "# Filtriranje i izbacivanje NaN vrednosti\n",
    "filtered_data = tripStopTimesSorted.dropna(subset=['next_stop_id'])\n",
    "\n",
    "# Konverzija podataka u listu tuplova\n",
    "edges = list(filtered_data[['stop_id', 'next_stop_id']].itertuples(index=False, name=None))\n",
    "\n",
    "# Dodavanje grana u graf\n",
    "G.add_edges_from(edges)\n"
   ]
  },
  {
   "cell_type": "code",
   "execution_count": 57,
   "id": "e72d9d0f",
   "metadata": {},
   "outputs": [
    {
     "name": "stdout",
     "output_type": "stream",
     "text": [
      "Broj čvorova (stajališta): 3130\n",
      "Broj grana: 3856\n",
      "Čvorovi sa self loop:\n"
     ]
    }
   ],
   "source": [
    "print(\"Broj čvorova (stajališta):\", G.number_of_nodes())\n",
    "print(\"Broj grana:\", G.number_of_edges())\n",
    "\n",
    "# Pronalaženje čvorova sa self loop\n",
    "nodes_with_selfloops = [node for node in G.nodes if G.has_edge(node, node)]\n",
    "\n",
    "# Ispisivanje čvorova sa self loop\n",
    "print(\"Čvorovi sa self loop:\")\n",
    "for node in nodes_with_selfloops:\n",
    "    print(node)"
   ]
  },
  {
   "cell_type": "code",
   "execution_count": 58,
   "id": "8fa056a3",
   "metadata": {},
   "outputs": [
    {
     "name": "stdout",
     "output_type": "stream",
     "text": [
      "Br povezanih komponenti:  7\n",
      "Velicine povezanih komp:  [3124, 1, 1, 1, 1, 1, 1]\n"
     ]
    }
   ],
   "source": [
    "# br povezanih komponenti\n",
    "numOfConnectedComponents = nx.number_connected_components(G)\n",
    "print(\"Br povezanih komponenti: \", numOfConnectedComponents)\n",
    "\n",
    "# velicina povezanih komponenata\n",
    "sizeOfConnectedComponents = [len(component) for component in nx.connected_components(G)]\n",
    "print(\"Velicine povezanih komp: \", sizeOfConnectedComponents)"
   ]
  },
  {
   "cell_type": "code",
   "execution_count": 59,
   "id": "e9906903",
   "metadata": {},
   "outputs": [
    {
     "name": "stdout",
     "output_type": "stream",
     "text": [
      "Br povezanih komponenti:  1\n",
      "Velicine povezanih komp:  [3124]\n",
      "Broj čvorova (stajališta): 3124\n",
      "Broj grana: 3856\n"
     ]
    }
   ],
   "source": [
    "# zbog uklanjanja nocnih linija javlja se da su neku cvorovi bez grana, pa ih onda uklanjam jer su bespotrebni\n",
    "nodes_to_remove = [1243, 1245, 1247, 3735, 3737, 3757]\n",
    "G.remove_nodes_from(nodes_to_remove)\n",
    "\n",
    "# PROVERAVAM OPET DA LI IMA NEPOVEZANIH KOMPONENTI\n",
    "# br povezanih komponenti\n",
    "numOfConnectedComponents = nx.number_connected_components(G)\n",
    "print(\"Br povezanih komponenti: \", numOfConnectedComponents)\n",
    "\n",
    "# velicina povezanih komponenata\n",
    "sizeOfConnectedComponents = [len(component) for component in nx.connected_components(G)]\n",
    "print(\"Velicine povezanih komp: \", sizeOfConnectedComponents)\n",
    "\n",
    "print(\"Broj čvorova (stajališta):\", G.number_of_nodes())\n",
    "print(\"Broj grana:\", G.number_of_edges())"
   ]
  },
  {
   "cell_type": "raw",
   "id": "ab20a330",
   "metadata": {},
   "source": [
    "1. Gustina mreze\n",
    "neusmerena je mreza pa je max broj mogucih grana = n*(n-1)/2"
   ]
  },
  {
   "cell_type": "code",
   "execution_count": 60,
   "id": "53e9dc71",
   "metadata": {},
   "outputs": [
    {
     "name": "stdout",
     "output_type": "stream",
     "text": [
      "Gustina L mreze: 0.0007904674868996823\n"
     ]
    }
   ],
   "source": [
    "numOfNodes = G.number_of_nodes()\n",
    "numOfEdges = G.number_of_edges()\n",
    "\n",
    "density = 2 * numOfEdges / (numOfNodes * (numOfNodes - 1))\n",
    "\n",
    "print(\"Gustina L mreze:\", density)"
   ]
  },
  {
   "cell_type": "raw",
   "id": "7a812376",
   "metadata": {},
   "source": [
    "2. Prosecna distanca i dijametar mreze"
   ]
  },
  {
   "cell_type": "code",
   "execution_count": 30,
   "id": "8a46d94d",
   "metadata": {},
   "outputs": [
    {
     "name": "stdout",
     "output_type": "stream",
     "text": [
      "Prosecna distanca: 27.245872287841685\n",
      "Dijametar: 104\n"
     ]
    }
   ],
   "source": [
    "averageDistance = nx.average_shortest_path_length(G)\n",
    "diameter = nx.diameter(G)\n",
    "\n",
    "print(\"Prosecna distanca:\", averageDistance)\n",
    "print(\"Dijametar:\", diameter)"
   ]
  },
  {
   "cell_type": "raw",
   "id": "4713995d",
   "metadata": {},
   "source": [
    "3. U kojoj meri je mreža povezana i centralizovana? Navesti broj i veličine povezanih \n",
    "komponenata i proceniti da li postoji gigantska komponenta."
   ]
  },
  {
   "cell_type": "code",
   "execution_count": 32,
   "id": "c57ced27",
   "metadata": {},
   "outputs": [
    {
     "name": "stdout",
     "output_type": "stream",
     "text": [
      "Br povezanih komponenti:  1\n",
      "Velicine povezanih komp:  [3124]\n",
      "Postoji gigantska komp:  True\n",
      "Centralizacija: 0.001772306601657476\n"
     ]
    }
   ],
   "source": [
    "# br povezanih komponenti\n",
    "numOfConnectedComponents = nx.number_connected_components(G)\n",
    "print(\"Br povezanih komponenti: \", numOfConnectedComponents)\n",
    "\n",
    "# velicina povezanih komponenata\n",
    "sizeOfConnectedComponents = [len(component) for component in nx.connected_components(G)]\n",
    "print(\"Velicine povezanih komp: \", sizeOfConnectedComponents)\n",
    "\n",
    "# provera postojanja gigantske komp\n",
    "hasGiantComponent = max(sizeOfConnectedComponents) > 1\n",
    "print(\"Postoji gigantska komp: \", hasGiantComponent)\n",
    "\n",
    "# izracunavanje centralizacije\n",
    "max_degree = max(dict(G.degree()).values()) # sadrzi cvorove kao kljuceve i njihov stepen kao vrednost\n",
    "centralization = (sum([max_degree - degree for degree in dict(G.degree()).values()])) / ((len(G) - 1) * (len(G) - 2))\n",
    "print(\"Centralizacija:\", centralization)"
   ]
  },
  {
   "cell_type": "raw",
   "id": "eec424e7",
   "metadata": {},
   "source": [
    "4. Koliki je prosečni, a koliki globalni koeficijent klasterizacije L mreze? Kakva je raspodela \n",
    "lokalnog koeficijenta klasterizacije njenih čvorova? Da li je klasterisanje izraženo ili ne?\n",
    "Odgovor dati upoređivanjem sa slučajno generisanim Erdos-Renyi i scale free mrežama istih \n",
    "dimenzija"
   ]
  },
  {
   "cell_type": "code",
   "execution_count": 33,
   "id": "b7ba6cca",
   "metadata": {},
   "outputs": [
    {
     "name": "stdout",
     "output_type": "stream",
     "text": [
      "Prosečni koef klasterizacije: 0.014310103042497413\n",
      "Globalni koef klasterizacije: 0.028730703259005147\n"
     ]
    },
    {
     "data": {
      "image/png": "[encoded data removed]",
      "text/plain": [
       "<Figure size 640x480 with 1 Axes>"
      ]
     },
     "metadata": {},
     "output_type": "display_data"
    },
    {
     "name": "stdout",
     "output_type": "stream",
     "text": [
      "Prosečni koeficijent klasterizacije (Erdos-Renyi): 0.200082390872235\n",
      "Prosečni koeficijent klasterizacije (Scale-free): 0.008857675831847106\n"
     ]
    }
   ],
   "source": [
    "averageClusteringCoef = nx.average_clustering(G)\n",
    "globalClusteringCoef = nx.transitivity(G) # compute graph transitivity, the fraction of all possible triangles present in G\n",
    "\n",
    "print(\"Prosečni koef klasterizacije:\", averageClusteringCoef)\n",
    "print(\"Globalni koef klasterizacije:\", globalClusteringCoef)\n",
    "\n",
    "localClusteringCoeffs = nx.clustering(G)\n",
    "plt.hist(list(localClusteringCoeffs.values()), bins=10)\n",
    "plt.xlabel('Lokalni koeficijent klasterizacije')\n",
    "plt.ylabel('Broj čvorova')\n",
    "plt.title('Raspodela lokalnog koeficijenta klasterizacije')\n",
    "plt.show()\n",
    "\n",
    "# Generisanje Erdos-Renyi mreže\n",
    "erdosRenyiGraph = nx.erdos_renyi_graph(n=len(G.nodes), p=0.2)\n",
    "erdosRenyiAvgClustering = nx.average_clustering(erdosRenyiGraph)\n",
    "\n",
    "# Generisanje scale-free mreže\n",
    "scaleFreeGraph = nx.barabasi_albert_graph(n=len(G.nodes), m=2)\n",
    "scaleFreeAvgClustering = nx.average_clustering(scaleFreeGraph)\n",
    "\n",
    "print(\"Prosečni koeficijent klasterizacije (Erdos-Renyi):\", erdosRenyiAvgClustering)\n",
    "print(\"Prosečni koeficijent klasterizacije (Scale-free):\", scaleFreeAvgClustering)"
   ]
  },
  {
   "cell_type": "raw",
   "id": "5e309457",
   "metadata": {},
   "source": [
    "5. Izvršiti asortativnu analizu po stepenu čvora i dati odgovor da li je izraženo asortativno \n",
    "mešanje. Priložiti i vizuelizaciju. "
   ]
  },
  {
   "cell_type": "code",
   "execution_count": 34,
   "id": "f9672dbf",
   "metadata": {},
   "outputs": [
    {
     "name": "stdout",
     "output_type": "stream",
     "text": [
      "Koeficijent asortativnosti: 0.29106927932351206\n"
     ]
    }
   ],
   "source": [
    "# izracunavanje koef asortativnosti\n",
    "assortativity = nx.degree_assortativity_coefficient(G)\n",
    "print(\"Koeficijent asortativnosti:\", assortativity)\n",
    "\n",
    "output_path = \"../Desktop/asmPodaci/Lgraph.gml\"\n",
    "\n",
    "nx.write_gml(G, output_path)"
   ]
  },
  {
   "cell_type": "raw",
   "id": "77400f10",
   "metadata": {},
   "source": [
    "6. Da li mreža ispoljava fenomen kluba bogatih (eng. rich club phenomenon)?"
   ]
  },
  {
   "cell_type": "code",
   "execution_count": 35,
   "id": "b3296d92",
   "metadata": {},
   "outputs": [
    {
     "data": {
      "image/png": "[encoded data removed]",
      "text/plain": [
       "<Figure size 640x480 with 1 Axes>"
      ]
     },
     "metadata": {},
     "output_type": "display_data"
    },
    {
     "name": "stdout",
     "output_type": "stream",
     "text": [
      "Mreža ne ispoljava rich club phenomenon.\n"
     ]
    }
   ],
   "source": [
    "richClubCoeffs = nx.rich_club_coefficient(G, normalized=False)\n",
    "\n",
    "plt.plot(list(richClubCoeffs.keys()), list(richClubCoeffs.values()), 'bo-')\n",
    "plt.xlabel('Stepen')\n",
    "plt.ylabel('Koeficijent kluba bogatih')\n",
    "plt.title('Fenomen kluba bogatih')\n",
    "plt.show()\n",
    "\n",
    "if max(richClubCoeffs.values()) > 1:\n",
    "    print(\"Mreža ispoljava rich club phenomenon.\")\n",
    "else:\n",
    "    print(\"Mreža ne ispoljava rich club phenomenon.\")"
   ]
  },
  {
   "cell_type": "raw",
   "id": "5fc9eaf5",
   "metadata": {},
   "source": [
    "7. Analizirati stajališta na osnovu tarifne zone kojoj pripadaju. Ispitati da li BGNetL i BGNetP\n",
    "mreže odgovaraju modelu jezgra i periferije (core-periphery model). Smatrati da prva zona\n",
    "pripada jezgru, a ostale periferiji.\n",
    "\n",
    "• Zona 1 - uži centar grada\n",
    "• Zona 2 - šire gradsko područje\n",
    "• Zona 3 - Obrenovac, Barajevo, Sopot i deo Grocke\n",
    "\n",
    "Analiza izvrsena u Gephi alatu"
   ]
  },
  {
   "cell_type": "code",
   "execution_count": 37,
   "id": "8f6209a4",
   "metadata": {},
   "outputs": [
    {
     "name": "stdout",
     "output_type": "stream",
     "text": [
      "Broj stajalista po zonama:\n",
      "zone_id\n",
      "1    1220\n",
      "2    1846\n",
      "3      58\n",
      "Name: stop_id, dtype: int64\n"
     ]
    }
   ],
   "source": [
    "# izbacujem sva stajalista koja koriste samo nocne linije\n",
    "stops = stops[stops['stop_id'].isin(tripStopTimes['stop_id'])]\n",
    "\n",
    "# Grupisanje stajališta po tarifnim zonama\n",
    "grouped_by_zone = stops.groupby('zone_id')\n",
    "\n",
    "# Prikaz broja stajališta po zonama\n",
    "print(\"Broj stajalista po zonama:\")\n",
    "print(grouped_by_zone['stop_id'].count())"
   ]
  },
  {
   "cell_type": "raw",
   "id": "bc1d5dcd",
   "metadata": {},
   "source": [
    "8. Kakva je distribucija čvorova po stepenu i da li prati power law raspodelu?"
   ]
  },
  {
   "cell_type": "code",
   "execution_count": 38,
   "id": "3f96038d",
   "metadata": {},
   "outputs": [
    {
     "data": {
      "image/png": "[encoded data removed]",
      "text/plain": [
       "<Figure size 640x480 with 1 Axes>"
      ]
     },
     "metadata": {},
     "output_type": "display_data"
    }
   ],
   "source": [
    "# Izračunavanje distribucije čvorova po stepenu\n",
    "degree_distribution = dict(G.degree())\n",
    "\n",
    "# Izračunavanje histograma distribucije čvorova po stepenu\n",
    "degree_values = list(degree_distribution.values())\n",
    "plt.hist(degree_values, bins=50, log=True, color='b', alpha=0.7)\n",
    "\n",
    "# Podešavanje grafičkih elemenata\n",
    "plt.xlabel('Stepen čvora')\n",
    "plt.ylabel('Broj čvorova')\n",
    "plt.title('Distribucija čvorova po stepenu')\n",
    "plt.grid(True)\n",
    "\n",
    "# Prikazivanje histograma\n",
    "plt.show()"
   ]
  },
  {
   "cell_type": "raw",
   "id": "9eb9943e",
   "metadata": {},
   "source": [
    "8. Sprovesti analize centralnosti po stepenu, bliskosti i relacionoj centralnosti. Dati pregled\n",
    "najvažnijih aktera po svakoj od njih."
   ]
  },
  {
   "cell_type": "code",
   "execution_count": 39,
   "id": "c0efc3f8",
   "metadata": {},
   "outputs": [
    {
     "name": "stdout",
     "output_type": "stream",
     "text": [
      "Najvažniji akteri po centralnosti po stepenu:\n",
      "[(147, 0.002561639449247518), (496, 0.002561639449247518), (503, 0.002561639449247518), (1049, 0.002561639449247518), (1152, 0.002561639449247518), (1153, 0.002561639449247518), (1652, 0.002561639449247518), (1692, 0.002561639449247518), (119, 0.0022414345180915784), (220, 0.0022414345180915784)]\n",
      "Najvažniji akteri po centralnosti po bliskosti:\n",
      "[(397, 0.06129899699687911), (398, 0.061148966165413536), (496, 0.06094372024041839), (271, 0.060892623861797335), (493, 0.06086651464655324), (706, 0.060733941385815136), (495, 0.06062076596075082), (494, 0.06037699371677139), (272, 0.06001268279559561), (274, 0.059532206103814406)]\n",
      "Najvažniji akteri po relacionoj centralnosti:\n",
      "[(495, 0.1702008429460787), (1652, 0.1389643487318205), (1049, 0.13376281634095097), (397, 0.13287983107660745), (398, 0.13230467166670914), (298, 0.12782037306447863), (392, 0.12595579283493358), (496, 0.11956323929455119), (394, 0.11263001152113576), (1852, 0.11015701938133365)]\n"
     ]
    }
   ],
   "source": [
    "# Analiza centralnosti po stepenu\n",
    "degree_centrality = nx.degree_centrality(G)\n",
    "\n",
    "# centralnost po bliskosti\n",
    "closeness_centrality = nx.closeness_centrality(G)\n",
    "\n",
    "# relacionа centralnost\n",
    "betweenness_centrality = nx.betweenness_centrality(G)\n",
    "\n",
    "# Centralnost po stepenu sortirano\n",
    "sorted_degree_centrality = sorted(degree_centrality.items(), key=lambda x: x[1], reverse=True)\n",
    "print(\"Najvažniji akteri po centralnosti po stepenu:\")\n",
    "print(sorted_degree_centrality[:10])\n",
    "\n",
    "# Centralnost po bliskosti sortirano\n",
    "sorted_closeness_centrality = sorted(closeness_centrality.items(), key=lambda x: x[1], reverse=True)\n",
    "print(\"Najvažniji akteri po centralnosti po bliskosti:\")\n",
    "print(sorted_closeness_centrality[:10])\n",
    "\n",
    "# Relaciona centralnost sortirano\n",
    "sorted_betweenness_centrality = sorted(betweenness_centrality.items(), key=lambda x: x[1], reverse=True)\n",
    "print(\"Najvažniji akteri po relacionoj centralnosti:\")\n",
    "print(sorted_betweenness_centrality[:10])  # Prikaz prvih 10 najvažnijih aktera"
   ]
  },
  {
   "cell_type": "raw",
   "id": "d196922e",
   "metadata": {},
   "source": [
    "9. Ko su najvažniji akteri po centralnosti po sopstvenom vektoru? Šta nam to govori o njima?"
   ]
  },
  {
   "cell_type": "code",
   "execution_count": 40,
   "id": "11f2fbf2",
   "metadata": {},
   "outputs": [
    {
     "name": "stdout",
     "output_type": "stream",
     "text": [
      "Najvažniji čvorovi po centralnosti po sopstvenom vektoru:\n",
      "[(496, 0.3381830543282831), (494, 0.282066775637884), (493, 0.2734955200368695), (503, 0.2470115595942514), (495, 0.24309368958343655), (2498, 0.23125718041802046), (274, 0.20862745921172288), (397, 0.1812496213598039), (398, 0.17813167465469257), (706, 0.169213980370213)]\n"
     ]
    }
   ],
   "source": [
    "# Računanje vrednosti centralnosti po sopstvenom vektoru\n",
    "eigenvector_centrality = nx.eigenvector_centrality(G)\n",
    "\n",
    "# Sortiranje\n",
    "sorted_eigenvector_centrality = sorted(eigenvector_centrality.items(), key=lambda x: x[1], reverse=True)\n",
    "\n",
    "# Prikazivanje najvažnijih čvorova\n",
    "print(\"Najvažniji čvorovi po centralnosti po sopstvenom vektoru:\")\n",
    "print(sorted_eigenvector_centrality[:10])"
   ]
  },
  {
   "cell_type": "raw",
   "id": "194fef02",
   "metadata": {},
   "source": [
    "10. Na osnovu prethodna dva pitanja predložiti i konstruisati heuristiku (kompozitnu meru\n",
    "centralnosti) za pronalaženje najvažnijih aktera i pronaći ih. Obratiti pažnju na tip mreže\n",
    "koji se analizira (usmerena ili neusmerena) i, shodno tome, prilagoditi koliko različite\n",
    "mrežne metrike utiču na heuristiku."
   ]
  },
  {
   "cell_type": "code",
   "execution_count": 41,
   "id": "c2ffa9c1",
   "metadata": {},
   "outputs": [
    {
     "name": "stdout",
     "output_type": "stream",
     "text": [
      "Najvažniji čvorovi prema kompozitnoj meri centralnosti:\n",
      "[(495, 0.2416405987303609), (496, 0.2301390073035826), (397, 0.19324947935460232), (398, 0.1917789523994175), (1652, 0.1823488267772307), (493, 0.17620892828771995), (494, 0.17388692561910035), (271, 0.15890405044421999), (1653, 0.15658367863579042), (394, 0.14528922458978372)]\n"
     ]
    }
   ],
   "source": [
    "weight_degree = 1\n",
    "weight_closeness = 0.5\n",
    "weight_betweenness = 0.8\n",
    "weight_eigenvector = 0.3\n",
    "\n",
    "# Izračunavanje kompozitne mere centralnosti za svaki čvor\n",
    "composite_centrality = {}\n",
    "for node in G.nodes():\n",
    "    composite_centrality[node] = (\n",
    "        weight_degree * degree_centrality[node] +\n",
    "        weight_closeness * closeness_centrality[node] +\n",
    "        weight_betweenness * betweenness_centrality[node] +\n",
    "        weight_eigenvector * eigenvector_centrality[node]\n",
    "    )\n",
    "\n",
    "# Sortiranje čvorova\n",
    "sorted_composite_centrality = sorted(composite_centrality.items(), key=lambda x: x[1], reverse=True)\n",
    "\n",
    "# Prikazivanje najvažnijih čvorova\n",
    "print(\"Najvažniji čvorovi prema kompozitnoj meri centralnosti:\")\n",
    "print(sorted_composite_centrality[:10])"
   ]
  },
  {
   "cell_type": "raw",
   "id": "34747339",
   "metadata": {},
   "source": [
    "Eksportovanje grafa"
   ]
  },
  {
   "cell_type": "code",
   "execution_count": 42,
   "id": "c6f31d0b",
   "metadata": {},
   "outputs": [],
   "source": [
    "output_path = \"../Desktop/asmPodaci/Lgraph.gml\"\n",
    "\n",
    "nx.write_gml(G, output_path)"
   ]
  },
  {
   "cell_type": "raw",
   "id": "c9de8b8d",
   "metadata": {},
   "source": [
    "Definisanje funkcije slicnosti"
   ]
  },
  {
   "cell_type": "raw",
   "id": "1ec99fff",
   "metadata": {},
   "source": [
    "1. Geodetska udaljenost + Slicnost stepena cvora"
   ]
  },
  {
   "cell_type": "code",
   "execution_count": 77,
   "id": "c0289fa6",
   "metadata": {},
   "outputs": [
    {
     "name": "stdout",
     "output_type": "stream",
     "text": [
      "[[0.         0.00108087 0.00089082 ... 0.10702187 0.10574053 0.1059047 ]\n",
      " [0.00108087 0.         0.10021762 ... 0.10668696 0.10540975 0.10557138]\n",
      " [0.00089082 0.10021762 0.         ... 0.10683821 0.10556036 0.10572237]\n",
      " ...\n",
      " [0.10702187 0.10668696 0.10683821 ... 0.         0.00134864 0.00112831]\n",
      " [0.10574053 0.10540975 0.10556036 ... 0.00134864 0.         0.16697527]\n",
      " [0.1059047  0.10557138 0.10572237 ... 0.00112831 0.16697527 0.        ]]\n"
     ]
    }
   ],
   "source": [
    "import numpy as np\n",
    "import networkx as nx\n",
    "\n",
    "# fja za izracunavanje udaljenosti između geografskih koordinata\n",
    "def geographic_distance(lat1, lon1, lat2, lon2):\n",
    "    return ((lat1 - lat2)**2 + (lon1 - lon2)**2)**0.5\n",
    "\n",
    "# fja za izracunavanje slicnosti stepena cvora (npr. Jaccardova sličnost)\n",
    "def degree_similarity(graph, node1, node2):\n",
    "    neighbors1 = set(graph.neighbors(node1)) # uzima skupove svih suseda cvora\n",
    "    neighbors2 = set(graph.neighbors(node2))\n",
    "    union = neighbors1.union(neighbors2) # svi susedi od oba cvora (unija)\n",
    "    intersection = neighbors1.intersection(neighbors2) # zajednиcki susedi ta dva cvora\n",
    "    if len(union) == 0:\n",
    "        return 0\n",
    "    return len(intersection) / len(union) # Jaccardova slicnost - broj zajednickih se podeli sa svim, tj unijom cvorova\n",
    "\n",
    "# Funkcija za izračunavanje kombinovane sličnosti\n",
    "def combined_similarity(graph, node1, node2, alpha=0.5):\n",
    "    lat1, lon1 = graph.nodes[node1]['lat'], graph.nodes[node1]['lon']\n",
    "    lat2, lon2 = graph.nodes[node2]['lat'], graph.nodes[node2]['lon']\n",
    "    \n",
    "    geo_dist = geographic_distance(lat1, lon1, lat2, lon2)\n",
    "    deg_sim = degree_similarity(graph, node1, node2)\n",
    "    \n",
    "    combined_sim = alpha * geo_dist + (1 - alpha) * deg_sim\n",
    "    return combined_sim\n",
    "\n",
    "# Izračunavanje matrice sličnosti\n",
    "num_nodes = len(G.nodes)\n",
    "similarity_matrix = np.zeros((num_nodes, num_nodes))\n",
    "node_pair_matrix = [[None] * num_nodes for _ in range(num_nodes)]\n",
    "\n",
    "# Prolazimo kroz sve parove čvorova i računamo sličnost samo jednom za svaki par\n",
    "for i, node1 in enumerate(G.nodes):\n",
    "    for j, node2 in enumerate(G.nodes):\n",
    "        if i < j:\n",
    "            similarity = combined_similarity(G, node1, node2)\n",
    "            similarity_matrix[i, j] = similarity\n",
    "            similarity_matrix[j, i] = similarity # Simetrična matrica\n",
    "            node_pair_matrix[i][j] = (node1, node2)\n",
    "            node_pair_matrix[j][i] = (node1, node2)\n",
    "\n",
    "# Prikaz matrice sličnosti\n",
    "print(similarity_matrix)"
   ]
  },
  {
   "cell_type": "code",
   "execution_count": 62,
   "id": "f504f848",
   "metadata": {},
   "outputs": [],
   "source": [
    "similarity_matrixDF = pd.DataFrame(similarity_matrix)\n",
    "similarity_matrixDF.to_csv(\"similarity_matrixL.txt\", sep='\\t')\n",
    "node_pair_matrixDF = pd.DataFrame(node_pair_matrix)\n",
    "node_pair_matrixDF.to_csv(\"node_pair_matrixL.txt\", sep='\\t')"
   ]
  },
  {
   "cell_type": "code",
   "execution_count": 63,
   "id": "6465d10e",
   "metadata": {},
   "outputs": [
    {
     "name": "stderr",
     "output_type": "stream",
     "text": [
      "<class 'networkx.utils.decorators.argmap'> compilation 50:4: FutureWarning: laplacian_matrix will return a scipy.sparse array instead of a matrix in Networkx 3.0.\n"
     ]
    },
    {
     "name": "stdout",
     "output_type": "stream",
     "text": [
      "  (0, 0)\t2\n",
      "  (0, 1)\t-1\n",
      "  (0, 2)\t-1\n",
      "  (1, 0)\t-1\n",
      "  (1, 1)\t3\n",
      "  (1, 3)\t-1\n",
      "  (1, 40)\t-1\n",
      "  (2, 0)\t-1\n",
      "  (2, 2)\t3\n",
      "  (2, 4)\t-1\n",
      "  (2, 41)\t-1\n",
      "  (3, 1)\t-1\n",
      "  (3, 3)\t3\n",
      "  (3, 5)\t-1\n",
      "  (3, 41)\t-1\n",
      "  (4, 2)\t-1\n",
      "  (4, 4)\t3\n",
      "  (4, 6)\t-1\n",
      "  (4, 40)\t-1\n",
      "  (5, 3)\t-1\n",
      "  (5, 5)\t3\n",
      "  (5, 6)\t-1\n",
      "  (5, 7)\t-1\n",
      "  (6, 4)\t-1\n",
      "  (6, 5)\t-1\n",
      "  :\t:\n",
      "  (3115, 3119)\t-1\n",
      "  (3116, 3022)\t-1\n",
      "  (3116, 3116)\t2\n",
      "  (3116, 3120)\t-1\n",
      "  (3117, 2276)\t-1\n",
      "  (3117, 3021)\t-1\n",
      "  (3117, 3117)\t2\n",
      "  (3118, 2278)\t-1\n",
      "  (3118, 3022)\t-1\n",
      "  (3118, 3118)\t2\n",
      "  (3119, 3113)\t-1\n",
      "  (3119, 3115)\t-1\n",
      "  (3119, 3119)\t2\n",
      "  (3120, 3114)\t-1\n",
      "  (3120, 3116)\t-1\n",
      "  (3120, 3120)\t2\n",
      "  (3121, 3121)\t2\n",
      "  (3121, 3122)\t-1\n",
      "  (3121, 3123)\t-1\n",
      "  (3122, 3113)\t-1\n",
      "  (3122, 3121)\t-1\n",
      "  (3122, 3122)\t2\n",
      "  (3123, 3114)\t-1\n",
      "  (3123, 3121)\t-1\n",
      "  (3123, 3123)\t2\n",
      "[[ 2 -1 -1 ...  0  0  0]\n",
      " [-1  3  0 ...  0  0  0]\n",
      " [-1  0  3 ...  0  0  0]\n",
      " ...\n",
      " [ 0  0  0 ...  2 -1 -1]\n",
      " [ 0  0  0 ... -1  2  0]\n",
      " [ 0  0  0 ... -1  0  2]]\n"
     ]
    }
   ],
   "source": [
    "# Generisanje Laplasijan matrice\n",
    "laplacian_matrix = nx.laplacian_matrix(G)\n",
    "print(laplacian_matrix)\n",
    "L_array = nx.laplacian_matrix(G).toarray()\n",
    "print(L_array)\n",
    "laplacian_matrixDF = pd.DataFrame(laplacian_matrix)\n",
    "laplacian_matrixDF.to_csv(\"laplacian_matrixL.txt\", sep='\\t')\n",
    "\n",
    "# Pretvaranje Laplasijan matrice u graf Laplasijane\n",
    "#L_graph = nx.from_scipy_sparse_array(L)\n",
    "#print(L_graph)\n",
    "# Iscrtajte graf Laplasijane\n",
    "#nx.draw(L_graph, with_labels=True, node_color='lightblue', font_weight='bold')\n",
    "#plt.show()"
   ]
  },
  {
   "cell_type": "raw",
   "id": "1813f771",
   "metadata": {},
   "source": [
    "2. Sprovesti sprektralnu analizu i proceniti potencijalne kandidate za broj komuna u mreži.\n",
    "Uporediti rezultat sa dendogramom konstruisanim Girvan-Newman metodom."
   ]
  },
  {
   "cell_type": "code",
   "execution_count": 64,
   "id": "eb8a10dd",
   "metadata": {},
   "outputs": [],
   "source": [
    "from scipy.linalg import eigh\n",
    "\n",
    "eigenvalues, eigenvectors = np.linalg.eig(L_array)\n",
    "#eigenvalues, eigenvectors = eigh(L_array)"
   ]
  },
  {
   "cell_type": "code",
   "execution_count": 47,
   "id": "5917dfae",
   "metadata": {},
   "outputs": [
    {
     "name": "stdout",
     "output_type": "stream",
     "text": [
      "Sopstvene vrednosti:\n",
      "[5.27223905e-15 7.69652726e-04 1.13289731e-03 ... 9.87053839e+00\n",
      " 1.00677283e+01 1.01137278e+01]\n",
      "\n",
      "Sopstveni vektori:\n",
      "[[-1.78914067e-02 -2.69313996e-03  2.35396948e-03 ... -8.16314631e-07\n",
      "   4.72839003e-08 -1.73281860e-08]\n",
      " [-1.78914067e-02 -2.69255918e-03  2.35270568e-03 ...  6.32926123e-06\n",
      "  -2.38942552e-07  5.50458483e-08]\n",
      " [-1.78914067e-02 -2.69164795e-03  2.35256648e-03 ...  9.55744173e-08\n",
      "  -1.42531110e-07  8.55503348e-08]\n",
      " ...\n",
      " [-1.78914067e-02 -6.16264525e-03  1.61221648e-02 ...  1.07613594e-19\n",
      "   5.29613791e-19  4.72134206e-18]\n",
      " [-1.78914067e-02 -6.17528734e-03  1.62122055e-02 ...  1.32175000e-19\n",
      "   6.45767643e-19  5.74199525e-18]\n",
      " [-1.78914067e-02 -6.14526006e-03  1.60138592e-02 ... -9.82684306e-19\n",
      "  -4.93969719e-18 -4.40762784e-17]]\n"
     ]
    }
   ],
   "source": [
    "sorted_indices = np.argsort(eigenvalues)\n",
    "eigenvalues = eigenvalues[sorted_indices]\n",
    "eigenvectors = eigenvectors[:, sorted_indices]\n",
    "\n",
    "# Prikaz rezultata\n",
    "print(\"Sopstvene vrednosti:\")\n",
    "print(eigenvalues)\n",
    "print(\"\\nSopstveni vektori:\")\n",
    "print(eigenvectors)"
   ]
  },
  {
   "cell_type": "code",
   "execution_count": 81,
   "id": "dab6e4a3",
   "metadata": {},
   "outputs": [
    {
     "data": {
      "image/png": "[encoded data removed]",
      "text/plain": [
       "<Figure size 640x480 with 1 Axes>"
      ]
     },
     "metadata": {},
     "output_type": "display_data"
    }
   ],
   "source": [
    "import numpy as np\n",
    "import matplotlib.pyplot as plt\n",
    "from sklearn.cluster import KMeans\n",
    "\n",
    "# Pravimo praznu listu za vrednosti inercije\n",
    "inertia_values = []\n",
    "\n",
    "# Pokušavamo različite brojeve klastera od 2 do 10 (možete promeniti opseg)\n",
    "for num_clusters in range(2, 11):\n",
    "    kmeans = KMeans(n_clusters=num_clusters)\n",
    "    kmeans.fit(similarity_matrix)\n",
    "    inertia_values.append(kmeans.inertia_)\n",
    "\n",
    "# Prikazujemo graf vrednosti inercije u zavisnosti od broja klastera\n",
    "plt.plot(range(2, 11), inertia_values, marker='o')\n",
    "plt.title('Graf vrednosti inercije')\n",
    "plt.xlabel('Broj klastera')\n",
    "plt.ylabel('Inercija')\n",
    "plt.show()\n"
   ]
  },
  {
   "cell_type": "code",
   "execution_count": 52,
   "id": "c5448491",
   "metadata": {},
   "outputs": [
    {
     "ename": "KeyboardInterrupt",
     "evalue": "",
     "output_type": "error",
     "traceback": [
      "\u001b[1;31m---------------------------------------------------------------------------\u001b[0m",
      "\u001b[1;31mKeyboardInterrupt\u001b[0m                         Traceback (most recent call last)",
      "\u001b[1;32m~\\AppData\\Local\\Temp\\ipykernel_20960\\3654843810.py\u001b[0m in \u001b[0;36m<module>\u001b[1;34m\u001b[0m\n\u001b[0;32m      9\u001b[0m \u001b[1;33m\u001b[0m\u001b[0m\n\u001b[0;32m     10\u001b[0m \u001b[1;31m# Nacrtajte dendrogram komuna za odabrani nivo\u001b[0m\u001b[1;33m\u001b[0m\u001b[1;33m\u001b[0m\u001b[0m\n\u001b[1;32m---> 11\u001b[1;33m \u001b[1;32mfor\u001b[0m \u001b[0mcommunities_at_level\u001b[0m \u001b[1;32min\u001b[0m \u001b[0mitertools\u001b[0m\u001b[1;33m.\u001b[0m\u001b[0mislice\u001b[0m\u001b[1;33m(\u001b[0m\u001b[0mcomp\u001b[0m\u001b[1;33m,\u001b[0m \u001b[0mlevel\u001b[0m\u001b[1;33m,\u001b[0m \u001b[1;32mNone\u001b[0m\u001b[1;33m)\u001b[0m\u001b[1;33m:\u001b[0m\u001b[1;33m\u001b[0m\u001b[1;33m\u001b[0m\u001b[0m\n\u001b[0m\u001b[0;32m     12\u001b[0m     \u001b[0mdendrogram\u001b[0m \u001b[1;33m=\u001b[0m \u001b[0mlist\u001b[0m\u001b[1;33m(\u001b[0m\u001b[0msorted\u001b[0m\u001b[1;33m(\u001b[0m\u001b[0mc\u001b[0m\u001b[1;33m)\u001b[0m \u001b[1;32mfor\u001b[0m \u001b[0mc\u001b[0m \u001b[1;32min\u001b[0m \u001b[0mcommunities_at_level\u001b[0m\u001b[1;33m)\u001b[0m\u001b[1;33m\u001b[0m\u001b[1;33m\u001b[0m\u001b[0m\n\u001b[0;32m     13\u001b[0m     \u001b[0mprint\u001b[0m\u001b[1;33m(\u001b[0m\u001b[1;34m\"Dendrogram komuna na nivou\"\u001b[0m\u001b[1;33m,\u001b[0m \u001b[0mlevel\u001b[0m\u001b[1;33m)\u001b[0m\u001b[1;33m\u001b[0m\u001b[1;33m\u001b[0m\u001b[0m\n",
      "\u001b[1;32m~\\anaconda3\\lib\\site-packages\\networkx\\algorithms\\community\\centrality.py\u001b[0m in \u001b[0;36mgirvan_newman\u001b[1;34m(G, most_valuable_edge)\u001b[0m\n\u001b[0;32m    145\u001b[0m     \u001b[0mg\u001b[0m\u001b[1;33m.\u001b[0m\u001b[0mremove_edges_from\u001b[0m\u001b[1;33m(\u001b[0m\u001b[0mnx\u001b[0m\u001b[1;33m.\u001b[0m\u001b[0mselfloop_edges\u001b[0m\u001b[1;33m(\u001b[0m\u001b[0mg\u001b[0m\u001b[1;33m)\u001b[0m\u001b[1;33m)\u001b[0m\u001b[1;33m\u001b[0m\u001b[1;33m\u001b[0m\u001b[0m\n\u001b[0;32m    146\u001b[0m     \u001b[1;32mwhile\u001b[0m \u001b[0mg\u001b[0m\u001b[1;33m.\u001b[0m\u001b[0mnumber_of_edges\u001b[0m\u001b[1;33m(\u001b[0m\u001b[1;33m)\u001b[0m \u001b[1;33m>\u001b[0m \u001b[1;36m0\u001b[0m\u001b[1;33m:\u001b[0m\u001b[1;33m\u001b[0m\u001b[1;33m\u001b[0m\u001b[0m\n\u001b[1;32m--> 147\u001b[1;33m         \u001b[1;32myield\u001b[0m \u001b[0m_without_most_central_edges\u001b[0m\u001b[1;33m(\u001b[0m\u001b[0mg\u001b[0m\u001b[1;33m,\u001b[0m \u001b[0mmost_valuable_edge\u001b[0m\u001b[1;33m)\u001b[0m\u001b[1;33m\u001b[0m\u001b[1;33m\u001b[0m\u001b[0m\n\u001b[0m\u001b[0;32m    148\u001b[0m \u001b[1;33m\u001b[0m\u001b[0m\n\u001b[0;32m    149\u001b[0m \u001b[1;33m\u001b[0m\u001b[0m\n",
      "\u001b[1;32m~\\anaconda3\\lib\\site-packages\\networkx\\algorithms\\community\\centrality.py\u001b[0m in \u001b[0;36m_without_most_central_edges\u001b[1;34m(G, most_valuable_edge)\u001b[0m\n\u001b[0;32m    164\u001b[0m     \u001b[0mnum_new_components\u001b[0m \u001b[1;33m=\u001b[0m \u001b[0moriginal_num_components\u001b[0m\u001b[1;33m\u001b[0m\u001b[1;33m\u001b[0m\u001b[0m\n\u001b[0;32m    165\u001b[0m     \u001b[1;32mwhile\u001b[0m \u001b[0mnum_new_components\u001b[0m \u001b[1;33m<=\u001b[0m \u001b[0moriginal_num_components\u001b[0m\u001b[1;33m:\u001b[0m\u001b[1;33m\u001b[0m\u001b[1;33m\u001b[0m\u001b[0m\n\u001b[1;32m--> 166\u001b[1;33m         \u001b[0medge\u001b[0m \u001b[1;33m=\u001b[0m \u001b[0mmost_valuable_edge\u001b[0m\u001b[1;33m(\u001b[0m\u001b[0mG\u001b[0m\u001b[1;33m)\u001b[0m\u001b[1;33m\u001b[0m\u001b[1;33m\u001b[0m\u001b[0m\n\u001b[0m\u001b[0;32m    167\u001b[0m         \u001b[0mG\u001b[0m\u001b[1;33m.\u001b[0m\u001b[0mremove_edge\u001b[0m\u001b[1;33m(\u001b[0m\u001b[1;33m*\u001b[0m\u001b[0medge\u001b[0m\u001b[1;33m)\u001b[0m\u001b[1;33m\u001b[0m\u001b[1;33m\u001b[0m\u001b[0m\n\u001b[0;32m    168\u001b[0m         \u001b[0mnew_components\u001b[0m \u001b[1;33m=\u001b[0m \u001b[0mtuple\u001b[0m\u001b[1;33m(\u001b[0m\u001b[0mnx\u001b[0m\u001b[1;33m.\u001b[0m\u001b[0mconnected_components\u001b[0m\u001b[1;33m(\u001b[0m\u001b[0mG\u001b[0m\u001b[1;33m)\u001b[0m\u001b[1;33m)\u001b[0m\u001b[1;33m\u001b[0m\u001b[1;33m\u001b[0m\u001b[0m\n",
      "\u001b[1;32m~\\anaconda3\\lib\\site-packages\\networkx\\algorithms\\community\\centrality.py\u001b[0m in \u001b[0;36mmost_valuable_edge\u001b[1;34m(G)\u001b[0m\n\u001b[0;32m    136\u001b[0m             \u001b[1;31m# We have guaranteed that the graph is non-empty, so this\u001b[0m\u001b[1;33m\u001b[0m\u001b[1;33m\u001b[0m\u001b[0m\n\u001b[0;32m    137\u001b[0m             \u001b[1;31m# dictionary will never be empty.\u001b[0m\u001b[1;33m\u001b[0m\u001b[1;33m\u001b[0m\u001b[0m\n\u001b[1;32m--> 138\u001b[1;33m             \u001b[0mbetweenness\u001b[0m \u001b[1;33m=\u001b[0m \u001b[0mnx\u001b[0m\u001b[1;33m.\u001b[0m\u001b[0medge_betweenness_centrality\u001b[0m\u001b[1;33m(\u001b[0m\u001b[0mG\u001b[0m\u001b[1;33m)\u001b[0m\u001b[1;33m\u001b[0m\u001b[1;33m\u001b[0m\u001b[0m\n\u001b[0m\u001b[0;32m    139\u001b[0m             \u001b[1;32mreturn\u001b[0m \u001b[0mmax\u001b[0m\u001b[1;33m(\u001b[0m\u001b[0mbetweenness\u001b[0m\u001b[1;33m,\u001b[0m \u001b[0mkey\u001b[0m\u001b[1;33m=\u001b[0m\u001b[0mbetweenness\u001b[0m\u001b[1;33m.\u001b[0m\u001b[0mget\u001b[0m\u001b[1;33m)\u001b[0m\u001b[1;33m\u001b[0m\u001b[1;33m\u001b[0m\u001b[0m\n\u001b[0;32m    140\u001b[0m \u001b[1;33m\u001b[0m\u001b[0m\n",
      "\u001b[1;32m~\\anaconda3\\lib\\site-packages\\networkx\\utils\\decorators.py\u001b[0m in \u001b[0;36margmap_edge_betweenness_centrality_51\u001b[1;34m(G, k, normalized, weight, seed)\u001b[0m\n\u001b[0;32m      2\u001b[0m \u001b[1;32mimport\u001b[0m \u001b[0mcollections\u001b[0m\u001b[1;33m\u001b[0m\u001b[1;33m\u001b[0m\u001b[0m\n\u001b[0;32m      3\u001b[0m \u001b[1;32mimport\u001b[0m \u001b[0mgzip\u001b[0m\u001b[1;33m\u001b[0m\u001b[1;33m\u001b[0m\u001b[0m\n\u001b[1;32m----> 4\u001b[1;33m \u001b[1;32mimport\u001b[0m \u001b[0minspect\u001b[0m\u001b[1;33m\u001b[0m\u001b[1;33m\u001b[0m\u001b[0m\n\u001b[0m\u001b[0;32m      5\u001b[0m \u001b[1;32mimport\u001b[0m \u001b[0mitertools\u001b[0m\u001b[1;33m\u001b[0m\u001b[1;33m\u001b[0m\u001b[0m\n\u001b[0;32m      6\u001b[0m \u001b[1;32mimport\u001b[0m \u001b[0mre\u001b[0m\u001b[1;33m\u001b[0m\u001b[1;33m\u001b[0m\u001b[0m\n",
      "\u001b[1;32m~\\anaconda3\\lib\\site-packages\\networkx\\algorithms\\centrality\\betweenness.py\u001b[0m in \u001b[0;36medge_betweenness_centrality\u001b[1;34m(G, k, normalized, weight, seed)\u001b[0m\n\u001b[0;32m    227\u001b[0m         \u001b[1;31m# single source shortest paths\u001b[0m\u001b[1;33m\u001b[0m\u001b[1;33m\u001b[0m\u001b[0m\n\u001b[0;32m    228\u001b[0m         \u001b[1;32mif\u001b[0m \u001b[0mweight\u001b[0m \u001b[1;32mis\u001b[0m \u001b[1;32mNone\u001b[0m\u001b[1;33m:\u001b[0m  \u001b[1;31m# use BFS\u001b[0m\u001b[1;33m\u001b[0m\u001b[1;33m\u001b[0m\u001b[0m\n\u001b[1;32m--> 229\u001b[1;33m             \u001b[0mS\u001b[0m\u001b[1;33m,\u001b[0m \u001b[0mP\u001b[0m\u001b[1;33m,\u001b[0m \u001b[0msigma\u001b[0m\u001b[1;33m,\u001b[0m \u001b[0m_\u001b[0m \u001b[1;33m=\u001b[0m \u001b[0m_single_source_shortest_path_basic\u001b[0m\u001b[1;33m(\u001b[0m\u001b[0mG\u001b[0m\u001b[1;33m,\u001b[0m \u001b[0ms\u001b[0m\u001b[1;33m)\u001b[0m\u001b[1;33m\u001b[0m\u001b[1;33m\u001b[0m\u001b[0m\n\u001b[0m\u001b[0;32m    230\u001b[0m         \u001b[1;32melse\u001b[0m\u001b[1;33m:\u001b[0m  \u001b[1;31m# use Dijkstra's algorithm\u001b[0m\u001b[1;33m\u001b[0m\u001b[1;33m\u001b[0m\u001b[0m\n\u001b[0;32m    231\u001b[0m             \u001b[0mS\u001b[0m\u001b[1;33m,\u001b[0m \u001b[0mP\u001b[0m\u001b[1;33m,\u001b[0m \u001b[0msigma\u001b[0m\u001b[1;33m,\u001b[0m \u001b[0m_\u001b[0m \u001b[1;33m=\u001b[0m \u001b[0m_single_source_dijkstra_path_basic\u001b[0m\u001b[1;33m(\u001b[0m\u001b[0mG\u001b[0m\u001b[1;33m,\u001b[0m \u001b[0ms\u001b[0m\u001b[1;33m,\u001b[0m \u001b[0mweight\u001b[0m\u001b[1;33m)\u001b[0m\u001b[1;33m\u001b[0m\u001b[1;33m\u001b[0m\u001b[0m\n",
      "\u001b[1;32m~\\anaconda3\\lib\\site-packages\\networkx\\algorithms\\centrality\\betweenness.py\u001b[0m in \u001b[0;36m_single_source_shortest_path_basic\u001b[1;34m(G, s)\u001b[0m\n\u001b[0;32m    258\u001b[0m     \u001b[0mP\u001b[0m \u001b[1;33m=\u001b[0m \u001b[1;33m{\u001b[0m\u001b[1;33m}\u001b[0m\u001b[1;33m\u001b[0m\u001b[1;33m\u001b[0m\u001b[0m\n\u001b[0;32m    259\u001b[0m     \u001b[1;32mfor\u001b[0m \u001b[0mv\u001b[0m \u001b[1;32min\u001b[0m \u001b[0mG\u001b[0m\u001b[1;33m:\u001b[0m\u001b[1;33m\u001b[0m\u001b[1;33m\u001b[0m\u001b[0m\n\u001b[1;32m--> 260\u001b[1;33m         \u001b[0mP\u001b[0m\u001b[1;33m[\u001b[0m\u001b[0mv\u001b[0m\u001b[1;33m]\u001b[0m \u001b[1;33m=\u001b[0m \u001b[1;33m[\u001b[0m\u001b[1;33m]\u001b[0m\u001b[1;33m\u001b[0m\u001b[1;33m\u001b[0m\u001b[0m\n\u001b[0m\u001b[0;32m    261\u001b[0m     \u001b[0msigma\u001b[0m \u001b[1;33m=\u001b[0m \u001b[0mdict\u001b[0m\u001b[1;33m.\u001b[0m\u001b[0mfromkeys\u001b[0m\u001b[1;33m(\u001b[0m\u001b[0mG\u001b[0m\u001b[1;33m,\u001b[0m \u001b[1;36m0.0\u001b[0m\u001b[1;33m)\u001b[0m  \u001b[1;31m# sigma[v]=0 for v in G\u001b[0m\u001b[1;33m\u001b[0m\u001b[1;33m\u001b[0m\u001b[0m\n\u001b[0;32m    262\u001b[0m     \u001b[0mD\u001b[0m \u001b[1;33m=\u001b[0m \u001b[1;33m{\u001b[0m\u001b[1;33m}\u001b[0m\u001b[1;33m\u001b[0m\u001b[1;33m\u001b[0m\u001b[0m\n",
      "\u001b[1;31mKeyboardInterrupt\u001b[0m: "
     ]
    }
   ],
   "source": [
    "from networkx.algorithms.community import girvan_newman\n",
    "import itertools\n",
    "\n",
    "comp = girvan_newman(G)\n",
    "\n",
    "level = 3\n",
    "\n",
    "for communities_at_level in itertools.islice(comp, level, None):\n",
    "    dendrogram = list(sorted(c) for c in communities_at_level)\n",
    "    print(\"Dendrogram komuna na nivou\", level)\n",
    "    print(dendrogram)\n",
    "\n",
    "plt.legend()\n",
    "plt.show()"
   ]
  },
  {
   "cell_type": "raw",
   "id": "537d5ab9",
   "metadata": {},
   "source": [
    "3. Izvršiti spektralno klasterisanje na osnovu konstruisanih funkcija sličnosti i procenjenog\n",
    "broja klastera. Vizuelizovati klasterisanje na mapi gradskog saobraćaja, tako što će se\n",
    "stanice koje su svrstane u isti klaster crtati istom bojom. Izabrati boje koje daju dobar\n",
    "kontrast u odnosu na mapu i boje drugih klastera."
   ]
  },
  {
   "cell_type": "code",
   "execution_count": 74,
   "id": "59647804",
   "metadata": {},
   "outputs": [
    {
     "name": "stdout",
     "output_type": "stream",
     "text": [
      "Rezultati klasterisanja:\n",
      "[1 1 1 ... 3 3 3]\n",
      "3124\n"
     ]
    }
   ],
   "source": [
    "from sklearn.cluster import SpectralClustering\n",
    "\n",
    "# Spektralno klasterisanje\n",
    "spectral_clustering = SpectralClustering(n_clusters=5, affinity='precomputed_nearest_neighbors')\n",
    "cluster_labels = spectral_clustering.fit_predict(similarity_matrix)\n",
    "\n",
    "# Rezultati klasterisanja\n",
    "print(\"Rezultati klasterisanja:\")\n",
    "print(cluster_labels)\n",
    "print(len(cluster_labels))\n",
    "\n",
    "file_name = \"rezultati_klasterisanja.txt\"\n",
    "\n",
    "with open(file_name, \"w\") as file:\n",
    "    for label in cluster_labels:\n",
    "        file.write(f\"{label}\\n\")"
   ]
  },
  {
   "cell_type": "code",
   "execution_count": 75,
   "id": "968128ea",
   "metadata": {},
   "outputs": [],
   "source": [
    "import folium\n",
    "import pandas as pd\n",
    "\n",
    "stopsPath = \"../Desktop/asmPodaci/stops.txt\"\n",
    "data = pd.read_csv(stopsPath)\n",
    "stop_ids_to_remove = [1243, 1245, 1247, 3735, 3737, 3757]\n",
    "data = data[~data['stop_id'].isin(stop_ids_to_remove)]\n",
    "data['cluster_label'] = cluster_labels\n",
    "#print(data)\n",
    "\n",
    "m = folium.Map(location=[data['stop_lat'].mean(), data['stop_lon'].mean()], zoom_start=13)\n",
    "\n",
    "cluster_colors = ['#e6194B', '#3cb44b', '#ffe119', '#4363d8', '#f58231', '#911eb4', '#42d4f4']\n",
    "\n",
    "for index, row in data.iterrows():\n",
    "    label = row['cluster_label']\n",
    "    color = cluster_colors[label]\n",
    "    folium.CircleMarker(\n",
    "        location=[row['stop_lat'], row['stop_lon']],\n",
    "        radius=5,\n",
    "        color=color,\n",
    "        fill=True,\n",
    "        fill_color=color,\n",
    "        fill_opacity=0.7,\n",
    "        popup=row['stop_name']\n",
    "    ).add_to(m)\n",
    "\n",
    "m.save(\"Lmreza_mapa.html\")"
   ]
  },
  {
   "cell_type": "code",
   "execution_count": null,
   "id": "ba2d3d4d",
   "metadata": {},
   "outputs": [],
   "source": []
  }
 ],
 "metadata": {
  "kernelspec": {
   "display_name": "Python 3 (ipykernel)",
   "language": "python",
   "name": "python3"
  },
  "language_info": {
   "codemirror_mode": {
    "name": "ipython",
    "version": 3
   },
   "file_extension": ".py",
   "mimetype": "text/x-python",
   "name": "python",
   "nbconvert_exporter": "python",
   "pygments_lexer": "ipython3",
   "version": "3.9.13"
  }
 },
 "nbformat": 4,
 "nbformat_minor": 5
}
